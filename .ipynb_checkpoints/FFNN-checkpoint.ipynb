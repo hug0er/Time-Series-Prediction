{
 "cells": [
  {
   "cell_type": "code",
   "execution_count": 21,
   "metadata": {},
   "outputs": [],
   "source": [
    "from keras.datasets import cifar10\n",
    "from keras.models import Sequential\n",
    "from keras.layers import Dense, Dropout\n",
    "from keras.utils.np_utils import to_categorical\n",
    "from keras.callbacks import EarlyStopping\n",
    "from sklearn.preprocessing import MinMaxScaler \n",
    "import pandas as pd \n",
    "import numpy as np\n",
    "import matplotlib \n",
    "import matplotlib.pyplot as plt\n",
    "import time\n",
    "import sys\n",
    "%matplotlib inline\n",
    "import random\n",
    "import copy\n",
    "import logging\n",
    "from tqdm import tqdm\n",
    "from keras.models import Sequential\n",
    "from keras.layers import Dense, Dropout\n",
    "from keras.utils.np_utils import to_categorical\n",
    "from keras.callbacks import EarlyStopping\n",
    "\n",
    "# Setup logging.\n",
    "logger = logging.getLogger()\n",
    "fhandler = logging.FileHandler(filename='mylog.log', mode='a')\n",
    "formatter = logging.Formatter('%(asctime)s - %(name)s - %(levelname)s - %(message)s')\n",
    "fhandler.setFormatter(formatter)\n",
    "logger.addHandler(fhandler)\n",
    "logger.setLevel(logging.DEBUG)\n",
    "\n"
   ]
  },
  {
   "cell_type": "code",
   "execution_count": 35,
   "metadata": {},
   "outputs": [
    {
     "name": "stderr",
     "output_type": "stream",
     "text": [
      "C:\\Users\\hug0er\\Anaconda3\\lib\\site-packages\\sklearn\\utils\\validation.py:595: DataConversionWarning: Data with input dtype int64 was converted to float64 by MinMaxScaler.\n",
      "  warnings.warn(msg, DataConversionWarning)\n"
     ]
    },
    {
     "data": {
      "text/plain": [
       "array([[0.50234742],\n",
       "       [0.19835681],\n",
       "       [0.40023474],\n",
       "       [0.3943662 ],\n",
       "       [0.26995305],\n",
       "       [0.20950704],\n",
       "       [0.26525822],\n",
       "       [0.26877934],\n",
       "       [0.21420188],\n",
       "       [0.27230047],\n",
       "       [0.21185446],\n",
       "       [0.38673709],\n",
       "       [0.24765258],\n",
       "       [0.        ],\n",
       "       [0.39671362],\n",
       "       [0.15610329],\n",
       "       [0.20774648],\n",
       "       [0.26115023],\n",
       "       [0.30164319],\n",
       "       [0.38556338],\n",
       "       [0.29929577],\n",
       "       [0.29107981],\n",
       "       [0.29812207],\n",
       "       [0.6120892 ],\n",
       "       [0.62558685],\n",
       "       [0.19659624],\n",
       "       [0.48943662],\n",
       "       [0.30985915],\n",
       "       [0.41079812],\n",
       "       [0.3350939 ],\n",
       "       [0.38849765],\n",
       "       [0.50117371],\n",
       "       [0.25352113],\n",
       "       [0.41021127],\n",
       "       [0.32042254],\n",
       "       [0.36619718],\n",
       "       [0.5       ],\n",
       "       [0.21830986],\n",
       "       [0.36619718],\n",
       "       [0.29342723],\n",
       "       [0.38967136],\n",
       "       [0.29518779],\n",
       "       [0.37676056],\n",
       "       [0.49119718],\n",
       "       [0.22769953],\n",
       "       [0.46948357],\n",
       "       [0.29870892],\n",
       "       [0.5915493 ],\n",
       "       [0.49589202],\n",
       "       [0.22887324],\n",
       "       [0.53051643],\n",
       "       [0.37617371],\n",
       "       [0.47887324],\n",
       "       [0.39495305],\n",
       "       [0.53579812],\n",
       "       [0.592723  ],\n",
       "       [0.37030516],\n",
       "       [0.58978873],\n",
       "       [0.42488263],\n",
       "       [0.68603286],\n",
       "       [0.60446009],\n",
       "       [0.34741784],\n",
       "       [0.50997653],\n",
       "       [0.47828638],\n",
       "       [0.48474178],\n",
       "       [0.532277  ],\n",
       "       [0.68251174],\n",
       "       [0.54284038],\n",
       "       [0.50410798],\n",
       "       [0.65140845],\n",
       "       [0.44659624],\n",
       "       [0.74295775],\n",
       "       [0.73532864],\n",
       "       [0.5915493 ],\n",
       "       [0.77347418],\n",
       "       [0.48474178],\n",
       "       [0.51584507],\n",
       "       [0.57276995],\n",
       "       [0.60622066],\n",
       "       [0.75      ],\n",
       "       [0.57453052],\n",
       "       [0.76760563],\n",
       "       [0.6713615 ],\n",
       "       [0.91021127],\n",
       "       [0.71068075],\n",
       "       [0.51349765],\n",
       "       [0.84213615],\n",
       "       [0.49589202],\n",
       "       [0.57922535],\n",
       "       [0.64964789],\n",
       "       [0.56220657],\n",
       "       [0.72769953],\n",
       "       [0.52640845],\n",
       "       [0.71713615],\n",
       "       [0.61678404],\n",
       "       [1.        ],\n",
       "       [0.65551643],\n",
       "       [0.39143192],\n",
       "       [0.6778169 ],\n",
       "       [0.52347418],\n",
       "       [0.64612676],\n",
       "       [0.5915493 ],\n",
       "       [0.67723005],\n",
       "       [0.85328638],\n",
       "       [0.47652582],\n",
       "       [0.65023474],\n",
       "       [0.50880282],\n",
       "       [0.56983568],\n",
       "       [0.64260563],\n",
       "       [0.25410798],\n",
       "       [0.51877934],\n",
       "       [0.41079812],\n",
       "       [0.51467136],\n",
       "       [0.54049296],\n",
       "       [0.65669014],\n",
       "       [0.69542254],\n",
       "       [0.53521127],\n",
       "       [0.66138498],\n",
       "       [0.51467136],\n",
       "       [0.68838028],\n",
       "       [0.66431925],\n",
       "       [0.44424883],\n",
       "       [0.63028169],\n",
       "       [0.52053991],\n",
       "       [0.56807512],\n",
       "       [0.55809859],\n",
       "       [0.68779343],\n",
       "       [0.64906103],\n",
       "       [0.54049296],\n",
       "       [0.7435446 ],\n",
       "       [0.57805164],\n",
       "       [0.83098592],\n",
       "       [0.57159624],\n",
       "       [0.45774648],\n",
       "       [0.79870892],\n",
       "       [0.52640845],\n",
       "       [0.57159624],\n",
       "       [0.56748826],\n",
       "       [0.69953052],\n",
       "       [0.69366197],\n",
       "       [0.68720657],\n",
       "       [0.7036385 ],\n",
       "       [0.68309859],\n",
       "       [0.82335681]])"
      ]
     },
     "execution_count": 35,
     "metadata": {},
     "output_type": "execute_result"
    }
   ],
   "source": [
    "class TimeSeriesNN3():\n",
    "    def __init__(self,STEPS_AHEAD ,NUMBER_TESTING , SERIE, WINDOW):\n",
    "        self.STEPS_AHEAD = STEPS_AHEAD\n",
    "        self.WINDOW = WINDOW\n",
    "        self.NUMBER_TESTING = NUMBER_TESTING\n",
    "        self.SERIE = SERIE\n",
    "        self.SIZE = SERIE.shape[0]\n",
    "        self.NUMBER_TRAINING = self.SIZE - self.NUMBER_TESTING\n",
    "    \n",
    "    def divide_testing (self):\n",
    "        return (self.SERIE[:self.NUMBER_TRAINING],self.SERIE[self.NUMBER_TRAINING:])\n",
    "    \n",
    "    def divide_validation (self,serie):\n",
    "        experimentx = np.zeros((len(serie) - self.WINDOW -self.STEPS_AHEAD + 1, self.WINDOW))\n",
    "        experimenty = np.zeros((len(serie) - self.WINDOW -self.STEPS_AHEAD + 1,1))\n",
    "        cnt =  0\n",
    "        cnt2 = 0\n",
    "        #serie = serie.reset_index(drop = True)\n",
    "        for i in range (experimentx.shape[0]):\n",
    "            cnt += cnt2\n",
    "            for j in range (self.WINDOW):\n",
    "                experimentx[i][j] = serie[cnt]\n",
    "                cnt += 1   \n",
    "            experimenty[i] = serie[cnt + self.STEPS_AHEAD - 1]\n",
    "            cnt = 0\n",
    "            cnt2 += 1           \n",
    "        return (experimentx, experimenty)\n",
    "    \n",
    "    def batch (self):\n",
    "        training,testing = self.divide_testing()\n",
    "        tex,tey = self.divide_validation(testing)\n",
    "        tx,ty = self.divide_validation(training)        \n",
    "        return (tx,ty) , (tex,tey)\n",
    "training_data = pd.read_excel(\"NN3_FINAL_DATASET_WITH_TEST_DATA.xlsx\",sheet_name=\"Hoja 1\")\n",
    "training_data\n",
    "Serie_1 = training_data.iloc[:, 0:1].values\n",
    "Serie_1\n",
    "scaler = MinMaxScaler(feature_range = (0, 1))\n",
    "Serie_1 = scaler.fit_transform(Serie_1)  \n",
    "Serie_1"
   ]
  },
  {
   "cell_type": "code",
   "execution_count": null,
   "metadata": {},
   "outputs": [],
   "source": []
  },
  {
   "cell_type": "code",
   "execution_count": 36,
   "metadata": {},
   "outputs": [],
   "source": [
    "class Optimizer():\n",
    "    \"\"\"Class that implements genetic algorithm for MLP optimization.\"\"\"\n",
    "\n",
    "    def __init__(self, nn_param_choices, retain=0.4,\n",
    "                 random_select=0.1, mutate_chance=0.2):\n",
    "        \"\"\"Create an optimizer.\n",
    "\n",
    "        Args:\n",
    "            nn_param_choices (dict): Possible network paremters\n",
    "            retain (float): Percentage of population to retain after\n",
    "                each generation\n",
    "            random_select (float): Probability of a rejected network\n",
    "                remaining in the population\n",
    "            mutate_chance (float): Probability a network will be\n",
    "                randomly mutated\n",
    "\n",
    "        \"\"\"\n",
    "        self.mutate_chance = mutate_chance\n",
    "        self.random_select = random_select\n",
    "        self.retain = retain\n",
    "        self.nn_param_choices = nn_param_choices\n",
    "\n",
    "    def create_population(self, count):\n",
    "        \"\"\"Create a population of random networks.\n",
    "\n",
    "        Args:\n",
    "            count (int): Number of networks to generate, aka the\n",
    "                size of the population\n",
    "\n",
    "        Returns:\n",
    "            (list): Population of network objects\n",
    "\n",
    "        \"\"\"\n",
    "        pop = []\n",
    "        for _ in range(0, count):\n",
    "            # Create a random network.\n",
    "            network = Network(self.nn_param_choices)\n",
    "            network.create_random()\n",
    "\n",
    "            # Add the network to our population.\n",
    "            pop.append(network)\n",
    "\n",
    "        return pop\n",
    "\n",
    "    @staticmethod\n",
    "    def fitness(network):\n",
    "        \"\"\"Return the accuracy, which is our fitness function.\"\"\"\n",
    "        return network.accuracy\n",
    "\n",
    "    def grade(self, pop):\n",
    "        \"\"\"Find average fitness for a population.\n",
    "\n",
    "        Args:\n",
    "            pop (list): The population of networks\n",
    "\n",
    "        Returns:\n",
    "            (float): The average accuracy of the population\n",
    "\n",
    "        \"\"\"\n",
    "        summed = reduce(add, (self.fitness(network) for network in pop))\n",
    "        return summed / float((len(pop)))\n",
    "\n",
    "    def breed(self, mother, father):\n",
    "        \"\"\"Make two children as parts of their parents.\n",
    "\n",
    "        Args:\n",
    "            mother (dict): Network parameters\n",
    "            father (dict): Network parameters\n",
    "\n",
    "        Returns:\n",
    "            (list): Two network objects\n",
    "\n",
    "        \"\"\"\n",
    "        children = []\n",
    "        for _ in range(2):\n",
    "\n",
    "            child = {}\n",
    "\n",
    "            # Loop through the parameters and pick params for the kid.\n",
    "            for param in self.nn_param_choices:\n",
    "                child[param] = random.choice(\n",
    "                    [mother.network[param], father.network[param]]\n",
    "                )\n",
    "\n",
    "            # Now create a network object.\n",
    "            network = Network(self.nn_param_choices)\n",
    "            network.create_set(child)\n",
    "\n",
    "            # Randomly mutate some of the children.\n",
    "            if self.mutate_chance > random.random():\n",
    "                network = self.mutate(network)\n",
    "\n",
    "            children.append(network)\n",
    "\n",
    "        return children\n",
    "\n",
    "    def mutate(self, network):\n",
    "        \"\"\"Randomly mutate one part of the network.\n",
    "\n",
    "        Args:\n",
    "            network (dict): The network parameters to mutate\n",
    "\n",
    "        Returns:\n",
    "            (Network): A randomly mutated network object\n",
    "\n",
    "        \"\"\"\n",
    "        # Choose a random key.\n",
    "        mutation = random.choice(list(self.nn_param_choices.keys()))\n",
    "\n",
    "        # Mutate one of the params.\n",
    "        network.network[mutation] = random.choice(self.nn_param_choices[mutation])\n",
    "\n",
    "        return network\n",
    "\n",
    "    def evolve(self, pop):\n",
    "        \"\"\"Evolve a population of networks.\n",
    "\n",
    "        Args:\n",
    "            pop (list): A list of network parameters\n",
    "\n",
    "        Returns:\n",
    "            (list): The evolved population of networks\n",
    "\n",
    "        \"\"\"\n",
    "        # Get scores for each network.\n",
    "        graded = [(self.fitness(network), network) for network in pop]\n",
    "\n",
    "        # Sort on the scores.\n",
    "        graded = [x[1] for x in sorted(graded, key=lambda x: x[0], reverse=True)]\n",
    "\n",
    "        # Get the number we want to keep for the next gen.\n",
    "        retain_length = int(len(graded)*self.retain)\n",
    "\n",
    "        # The parents are every network we want to keep.\n",
    "        parents = graded[:retain_length]\n",
    "\n",
    "        # For those we aren't keeping, randomly keep some anyway.\n",
    "        for individual in graded[retain_length:]:\n",
    "            if self.random_select > random.random():\n",
    "                parents.append(individual)\n",
    "\n",
    "        # Now find out how many spots we have left to fill.\n",
    "        parents_length = len(parents)\n",
    "        desired_length = len(pop) - parents_length\n",
    "        children = []\n",
    "\n",
    "        # Add children, which are bred from two remaining networks.\n",
    "        while len(children) < desired_length:\n",
    "\n",
    "            # Get a random mom and dad.\n",
    "            male = random.randint(0, parents_length-1)\n",
    "            female = random.randint(0, parents_length-1)\n",
    "\n",
    "            # Assuming they aren't the same network...\n",
    "            if male != female:\n",
    "                male = parents[male]\n",
    "                female = parents[female]\n",
    "\n",
    "                # Breed them.\n",
    "                babies = self.breed(male, female)\n",
    "\n",
    "                # Add the children one at a time.\n",
    "                for baby in babies:\n",
    "                    # Don't grow larger than desired length.\n",
    "                    if len(children) < desired_length:\n",
    "                        children.append(baby)\n",
    "\n",
    "        parents.extend(children)\n",
    "\n",
    "        return parents"
   ]
  },
  {
   "cell_type": "code",
   "execution_count": 37,
   "metadata": {},
   "outputs": [],
   "source": [
    "class Network():\n",
    "    \"\"\"Represent a network and let us operate on it.\n",
    "\n",
    "    Currently only works for an MLP.\n",
    "    \"\"\"\n",
    "\n",
    "    def __init__(self, nn_param_choices=None):\n",
    "        \"\"\"Initialize our network.\n",
    "\n",
    "        Args:\n",
    "            nn_param_choices (dict): Parameters for the network, includes:\n",
    "                nb_neurons (list): [64, 128, 256]\n",
    "                nb_layers (list): [1, 2, 3, 4]\n",
    "                activation (list): ['relu', 'elu']\n",
    "                optimizer (list): ['rmsprop', 'adam']\n",
    "        \"\"\"\n",
    "        self.accuracy = 0.\n",
    "        self.nn_param_choices = nn_param_choices\n",
    "        self.network = {}  # (dic): represents MLP network parameters\n",
    "\n",
    "    def create_random(self):\n",
    "        \"\"\"Create a random network.\"\"\"\n",
    "        for key in self.nn_param_choices:\n",
    "            self.network[key] = random.choice(self.nn_param_choices[key])\n",
    "\n",
    "    def create_set(self, network):\n",
    "        \"\"\"Set network properties.\n",
    "\n",
    "        Args:\n",
    "            network (dict): The network parameters\n",
    "\n",
    "        \"\"\"\n",
    "        self.network = network\n",
    "\n",
    "    def train(self):\n",
    "        \"\"\"Train the network and record the accuracy.\n",
    "\n",
    "        Args:\n",
    "            dataset (str): Name of dataset to use.\n",
    "\n",
    "        \"\"\"\n",
    "        if self.accuracy == 0.:\n",
    "            self.accuracy = 1/train_and_score(self.network)\n",
    "\n",
    "    def print_network(self):\n",
    "        \"\"\"Print out a network.\"\"\"\n",
    "        logging.info(self.network)\n",
    "        logging.info(\"Network accuracy: %.2f%%\" % (self.accuracy * 100))"
   ]
  },
  {
   "cell_type": "code",
   "execution_count": 38,
   "metadata": {},
   "outputs": [],
   "source": [
    "\n",
    "\n",
    "# Helper: Early stopping.\n",
    "early_stopper = EarlyStopping(patience=5)\n",
    "\n",
    "\n",
    "def compile_model(network, nb_classes):\n",
    "    \"\"\"Compile a sequential model.\n",
    "\n",
    "    Args:\n",
    "        network (dict): the parameters of the network\n",
    "\n",
    "    Returns:\n",
    "        a compiled network.\n",
    "\n",
    "    \"\"\"\n",
    "    # Get our network parameters.\n",
    "    nb_layers = network['nb_layers']\n",
    "    nb_neurons = network['nb_neurons']\n",
    "    i_neurons = network['i_neurons']\n",
    "    activation = network['activation']\n",
    "    optimizer = network['optimizer']\n",
    "\n",
    "    model = Sequential()\n",
    "    input_shape = (i_neurons, )\n",
    "    \n",
    "  \n",
    "\n",
    "    # Add each layer.\n",
    "    for i in range(nb_layers):\n",
    "\n",
    "        # Need input shape for first layer.\n",
    "        if i == 0:\n",
    "            model.add(Dense(nb_neurons, activation=activation, input_shape=input_shape))\n",
    "        else:\n",
    "            model.add(Dense(nb_neurons, activation=activation))\n",
    "\n",
    "        model.add(Dropout(0.2))  # hard-coded dropout\n",
    "\n",
    "    # Output layer.\n",
    "    model.add(Dense(nb_classes, activation=activation))\n",
    "\n",
    "    model.compile(loss='mean_squared_error', optimizer=optimizer,metrics=['mean_squared_error'])\n",
    "\n",
    "    return model\n",
    "\n",
    "def train_and_score(network):\n",
    "    \"\"\"Train the model, return test loss.\n",
    "\n",
    "    Args:\n",
    "        network (dict): the parameters of the network\n",
    "        dataset (str): Dataset to use for training/evaluating\n",
    "\n",
    "    \"\"\"\n",
    "    batch_size = 1\n",
    "    i_neurons = network['i_neurons']\n",
    "    # Set defaults.\n",
    "    serie1 = TimeSeriesNN3(1,14,Serie_1,i_neurons)\n",
    "\n",
    "    # Get the data.\n",
    "    (x_train, y_train), (x_test, y_test) = serie1.batch()\n",
    "    x_train = x_train.astype('float32')\n",
    "    x_test = x_test.astype('float32')\n",
    "\n",
    "    model = compile_model(network, 1)\n",
    "\n",
    "    model.fit(x_train, y_train,\n",
    "              batch_size=batch_size,\n",
    "              epochs=10000,  # using early stopping, so no real limit\n",
    "              verbose=0,\n",
    "              validation_data=(x_test, y_test),\n",
    "              callbacks=[early_stopper])\n",
    "\n",
    "    score = model.evaluate(x_test, y_test, verbose=0)\n",
    "    print(score)\n",
    "\n",
    "    return score[1]  # 1 is accuracy. 0 is loss."
   ]
  },
  {
   "cell_type": "code",
   "execution_count": 39,
   "metadata": {},
   "outputs": [],
   "source": [
    "\n",
    "def train_networks(networks):\n",
    "    \"\"\"Train each network.\n",
    "\n",
    "    Args:\n",
    "        networks (list): Current population of networks\n",
    "        dataset (str): Dataset to use for training/evaluating\n",
    "    \"\"\"\n",
    "    pbar = tqdm(total=len(networks))\n",
    "    for network in networks:\n",
    "        network.train()\n",
    "        pbar.update(1)\n",
    "    pbar.close()\n",
    "\n",
    "def get_average_accuracy(networks):\n",
    "    \"\"\"Get the average accuracy for a group of networks.\n",
    "\n",
    "    Args:\n",
    "        networks (list): List of networks\n",
    "\n",
    "    Returns:\n",
    "        float: The average accuracy of a population of networks.\n",
    "\n",
    "    \"\"\"\n",
    "    total_accuracy = 0\n",
    "    for network in networks:\n",
    "        total_accuracy += network.accuracy\n",
    "\n",
    "    return total_accuracy / len(networks)\n",
    "\n",
    "def generate(generations, population, nn_param_choices):\n",
    "    \"\"\"Generate a network with the genetic algorithm.\n",
    "\n",
    "    Args:\n",
    "        generations (int): Number of times to evole the population\n",
    "        population (int): Number of networks in each generation\n",
    "        nn_param_choices (dict): Parameter choices for networks\n",
    "        dataset (str): Dataset to use for training/evaluating\n",
    "\n",
    "    \"\"\"\n",
    "    optimizer = Optimizer(nn_param_choices)\n",
    "    networks = optimizer.create_population(population)\n",
    "\n",
    "    # Evolve the generation.\n",
    "    for i in range(generations):\n",
    "        logging.info(\"***Doing generation %d of %d***\" %\n",
    "                     (i + 1, generations))\n",
    "\n",
    "        # Train and get accuracy for networks.\n",
    "        train_networks(networks)\n",
    "\n",
    "        # Get the average accuracy for this generation.\n",
    "        average_accuracy = get_average_accuracy(networks)\n",
    "\n",
    "        # Print out the average accuracy each generation.\n",
    "        logging.info(\"Generation average: %.2f%%\" % (average_accuracy * 100))\n",
    "        logging.info('-'*80)\n",
    "\n",
    "        # Evolve, except on the last iteration.\n",
    "        if (i != generations - 1):\n",
    "            # Do the evolution.\n",
    "            networks = optimizer.evolve(networks)\n",
    "\n",
    "    # Sort our final population.\n",
    "    networks = sorted(networks, key=lambda x: x.accuracy, reverse=True)\n",
    "\n",
    "    # Print out the top 5 networks.\n",
    "    print_networks(networks[:5])\n",
    "    print(networks[:5])\n",
    "\n",
    "def print_networks(networks):\n",
    "    \"\"\"Print a list of networks.\n",
    "\n",
    "    Args:\n",
    "        networks (list): The population of networks\n",
    "\n",
    "    \"\"\"\n",
    "    logging.info('-'*80)\n",
    "    for network in networks:\n",
    "        network.print_network()\n",
    "\n",
    "def main():\n",
    "    generations = 5  # Number of times to evole the population.\n",
    "    population = 20  # Number of networks in each generation.\n",
    "\n",
    "    nn_param_choices = {\n",
    "        'nb_neurons': [4,6,8,10,12,16,20],\n",
    "        'i_neurons': [4,8,12],\n",
    "        'nb_layers': [1, 2, 3, 4],\n",
    "        'activation': ['relu', 'elu', 'tanh', 'sigmoid'],\n",
    "        'optimizer': ['adam', 'sgd'],\n",
    "    }\n",
    "\n",
    "    logging.info(\"***Evolving %d generations with population %d***\" %\n",
    "                 (generations, population))\n",
    "\n",
    "    generate(generations, population, nn_param_choices)\n",
    "\n"
   ]
  },
  {
   "cell_type": "code",
   "execution_count": 40,
   "metadata": {},
   "outputs": [
    {
     "name": "stderr",
     "output_type": "stream",
     "text": [
      "INFO:root:***Evolving 5 generations with population 20***\n",
      "INFO:root:***Doing generation 1 of 5***\n",
      "\n",
      "\n",
      "\n",
      "  0%|          | 0/20 [00:00<?, ?it/s]"
     ]
    },
    {
     "name": "stdout",
     "output_type": "stream",
     "text": [
      "[0.053869377821683884, 0.053869377821683884]\n"
     ]
    },
    {
     "name": "stderr",
     "output_type": "stream",
     "text": [
      "\n",
      "\n",
      "\n",
      "  5%|▌         | 1/20 [00:38<12:15, 38.69s/it]"
     ]
    },
    {
     "name": "stdout",
     "output_type": "stream",
     "text": [
      "[0.029016613960266113, 0.029016613960266113]\n"
     ]
    },
    {
     "name": "stderr",
     "output_type": "stream",
     "text": [
      "\n",
      "\n",
      "\n",
      " 10%|█         | 2/20 [01:14<11:18, 37.71s/it]"
     ]
    },
    {
     "name": "stdout",
     "output_type": "stream",
     "text": [
      "[0.03724903613328934, 0.03724903613328934]\n"
     ]
    },
    {
     "name": "stderr",
     "output_type": "stream",
     "text": [
      "\n",
      "\n",
      "\n",
      " 15%|█▌        | 3/20 [01:45<10:08, 35.79s/it]"
     ]
    },
    {
     "name": "stdout",
     "output_type": "stream",
     "text": [
      "[0.05531243979930878, 0.05531243979930878]\n"
     ]
    },
    {
     "name": "stderr",
     "output_type": "stream",
     "text": [
      "\n",
      "\n",
      "\n",
      " 20%|██        | 4/20 [02:34<10:35, 39.72s/it]"
     ]
    },
    {
     "name": "stdout",
     "output_type": "stream",
     "text": [
      "[0.04614495858550072, 0.04614495858550072]\n"
     ]
    },
    {
     "name": "stderr",
     "output_type": "stream",
     "text": [
      "\n",
      "\n",
      "\n",
      " 25%|██▌       | 5/20 [03:30<11:08, 44.55s/it]"
     ]
    },
    {
     "name": "stdout",
     "output_type": "stream",
     "text": [
      "[0.010440991260111332, 0.010440991260111332]\n"
     ]
    },
    {
     "name": "stderr",
     "output_type": "stream",
     "text": [
      "\n",
      "\n",
      "\n",
      " 30%|███       | 6/20 [04:02<09:33, 40.94s/it]"
     ]
    },
    {
     "name": "stdout",
     "output_type": "stream",
     "text": [
      "[0.02480442449450493, 0.02480442449450493]\n"
     ]
    },
    {
     "name": "stderr",
     "output_type": "stream",
     "text": [
      "\n",
      "\n",
      "\n",
      " 35%|███▌      | 7/20 [04:42<08:46, 40.47s/it]"
     ]
    },
    {
     "name": "stdout",
     "output_type": "stream",
     "text": [
      "[0.03802204132080078, 0.03802204132080078]\n"
     ]
    },
    {
     "name": "stderr",
     "output_type": "stream",
     "text": [
      "\n",
      "\n",
      "\n",
      " 40%|████      | 8/20 [05:16<07:42, 38.55s/it]"
     ]
    },
    {
     "name": "stdout",
     "output_type": "stream",
     "text": [
      "[0.061881016939878464, 0.061881016939878464]\n"
     ]
    },
    {
     "name": "stderr",
     "output_type": "stream",
     "text": [
      "\n",
      "\n",
      "\n",
      " 45%|████▌     | 9/20 [05:48<06:44, 36.73s/it]"
     ]
    },
    {
     "name": "stdout",
     "output_type": "stream",
     "text": [
      "[0.041250865906476974, 0.041250865906476974]\n"
     ]
    },
    {
     "name": "stderr",
     "output_type": "stream",
     "text": [
      "\n",
      "\n",
      "\n",
      " 50%|█████     | 10/20 [06:35<06:37, 39.77s/it]"
     ]
    },
    {
     "name": "stdout",
     "output_type": "stream",
     "text": [
      "[0.018904510885477066, 0.018904510885477066]\n"
     ]
    },
    {
     "name": "stderr",
     "output_type": "stream",
     "text": [
      "\n",
      "\n",
      "\n",
      " 55%|█████▌    | 11/20 [07:22<06:16, 41.89s/it]"
     ]
    },
    {
     "name": "stdout",
     "output_type": "stream",
     "text": [
      "[0.03557064011693001, 0.03557064011693001]\n"
     ]
    },
    {
     "name": "stderr",
     "output_type": "stream",
     "text": [
      "\n",
      "\n",
      "\n",
      " 60%|██████    | 12/20 [08:01<05:29, 41.17s/it]"
     ]
    },
    {
     "name": "stdout",
     "output_type": "stream",
     "text": [
      "[0.007985587231814861, 0.007985587231814861]\n"
     ]
    },
    {
     "name": "stderr",
     "output_type": "stream",
     "text": [
      "\n",
      "\n",
      "\n",
      " 65%|██████▌   | 13/20 [08:40<04:42, 40.32s/it]"
     ]
    },
    {
     "name": "stdout",
     "output_type": "stream",
     "text": [
      "[0.04288390651345253, 0.04288390651345253]\n"
     ]
    },
    {
     "name": "stderr",
     "output_type": "stream",
     "text": [
      "\n",
      "\n",
      "\n",
      " 70%|███████   | 14/20 [09:20<04:02, 40.36s/it]"
     ]
    },
    {
     "name": "stdout",
     "output_type": "stream",
     "text": [
      "[0.06579882651567459, 0.06579882651567459]\n"
     ]
    },
    {
     "name": "stderr",
     "output_type": "stream",
     "text": [
      "\n",
      "\n",
      "\n",
      " 75%|███████▌  | 15/20 [09:57<03:16, 39.22s/it]"
     ]
    },
    {
     "name": "stdout",
     "output_type": "stream",
     "text": [
      "[0.06383472681045532, 0.06383472681045532]\n"
     ]
    },
    {
     "name": "stderr",
     "output_type": "stream",
     "text": [
      "\n",
      "\n",
      "\n",
      " 80%|████████  | 16/20 [10:30<02:30, 37.51s/it]"
     ]
    },
    {
     "name": "stdout",
     "output_type": "stream",
     "text": [
      "[0.017857084050774574, 0.017857084050774574]\n"
     ]
    },
    {
     "name": "stderr",
     "output_type": "stream",
     "text": [
      "\n",
      "\n",
      "\n",
      " 85%|████████▌ | 17/20 [11:08<01:53, 37.70s/it]"
     ]
    },
    {
     "name": "stdout",
     "output_type": "stream",
     "text": [
      "[0.041669055819511414, 0.041669055819511414]\n"
     ]
    },
    {
     "name": "stderr",
     "output_type": "stream",
     "text": [
      "\n",
      "\n",
      "\n",
      " 90%|█████████ | 18/20 [11:51<01:18, 39.25s/it]"
     ]
    },
    {
     "name": "stdout",
     "output_type": "stream",
     "text": [
      "[0.04644320532679558, 0.04644320532679558]\n"
     ]
    },
    {
     "name": "stderr",
     "output_type": "stream",
     "text": [
      "\n",
      "\n",
      "\n",
      " 95%|█████████▌| 19/20 [12:28<00:38, 38.41s/it]"
     ]
    },
    {
     "name": "stdout",
     "output_type": "stream",
     "text": [
      "[0.015456626191735268, 0.015456626191735268]\n"
     ]
    },
    {
     "name": "stderr",
     "output_type": "stream",
     "text": [
      "\n",
      "\n",
      "\n",
      "100%|██████████| 20/20 [13:18<00:00, 42.01s/it]\n",
      "\n",
      "\n",
      "INFO:root:Generation average: 3745.31%\n",
      "INFO:root:--------------------------------------------------------------------------------\n",
      "INFO:root:***Doing generation 2 of 5***\n",
      "\n",
      "\n",
      "\n",
      "  0%|          | 0/20 [00:00<?, ?it/s]"
     ]
    },
    {
     "name": "stdout",
     "output_type": "stream",
     "text": [
      "[0.0326341912150383, 0.0326341912150383]\n"
     ]
    },
    {
     "name": "stderr",
     "output_type": "stream",
     "text": [
      "\n",
      "\n",
      "\n",
      " 50%|█████     | 10/20 [00:44<00:44,  4.49s/it]"
     ]
    },
    {
     "name": "stdout",
     "output_type": "stream",
     "text": [
      "[0.023513395339250565, 0.023513395339250565]\n"
     ]
    },
    {
     "name": "stderr",
     "output_type": "stream",
     "text": [
      "\n",
      "\n",
      "\n",
      " 55%|█████▌    | 11/20 [01:43<03:07, 20.80s/it]"
     ]
    },
    {
     "name": "stdout",
     "output_type": "stream",
     "text": [
      "[0.03123348392546177, 0.03123348392546177]\n"
     ]
    },
    {
     "name": "stderr",
     "output_type": "stream",
     "text": [
      "\n",
      "\n",
      "\n",
      " 60%|██████    | 12/20 [02:25<03:36, 27.08s/it]"
     ]
    },
    {
     "name": "stdout",
     "output_type": "stream",
     "text": [
      "[0.012886689975857735, 0.012886689975857735]\n"
     ]
    },
    {
     "name": "stderr",
     "output_type": "stream",
     "text": [
      "\n",
      "\n",
      "\n",
      " 65%|██████▌   | 13/20 [03:08<03:42, 31.76s/it]"
     ]
    },
    {
     "name": "stdout",
     "output_type": "stream",
     "text": [
      "[0.006080916151404381, 0.006080916151404381]\n"
     ]
    },
    {
     "name": "stderr",
     "output_type": "stream",
     "text": [
      "\n",
      "\n",
      "\n",
      " 70%|███████   | 14/20 [03:52<03:33, 35.57s/it]"
     ]
    },
    {
     "name": "stdout",
     "output_type": "stream",
     "text": [
      "[0.02325894683599472, 0.02325894683599472]\n"
     ]
    },
    {
     "name": "stderr",
     "output_type": "stream",
     "text": [
      "\n",
      "\n",
      "\n",
      " 75%|███████▌  | 15/20 [04:28<02:58, 35.66s/it]"
     ]
    },
    {
     "name": "stdout",
     "output_type": "stream",
     "text": [
      "[0.05730563402175903, 0.05730563402175903]\n"
     ]
    },
    {
     "name": "stderr",
     "output_type": "stream",
     "text": [
      "\n",
      "\n",
      "\n",
      " 80%|████████  | 16/20 [05:09<02:29, 37.37s/it]"
     ]
    },
    {
     "name": "stdout",
     "output_type": "stream",
     "text": [
      "[0.03454585745930672, 0.03454585745930672]\n"
     ]
    },
    {
     "name": "stderr",
     "output_type": "stream",
     "text": [
      "\n",
      "\n",
      "\n",
      " 85%|████████▌ | 17/20 [05:45<01:50, 36.88s/it]"
     ]
    },
    {
     "name": "stdout",
     "output_type": "stream",
     "text": [
      "[0.01050339825451374, 0.01050339825451374]\n"
     ]
    },
    {
     "name": "stderr",
     "output_type": "stream",
     "text": [
      "\n",
      "\n",
      "\n",
      " 90%|█████████ | 18/20 [06:47<01:28, 44.30s/it]"
     ]
    },
    {
     "name": "stdout",
     "output_type": "stream",
     "text": [
      "[0.03319666162133217, 0.03319666162133217]\n"
     ]
    },
    {
     "name": "stderr",
     "output_type": "stream",
     "text": [
      "\n",
      "\n",
      "\n",
      " 95%|█████████▌| 19/20 [07:24<00:42, 42.17s/it]"
     ]
    },
    {
     "name": "stdout",
     "output_type": "stream",
     "text": [
      "[0.035473667085170746, 0.035473667085170746]\n"
     ]
    },
    {
     "name": "stderr",
     "output_type": "stream",
     "text": [
      "\n",
      "\n",
      "\n",
      "100%|██████████| 20/20 [08:02<00:00, 40.81s/it]\n",
      "\n",
      "\n",
      "INFO:root:Generation average: 5569.69%\n",
      "INFO:root:--------------------------------------------------------------------------------\n",
      "INFO:root:***Doing generation 3 of 5***\n",
      "\n",
      "\n",
      "\n",
      "  0%|          | 0/20 [00:00<?, ?it/s]"
     ]
    },
    {
     "name": "stdout",
     "output_type": "stream",
     "text": [
      "[0.02358333393931389, 0.02358333393931389]\n"
     ]
    },
    {
     "name": "stderr",
     "output_type": "stream",
     "text": [
      "\n",
      "\n",
      "\n",
      " 45%|████▌     | 9/20 [00:38<00:47,  4.32s/it]"
     ]
    },
    {
     "name": "stdout",
     "output_type": "stream",
     "text": [
      "[0.01377139426767826, 0.01377139426767826]\n"
     ]
    },
    {
     "name": "stderr",
     "output_type": "stream",
     "text": [
      "\n",
      "\n",
      "\n",
      " 50%|█████     | 10/20 [01:18<02:29, 14.96s/it]"
     ]
    },
    {
     "name": "stdout",
     "output_type": "stream",
     "text": [
      "[0.017944661900401115, 0.017944661900401115]\n"
     ]
    },
    {
     "name": "stderr",
     "output_type": "stream",
     "text": [
      "\n",
      "\n",
      "\n",
      " 55%|█████▌    | 11/20 [02:04<03:38, 24.30s/it]"
     ]
    },
    {
     "name": "stdout",
     "output_type": "stream",
     "text": [
      "[0.013645106926560402, 0.013645106926560402]\n"
     ]
    },
    {
     "name": "stderr",
     "output_type": "stream",
     "text": [
      "\n",
      "\n",
      "\n",
      " 60%|██████    | 12/20 [02:44<03:51, 28.97s/it]"
     ]
    },
    {
     "name": "stdout",
     "output_type": "stream",
     "text": [
      "[0.021646538749337196, 0.021646538749337196]\n"
     ]
    },
    {
     "name": "stderr",
     "output_type": "stream",
     "text": [
      "\n",
      "\n",
      "\n",
      " 65%|██████▌   | 13/20 [03:36<04:10, 35.79s/it]"
     ]
    },
    {
     "name": "stdout",
     "output_type": "stream",
     "text": [
      "[0.003954154439270496, 0.003954154439270496]\n"
     ]
    },
    {
     "name": "stderr",
     "output_type": "stream",
     "text": [
      "\n",
      "\n",
      "\n",
      " 70%|███████   | 14/20 [04:17<03:44, 37.48s/it]"
     ]
    },
    {
     "name": "stdout",
     "output_type": "stream",
     "text": [
      "[0.01774321123957634, 0.01774321123957634]\n"
     ]
    },
    {
     "name": "stderr",
     "output_type": "stream",
     "text": [
      "\n",
      "\n",
      "\n",
      " 75%|███████▌  | 15/20 [04:59<03:13, 38.71s/it]"
     ]
    },
    {
     "name": "stdout",
     "output_type": "stream",
     "text": [
      "[0.010527660138905048, 0.010527660138905048]\n"
     ]
    },
    {
     "name": "stderr",
     "output_type": "stream",
     "text": [
      "\n",
      "\n",
      "\n",
      " 80%|████████  | 16/20 [05:40<02:37, 39.43s/it]"
     ]
    },
    {
     "name": "stdout",
     "output_type": "stream",
     "text": [
      "[0.0088247861713171, 0.0088247861713171]\n"
     ]
    },
    {
     "name": "stderr",
     "output_type": "stream",
     "text": [
      "\n",
      "\n",
      "\n",
      " 85%|████████▌ | 17/20 [06:36<02:12, 44.27s/it]"
     ]
    },
    {
     "name": "stdout",
     "output_type": "stream",
     "text": [
      "[0.020419590175151825, 0.020419590175151825]\n"
     ]
    },
    {
     "name": "stderr",
     "output_type": "stream",
     "text": [
      "\n",
      "\n",
      "\n",
      " 90%|█████████ | 18/20 [07:26<01:32, 46.10s/it]"
     ]
    },
    {
     "name": "stdout",
     "output_type": "stream",
     "text": [
      "[0.011032059788703918, 0.011032059788703918]\n"
     ]
    },
    {
     "name": "stderr",
     "output_type": "stream",
     "text": [
      "\n",
      "\n",
      "\n",
      " 95%|█████████▌| 19/20 [08:22<00:49, 49.06s/it]"
     ]
    },
    {
     "name": "stdout",
     "output_type": "stream",
     "text": [
      "[0.010839357040822506, 0.010839357040822506]\n"
     ]
    },
    {
     "name": "stderr",
     "output_type": "stream",
     "text": [
      "\n",
      "\n",
      "\n",
      "100%|██████████| 20/20 [09:02<00:00, 46.36s/it]\n",
      "\n",
      "\n",
      "INFO:root:Generation average: 8857.58%\n",
      "INFO:root:--------------------------------------------------------------------------------\n",
      "INFO:root:***Doing generation 4 of 5***\n",
      "\n",
      "\n",
      "\n",
      "  0%|          | 0/20 [00:00<?, ?it/s]"
     ]
    },
    {
     "name": "stdout",
     "output_type": "stream",
     "text": [
      "[0.011534759774804115, 0.011534759774804115]\n"
     ]
    },
    {
     "name": "stderr",
     "output_type": "stream",
     "text": [
      "\n",
      "\n",
      "\n",
      " 70%|███████   | 14/20 [00:44<00:18,  3.16s/it]"
     ]
    },
    {
     "name": "stdout",
     "output_type": "stream",
     "text": [
      "[0.011723600327968597, 0.011723600327968597]\n"
     ]
    },
    {
     "name": "stderr",
     "output_type": "stream",
     "text": [
      "\n",
      "\n",
      "\n",
      " 75%|███████▌  | 15/20 [01:42<01:38, 19.69s/it]"
     ]
    },
    {
     "name": "stdout",
     "output_type": "stream",
     "text": [
      "[0.036917008459568024, 0.036917008459568024]\n"
     ]
    },
    {
     "name": "stderr",
     "output_type": "stream",
     "text": [
      "\n",
      "\n",
      "\n",
      " 80%|████████  | 16/20 [02:30<01:52, 28.11s/it]"
     ]
    },
    {
     "name": "stdout",
     "output_type": "stream",
     "text": [
      "[0.05940393730998039, 0.05940393730998039]\n"
     ]
    },
    {
     "name": "stderr",
     "output_type": "stream",
     "text": [
      "\n",
      "\n",
      "\n",
      " 85%|████████▌ | 17/20 [03:15<01:40, 33.35s/it]"
     ]
    },
    {
     "name": "stdout",
     "output_type": "stream",
     "text": [
      "[0.026702534407377243, 0.026702534407377243]\n"
     ]
    },
    {
     "name": "stderr",
     "output_type": "stream",
     "text": [
      "\n",
      "\n",
      "\n",
      " 90%|█████████ | 18/20 [03:59<01:12, 36.40s/it]"
     ]
    },
    {
     "name": "stdout",
     "output_type": "stream",
     "text": [
      "[0.017422884702682495, 0.017422884702682495]\n"
     ]
    },
    {
     "name": "stderr",
     "output_type": "stream",
     "text": [
      "\n",
      "\n",
      "\n",
      " 95%|█████████▌| 19/20 [04:40<00:37, 37.95s/it]"
     ]
    },
    {
     "name": "stdout",
     "output_type": "stream",
     "text": [
      "[0.004683904815465212, 0.004683904815465212]\n"
     ]
    },
    {
     "name": "stderr",
     "output_type": "stream",
     "text": [
      "\n",
      "\n",
      "\n",
      "100%|██████████| 20/20 [05:23<00:00, 39.27s/it]\n",
      "\n",
      "\n",
      "INFO:root:Generation average: 9529.07%\n",
      "INFO:root:--------------------------------------------------------------------------------\n",
      "INFO:root:***Doing generation 5 of 5***\n",
      "\n",
      "\n",
      "\n",
      "  0%|          | 0/20 [00:00<?, ?it/s]"
     ]
    },
    {
     "name": "stdout",
     "output_type": "stream",
     "text": [
      "[0.01529933325946331, 0.01529933325946331]\n"
     ]
    },
    {
     "name": "stderr",
     "output_type": "stream",
     "text": [
      "\n",
      "\n",
      "\n",
      " 55%|█████▌    | 11/20 [00:45<00:37,  4.12s/it]"
     ]
    },
    {
     "name": "stdout",
     "output_type": "stream",
     "text": [
      "[0.007979365065693855, 0.007979365065693855]\n"
     ]
    },
    {
     "name": "stderr",
     "output_type": "stream",
     "text": [
      "\n",
      "\n",
      "\n",
      " 60%|██████    | 12/20 [01:29<02:08, 16.02s/it]"
     ]
    },
    {
     "name": "stdout",
     "output_type": "stream",
     "text": [
      "[0.0108965914696455, 0.0108965914696455]\n"
     ]
    },
    {
     "name": "stderr",
     "output_type": "stream",
     "text": [
      "\n",
      "\n",
      "\n",
      " 65%|██████▌   | 13/20 [02:15<02:55, 25.07s/it]"
     ]
    },
    {
     "name": "stdout",
     "output_type": "stream",
     "text": [
      "[0.023670319467782974, 0.023670319467782974]\n"
     ]
    },
    {
     "name": "stderr",
     "output_type": "stream",
     "text": [
      "\n",
      "\n",
      "\n",
      " 70%|███████   | 14/20 [02:59<03:05, 30.89s/it]"
     ]
    },
    {
     "name": "stdout",
     "output_type": "stream",
     "text": [
      "[0.020934009924530983, 0.020934009924530983]\n"
     ]
    },
    {
     "name": "stderr",
     "output_type": "stream",
     "text": [
      "\n",
      "\n",
      "\n",
      " 75%|███████▌  | 15/20 [03:40<02:49, 33.81s/it]"
     ]
    },
    {
     "name": "stdout",
     "output_type": "stream",
     "text": [
      "[0.02249736525118351, 0.02249736525118351]\n"
     ]
    },
    {
     "name": "stderr",
     "output_type": "stream",
     "text": [
      "\n",
      "\n",
      "\n",
      " 80%|████████  | 16/20 [04:24<02:27, 36.75s/it]"
     ]
    },
    {
     "name": "stdout",
     "output_type": "stream",
     "text": [
      "[0.0117447255179286, 0.0117447255179286]\n"
     ]
    },
    {
     "name": "stderr",
     "output_type": "stream",
     "text": [
      "\n",
      "\n",
      "\n",
      " 85%|████████▌ | 17/20 [05:31<02:17, 45.86s/it]"
     ]
    },
    {
     "name": "stdout",
     "output_type": "stream",
     "text": [
      "[0.01976480707526207, 0.01976480707526207]\n"
     ]
    },
    {
     "name": "stderr",
     "output_type": "stream",
     "text": [
      "\n",
      "\n",
      "\n",
      " 90%|█████████ | 18/20 [06:16<01:31, 45.78s/it]"
     ]
    },
    {
     "name": "stdout",
     "output_type": "stream",
     "text": [
      "[0.00920033361762762, 0.00920033361762762]\n"
     ]
    },
    {
     "name": "stderr",
     "output_type": "stream",
     "text": [
      "\n",
      "\n",
      "\n",
      " 95%|█████████▌| 19/20 [07:04<00:46, 46.31s/it]"
     ]
    },
    {
     "name": "stdout",
     "output_type": "stream",
     "text": [
      "[0.007948540151119232, 0.007948540151119232]\n"
     ]
    },
    {
     "name": "stderr",
     "output_type": "stream",
     "text": [
      "\n",
      "\n",
      "\n",
      "100%|██████████| 20/20 [07:59<00:00, 49.08s/it]\n",
      "\n",
      "\n",
      "INFO:root:Generation average: 10135.03%\n",
      "INFO:root:--------------------------------------------------------------------------------\n",
      "INFO:root:--------------------------------------------------------------------------------\n",
      "INFO:root:{'nb_neurons': 20, 'i_neurons': 12, 'nb_layers': 2, 'activation': 'tanh', 'optimizer': 'adam'}\n",
      "INFO:root:Network accuracy: 25289.86%\n",
      "INFO:root:{'nb_neurons': 8, 'i_neurons': 12, 'nb_layers': 1, 'activation': 'tanh', 'optimizer': 'sgd'}\n",
      "INFO:root:Network accuracy: 21349.71%\n",
      "INFO:root:{'nb_neurons': 20, 'i_neurons': 12, 'nb_layers': 2, 'activation': 'tanh', 'optimizer': 'adam'}\n",
      "INFO:root:Network accuracy: 16444.89%\n",
      "INFO:root:{'nb_neurons': 20, 'i_neurons': 4, 'nb_layers': 2, 'activation': 'tanh', 'optimizer': 'adam'}\n",
      "INFO:root:Network accuracy: 12580.93%\n",
      "INFO:root:{'nb_neurons': 20, 'i_neurons': 4, 'nb_layers': 2, 'activation': 'tanh', 'optimizer': 'adam'}\n",
      "INFO:root:Network accuracy: 12532.33%\n"
     ]
    },
    {
     "name": "stdout",
     "output_type": "stream",
     "text": [
      "[<__main__.Network object at 0x0000020724C55E48>, <__main__.Network object at 0x00000207334B4710>, <__main__.Network object at 0x000002071E32F898>, <__main__.Network object at 0x0000020738326208>, <__main__.Network object at 0x00000207380C2588>]\n"
     ]
    }
   ],
   "source": [
    "main()\n",
    "\n",
    "\n",
    "    "
   ]
  },
  {
   "cell_type": "code",
   "execution_count": 42,
   "metadata": {},
   "outputs": [
    {
     "name": "stdout",
     "output_type": "stream",
     "text": [
      "[0.007869798690080643, 0.007869798690080643]\n"
     ]
    }
   ],
   "source": [
    "batch_size = 1\n",
    "i_neurons = 12\n",
    "nb_layers = 2\n",
    "nb_neurons = 20\n",
    "activation = 'tanh'\n",
    "optimizer = 'adam'\n",
    "nb_classes = 1\n",
    "\n",
    "\n",
    "\n",
    "model = Sequential()\n",
    "input_shape = (i_neurons, )\n",
    "\n",
    "\n",
    "\n",
    "# Add each layer.\n",
    "for i in range(nb_layers):\n",
    "\n",
    "    # Need input shape for first layer.\n",
    "    if i == 0:\n",
    "        model.add(Dense(nb_neurons, activation=activation, input_shape=input_shape))\n",
    "    else:\n",
    "        model.add(Dense(nb_neurons, activation=activation))\n",
    "\n",
    "    model.add(Dropout(0.2))  # hard-coded dropout\n",
    "\n",
    "# Output layer.\n",
    "model.add(Dense(nb_classes, activation=activation))\n",
    "\n",
    "model.compile(loss='mean_squared_error', optimizer=optimizer,metrics=['mean_squared_error'])\n",
    "\n",
    "\n",
    "# Set defaults.\n",
    "serie1 = TimeSeriesNN3(1,14,Serie_1,i_neurons)\n",
    "\n",
    "# Get the data.\n",
    "(x_train, y_train), (x_test, y_test) = serie1.batch()\n",
    "x_train = x_train.astype('float32')\n",
    "x_test = x_test.astype('float32')\n",
    "\n",
    "\n",
    "model.fit(x_train, y_train,\n",
    "          batch_size=batch_size,\n",
    "          epochs=10000,  # using early stopping, so no real limit\n",
    "          verbose=0,\n",
    "          validation_data=(x_test, y_test),\n",
    "          callbacks=[early_stopper])\n",
    "\n",
    "score = model.evaluate(x_test, y_test, verbose=0)\n",
    "print(score)"
   ]
  },
  {
   "cell_type": "code",
   "execution_count": 43,
   "metadata": {},
   "outputs": [
    {
     "name": "stderr",
     "output_type": "stream",
     "text": [
      "DEBUG:matplotlib.axes._base:update_title_pos\n",
      "DEBUG:matplotlib.axes._base:update_title_pos\n",
      "DEBUG:matplotlib.axes._base:update_title_pos\n",
      "DEBUG:matplotlib.axes._base:update_title_pos\n"
     ]
    },
    {
     "data": {
      "image/png": "[encoded data removed]",
      "text/plain": [
       "<Figure size 720x432 with 1 Axes>"
      ]
     },
     "metadata": {
      "needs_background": "light"
     },
     "output_type": "display_data"
    }
   ],
   "source": [
    "predictions = model.predict(x_train)  \n",
    "predictions = scaler.inverse_transform(predictions) \n",
    "labelsf = scaler.inverse_transform( y_train) \n",
    "plt.figure(figsize=(10,6))  \n",
    "plt.plot(labelsf, color='blue', label='Actual ')  \n",
    "plt.plot(predictions , color='red', label='Predicted ')  \n",
    "plt.title('Prediction')  \n",
    "plt.xlabel('Date')  \n",
    "plt.ylabel('Stock Price')  \n",
    "plt.legend()  \n",
    "plt.show()  "
   ]
  }
 ],
 "metadata": {
  "kernelspec": {
   "display_name": "Python 3",
   "language": "python",
   "name": "python3"
  },
  "language_info": {
   "codemirror_mode": {
    "name": "ipython",
    "version": 3
   },
   "file_extension": ".py",
   "mimetype": "text/x-python",
   "name": "python",
   "nbconvert_exporter": "python",
   "pygments_lexer": "ipython3",
   "version": "3.7.1"
  }
 },
 "nbformat": 4,
 "nbformat_minor": 2
}
