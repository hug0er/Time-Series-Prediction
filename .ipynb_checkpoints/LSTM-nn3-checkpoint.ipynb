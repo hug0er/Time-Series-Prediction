{
 "cells": [
  {
   "cell_type": "code",
   "execution_count": 1,
   "metadata": {},
   "outputs": [],
   "source": [
    "import numpy as np\n",
    "import random\n",
    "import tensorflow as tf\n",
    "import tensorflow.contrib.layers as layers\n",
    "import matplotlib.pyplot as plt\n",
    "import pandas as pd"
   ]
  },
  {
   "cell_type": "code",
   "execution_count": 2,
   "metadata": {},
   "outputs": [],
   "source": [
    "################################################################################\n",
    "##                           LEER DATOS SERIE                                 ##\n",
    "################################################################################\n",
    "\n",
    "class TimeSeriesNN3():\n",
    "    def __init__(self,STEPS_AHEAD ,NUMBER_TESTING ,PERCENTAGE_VALIDATION, SERIE, WINDOW):\n",
    "        self.STEPS_AHEAD = STEPS_AHEAD\n",
    "        self.WINDOW = WINDOW\n",
    "        self.NUMBER_TESTING = NUMBER_TESTING\n",
    "        self.PERCENTAGE_VALIDATION = PERCENTAGE_VALIDATION\n",
    "        self.SERIE = SERIE\n",
    "        self.SIZE = SERIE.shape[0]\n",
    "        self.NUMBER_VALIDATION = 0\n",
    "        self.NUMBER_TRAINING = self.SIZE - self.NUMBER_TESTING\n",
    "        if (PERCENTAGE_VALIDATION != 0):\n",
    "            self.NUMBER_VALIDATION = int(self.NUMBER_TRAINING/self.PERCENTAGE_VALIDATION)\n",
    "        self.NUMBER_TRAINING_F = self.NUMBER_TRAINING - self.NUMBER_VALIDATION - self.WINDOW\n",
    "    \n",
    "    def divide_testing (self):\n",
    "        return (self.SERIE[:self.NUMBER_TRAINING],self.SERIE[self.NUMBER_TRAINING:])\n",
    "    \n",
    "    def divide_validation (self,serie, random):\n",
    "        experimentx = np.zeros((self.NUMBER_TRAINING - self.WINDOW , self.WINDOW))\n",
    "        experimenty = np.zeros((self.NUMBER_TRAINING - self.WINDOW,1))\n",
    "        cnt =  0\n",
    "        cnt2 = 0\n",
    "        for i in range (experimentx.shape[0]):\n",
    "            cnt += cnt2\n",
    "            for j in range (self.WINDOW):\n",
    "                experimentx[i][j] = self.SERIE[cnt]\n",
    "                cnt += 1\n",
    "            experimenty[i] = self.SERIE[cnt + self.STEPS_AHEAD - 1]\n",
    "            cnt = 0\n",
    "            cnt2 += 1      \n",
    "        if (random):\n",
    "            experimentx = np.concatenate((experimentx, experimenty), axis=1)\n",
    "            experimentx = np.random.permutation(experimentx)\n",
    "            experimentx, experimenty = np.hsplit(experimentx,[-1])   \n",
    "        \n",
    "        if (self.PERCENTAGE_VALIDATION == 0):\n",
    "            return (experimentx, experimenty, experimentx, experimenty)\n",
    "        else:\n",
    "            return (experimentx[:self.NUMBER_TRAINING_F], experimenty[:self.NUMBER_TRAINING_F], experimentx[self.NUMBER_TRAINING_F:], experimenty[self.NUMBER_TRAINING_F:])\n",
    "    \n",
    "    \n",
    "    def batch (self, boolean):\n",
    "        x,p = self.divide_testing()\n",
    "        w,x,y,z =self.divide_validation(x,boolean)\n",
    "        return (w,x,y,z,p)\n",
    "            \n",
    "\n",
    "            "
   ]
  },
  {
   "cell_type": "code",
   "execution_count": 3,
   "metadata": {},
   "outputs": [
    {
     "name": "stdout",
     "output_type": "stream",
     "text": [
      "WARNING:tensorflow:From <ipython-input-3-db7b01b10766>:34: BasicLSTMCell.__init__ (from tensorflow.python.ops.rnn_cell_impl) is deprecated and will be removed in a future version.\n",
      "Instructions for updating:\n",
      "This class is deprecated, please use tf.nn.rnn_cell.LSTMCell, which supports all the feature this cell currently has. Please replace the existing code with tf.nn.rnn_cell.LSTMCell(name='basic_lstm_cell').\n",
      "0 \tMSE: 0.00458591971740437\n",
      "1 \tMSE: 0.003678998525477558\n",
      "2 \tMSE: 0.0034460250863048714\n",
      "3 \tMSE: 0.0036222982174270633\n",
      "4 \tMSE: 0.003959861598559655\n",
      "5 \tMSE: 0.004338663862048027\n",
      "6 \tMSE: 0.004651392441398154\n",
      "7 \tMSE: 0.004861289761417235\n",
      "8 \tMSE: 0.004983223358673665\n",
      "9 \tMSE: 0.005045880699375023\n",
      "10 \tMSE: 0.005074374222507079\n",
      "11 \tMSE: 0.005085319600766525\n",
      "12 \tMSE: 0.00508600484560399\n",
      "13 \tMSE: 0.005075754248537123\n",
      "14 \tMSE: 0.005048769826923187\n"
     ]
    }
   ],
   "source": [
    "################################################################################\n",
    "##                           GRAPH DEFINITION                                 ##\n",
    "################################################################################\n",
    "\n",
    "PERCENTAGE_VALIDATION = 10\n",
    "NUMBER_TESTING        = 18\n",
    "STEPS_AHEAD           = 1\n",
    "WINDOW = 10\n",
    "training_data = pd.read_excel(\"NN3_FINAL_DATASET_WITH_TEST_DATA.xlsx\",sheet_name=\"Hoja 1\")\n",
    "Serie_1 = training_data[\"Serie 1\"]\n",
    "Serie_1_ORIGINAL = training_data[\"Serie 1\"]\n",
    "\n",
    "MAXIMO = np.amax(Serie_1)\n",
    "Serie_1 = Serie_1/np.amax(Serie_1)\n",
    "ACTIVATION =  tf.nn.sigmoid\n",
    "#print(Serie_1, Serie_1/np.amax(Serie_1),np.amax(Serie_1))\n",
    "\n",
    "INPUT_SIZE    = WINDOW      \n",
    "RNN_HIDDEN    = 100\n",
    "OUTPUT_SIZE   = 1       # 1 bit per timestep\n",
    "LEARNING_RATE = 0.01\n",
    "#n_layers      = 3\n",
    "EPOCH         = 15\n",
    "\n",
    "Serie1 = TimeSeriesNN3(STEPS_AHEAD ,NUMBER_TESTING ,PERCENTAGE_VALIDATION, Serie_1,10)\n",
    "tx,ty,vx,vy,p = Serie1.batch(False)\n",
    "\n",
    "X = tf.placeholder(tf.float32,[None,INPUT_SIZE,1])\n",
    "Y = tf.placeholder(tf.float32, (None,OUTPUT_SIZE))\n",
    "\n",
    "\n",
    "\n",
    "#cellForm = [tf.contrib.rnn.BasicLSTMCell(10, activation = ACTIVATION),tf.contrib.rnn.BasicLSTMCell(5, activation = ACTIVATION),tf.contrib.rnn.BasicLSTMCell(1, activation = ACTIVATION)]\n",
    "cellForm = [tf.contrib.rnn.BasicLSTMCell(10, activation = ACTIVATION)]\n",
    "cell= tf.contrib.rnn.OutputProjectionWrapper(tf.contrib.rnn.MultiRNNCell(cellForm),output_size=OUTPUT_SIZE )\n",
    "outputs, states = tf.nn.dynamic_rnn(cell, X, dtype=tf.float32)\n",
    "\n",
    "loss = tf.reduce_mean(tf.square(outputs[:,-1,:] - Y))\n",
    "optimizer = tf.train.AdamOptimizer(learning_rate=LEARNING_RATE)\n",
    "training_op = optimizer.minimize(loss)\n",
    "init = tf.global_variables_initializer()\n",
    "\n",
    "\n",
    "\n",
    "################################################################################\n",
    "##                           TRAINING LOOP                                    ##\n",
    "################################################################################\n",
    "\n",
    "prediction          = []\n",
    "n_iterations        = tx.shape[0] \n",
    "size_validation     = vx.shape[0]\n",
    "with tf.Session() as sess:\n",
    "    init.run()\n",
    "    for epoch in range (EPOCH):\n",
    "        mse = 0\n",
    "        for iteration in range(n_iterations):\n",
    "            X_batch, Y_batch = tx[iteration], ty[iteration]\n",
    "            X_batch = X_batch.reshape(1,INPUT_SIZE,1)\n",
    "            Y_batch = Y_batch.reshape(1,1)\n",
    "            #print(\"\\nBatch\",X_batch,\"\\nBatch\",Y_batch,\"\\n\")\n",
    "            sess.run(training_op, feed_dict={X: X_batch, Y: Y_batch})\n",
    "            #print(\"Numero de iteraciones: \", iteration,\"\\n\")\n",
    "        for iteration in range(size_validation):\n",
    "            vv1, vv2 = vx[iteration], vy[iteration]\n",
    "            vv1 = vv1.reshape(1,INPUT_SIZE,1)\n",
    "            vv2 = vv2.reshape(1,1)\n",
    "            mse += loss.eval(feed_dict={X: vv1, Y: vv2})\n",
    "            prediction.append(outputs.eval(feed_dict={X: vv1, Y: vv2})[:,-1,:])\n",
    "        print(epoch, \"\\tMSE:\", mse/size_validation)"
   ]
  },
  {
   "cell_type": "code",
   "execution_count": 4,
   "metadata": {},
   "outputs": [
    {
     "data": {
      "image/png": "[encoded data removed]",
      "text/plain": [
       "<Figure size 432x288 with 1 Axes>"
      ]
     },
     "metadata": {
      "needs_background": "light"
     },
     "output_type": "display_data"
    }
   ],
   "source": [
    "pp = np.array(prediction[-Serie1.NUMBER_VALIDATION:])\n",
    "pp = pp.reshape([Serie1.NUMBER_VALIDATION,1])\n",
    "plt.plot(Serie_1_ORIGINAL)\n",
    "plt.plot(np.arange(Serie1.NUMBER_TRAINING_F+Serie1.WINDOW,Serie1.NUMBER_TRAINING),vy.reshape(Serie1.NUMBER_VALIDATION)*MAXIMO,\"r\")\n",
    "plt.plot(np.arange(Serie1.NUMBER_TRAINING_F+Serie1.WINDOW,Serie1.NUMBER_TRAINING),pp[-Serie1.NUMBER_VALIDATION:]*MAXIMO,\"g\")\n",
    "plt.show()"
   ]
  },
  {
   "cell_type": "code",
   "execution_count": 21,
   "metadata": {},
   "outputs": [
    {
     "data": {
      "text/plain": [
       "array([[0.8156569 ],\n",
       "       [0.8133261 ],\n",
       "       [0.812456  ],\n",
       "       [0.8155103 ],\n",
       "       [0.81303954],\n",
       "       [0.8158768 ],\n",
       "       [0.8124933 ],\n",
       "       [0.8128765 ],\n",
       "       [0.81718916],\n",
       "       [0.8136137 ],\n",
       "       [0.81573206],\n",
       "       [0.81488097]], dtype=float32)"
      ]
     },
     "execution_count": 21,
     "metadata": {},
     "output_type": "execute_result"
    }
   ],
   "source": [
    "pp"
   ]
  },
  {
   "cell_type": "code",
   "execution_count": 16,
   "metadata": {},
   "outputs": [
    {
     "data": {
      "text/plain": [
       "array([[4998., 4480., 4824., ..., 4600., 4507., 4606.],\n",
       "       [4480., 4824., 4814., ..., 4507., 4606., 4503.],\n",
       "       [4824., 4814., 4602., ..., 4606., 4503., 4801.],\n",
       "       ...,\n",
       "       [5150., 5296., 5596., ..., 5237., 4575., 5026.],\n",
       "       [5296., 5596., 4954., ..., 4575., 5026., 4842.],\n",
       "       [5596., 4954., 5250., ..., 5026., 4842., 5019.]])"
      ]
     },
     "execution_count": 16,
     "metadata": {},
     "output_type": "execute_result"
    }
   ],
   "source": [
    "tx*MAXIMO"
   ]
  }
 ],
 "metadata": {
  "kernelspec": {
   "display_name": "Python 3",
   "language": "python",
   "name": "python3"
  },
  "language_info": {
   "codemirror_mode": {
    "name": "ipython",
    "version": 3
   },
   "file_extension": ".py",
   "mimetype": "text/x-python",
   "name": "python",
   "nbconvert_exporter": "python",
   "pygments_lexer": "ipython3",
   "version": "3.6.8"
  }
 },
 "nbformat": 4,
 "nbformat_minor": 2
}
