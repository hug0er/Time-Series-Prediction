{
 "cells": [
  {
   "cell_type": "code",
   "execution_count": 1,
   "metadata": {},
   "outputs": [
    {
     "name": "stderr",
     "output_type": "stream",
     "text": [
      "C:\\Users\\carlo\\Anaconda3\\envs\\tesis\\lib\\site-packages\\sklearn\\externals\\six.py:31: DeprecationWarning: The module is deprecated in version 0.21 and will be removed in version 0.23 since we've dropped support for Python 2.7. Please rely on the official version of six (https://pypi.org/project/six/).\n",
      "  \"(https://pypi.org/project/six/).\", DeprecationWarning)\n",
      "C:\\Users\\carlo\\Anaconda3\\envs\\tesis\\lib\\site-packages\\sklearn\\externals\\joblib\\__init__.py:15: DeprecationWarning: sklearn.externals.joblib is deprecated in 0.21 and will be removed in 0.23. Please import this functionality directly from joblib, which can be installed with: pip install joblib. If this warning is raised when loading pickled models, you may need to re-serialize those models with scikit-learn 0.21+.\n",
      "  warnings.warn(msg, category=DeprecationWarning)\n"
     ]
    }
   ],
   "source": [
    "#importing important libraries\n",
    "import pandas as pd\n",
    "import numpy as np\n",
    "from pmdarima.arima import auto_arima"
   ]
  },
  {
   "cell_type": "code",
   "execution_count": null,
   "metadata": {},
   "outputs": [],
   "source": [
    "class TimeSeriesNN3():\n",
    "    def __init__(self,STEPS_AHEAD ,NUMBER_TESTING , SERIE, WINDOW):\n",
    "        self.STEPS_AHEAD = STEPS_AHEAD\n",
    "        self.WINDOW = WINDOW\n",
    "        self.NUMBER_TESTING = NUMBER_TESTING\n",
    "        self.SERIE = SERIE\n",
    "        self.SIZE = SERIE.shape[0]\n",
    "        self.NUMBER_TRAINING = self.SIZE - self.NUMBER_TESTING\n",
    "    \n",
    "    def divide_testing (self):\n",
    "        return (self.SERIE[:self.NUMBER_TRAINING],self.SERIE[self.NUMBER_TRAINING:])\n",
    "    \n",
    "    def divide_validation (self,serie):\n",
    "        experimentx = np.zeros((len(serie) - self.WINDOW -self.STEPS_AHEAD + 1, self.WINDOW))\n",
    "        experimenty = np.zeros((len(serie) - self.WINDOW -self.STEPS_AHEAD + 1,1))\n",
    "        cnt =  0\n",
    "        cnt2 = 0\n",
    "        #serie = serie.reset_index(drop = True)\n",
    "        for i in range (experimentx.shape[0]):\n",
    "            cnt += cnt2\n",
    "            for j in range (self.WINDOW):\n",
    "                experimentx[i][j] = serie[cnt]\n",
    "                cnt += 1   \n",
    "            experimenty[i] = serie[cnt + self.STEPS_AHEAD - 1]\n",
    "            cnt = 0\n",
    "            cnt2 += 1           \n",
    "        return (experimentx, experimenty)\n",
    "    \n",
    "    def batch (self):\n",
    "        training,testing = self.divide_testing()\n",
    "        tex,tey = self.divide_validation(testing)\n",
    "        tx,ty = self.divide_validation(training)        \n",
    "        return (tx,ty) , (tex,tey)\n",
    "training_data = pd.read_excel(\"NN3_FINAL_DATASET_WITH_TEST_DATA.xlsx\",sheet_name=\"Hoja 1\")\n",
    "training_data\n",
    "Serie_1 = training_data.iloc[:, 0:1].values\n",
    "Serie_1\n",
    "scaler = MinMaxScaler(feature_range = (0, 1))\n",
    "Serie_1 = scaler.fit_transform(Serie_1)  \n",
    "Serie_1"
   ]
  },
  {
   "cell_type": "code",
   "execution_count": 2,
   "metadata": {},
   "outputs": [
    {
     "data": {
      "text/html": [
       "<div>\n",
       "<style scoped>\n",
       "    .dataframe tbody tr th:only-of-type {\n",
       "        vertical-align: middle;\n",
       "    }\n",
       "\n",
       "    .dataframe tbody tr th {\n",
       "        vertical-align: top;\n",
       "    }\n",
       "\n",
       "    .dataframe thead th {\n",
       "        text-align: right;\n",
       "    }\n",
       "</style>\n",
       "<table border=\"1\" class=\"dataframe\">\n",
       "  <thead>\n",
       "    <tr style=\"text-align: right;\">\n",
       "      <th></th>\n",
       "      <th>#Passengers</th>\n",
       "    </tr>\n",
       "    <tr>\n",
       "      <th>Month</th>\n",
       "      <th></th>\n",
       "    </tr>\n",
       "  </thead>\n",
       "  <tbody>\n",
       "    <tr>\n",
       "      <th>1949-01-01</th>\n",
       "      <td>112</td>\n",
       "    </tr>\n",
       "    <tr>\n",
       "      <th>1949-02-01</th>\n",
       "      <td>118</td>\n",
       "    </tr>\n",
       "    <tr>\n",
       "      <th>1949-03-01</th>\n",
       "      <td>132</td>\n",
       "    </tr>\n",
       "    <tr>\n",
       "      <th>1949-04-01</th>\n",
       "      <td>129</td>\n",
       "    </tr>\n",
       "    <tr>\n",
       "      <th>1949-05-01</th>\n",
       "      <td>121</td>\n",
       "    </tr>\n",
       "  </tbody>\n",
       "</table>\n",
       "</div>"
      ],
      "text/plain": [
       "            #Passengers\n",
       "Month                  \n",
       "1949-01-01          112\n",
       "1949-02-01          118\n",
       "1949-03-01          132\n",
       "1949-04-01          129\n",
       "1949-05-01          121"
      ]
     },
     "execution_count": 2,
     "metadata": {},
     "output_type": "execute_result"
    }
   ],
   "source": [
    "#loading and conveting time series data by setting index as time\n",
    "df = pd.read_csv('AirPassengers.csv')\n",
    "df['Month'] = pd.to_datetime(df['Month'])\n",
    "df.index = df.Month\n",
    "df = df.drop('Month', axis =1)\n",
    "df.head()"
   ]
  },
  {
   "cell_type": "code",
   "execution_count": 3,
   "metadata": {},
   "outputs": [
    {
     "name": "stderr",
     "output_type": "stream",
     "text": [
      "C:\\Users\\carlo\\Anaconda3\\envs\\tesis\\lib\\site-packages\\pandas\\plotting\\_converter.py:129: FutureWarning: Using an implicitly registered datetime converter for a matplotlib plotting method. The converter was registered by pandas on import. Future versions of pandas will require you to explicitly register matplotlib converters.\n",
      "\n",
      "To register the converters:\n",
      "\t>>> from pandas.plotting import register_matplotlib_converters\n",
      "\t>>> register_matplotlib_converters()\n",
      "  warnings.warn(msg, FutureWarning)\n"
     ]
    },
    {
     "data": {
      "text/plain": [
       "[]"
      ]
     },
     "execution_count": 3,
     "metadata": {},
     "output_type": "execute_result"
    },
    {
     "data": {
      "image/png": "[encoded data removed]",
      "text/plain": [
       "<Figure size 432x288 with 1 Axes>"
      ]
     },
     "metadata": {
      "needs_background": "light"
     },
     "output_type": "display_data"
    }
   ],
   "source": [
    "#visualizing timeseries data\n",
    "import matplotlib.pyplot as plt\n",
    "plt.plot(df)\n",
    "plt.xlabel('time')\n",
    "plt.ylabel('passengers')\n",
    "plt.plot()"
   ]
  },
  {
   "cell_type": "code",
   "execution_count": 4,
   "metadata": {},
   "outputs": [
    {
     "name": "stdout",
     "output_type": "stream",
     "text": [
      "(115, 1)\n",
      "(29, 1)\n"
     ]
    }
   ],
   "source": [
    "#divide into train and validation set\n",
    "train = df[:int(0.8*(len(df)))]\n",
    "test = df[int(0.8*(len(df))):]\n",
    "print(train.shape)\n",
    "print(test.shape)"
   ]
  },
  {
   "cell_type": "code",
   "execution_count": 5,
   "metadata": {},
   "outputs": [
    {
     "name": "stdout",
     "output_type": "stream",
     "text": [
      "Fit ARIMA: order=(0, 1, 0) seasonal_order=(0, 0, 0, 1); AIC=1076.519, BIC=1081.991, Fit time=0.012 seconds\n",
      "Fit ARIMA: order=(0, 1, 1) seasonal_order=(0, 0, 0, 1); AIC=1064.624, BIC=1072.833, Fit time=0.049 seconds\n",
      "Fit ARIMA: order=(0, 1, 2) seasonal_order=(0, 0, 0, 1); AIC=1061.078, BIC=1072.023, Fit time=0.064 seconds\n",
      "Fit ARIMA: order=(0, 1, 3) seasonal_order=(0, 0, 0, 1); AIC=1053.366, BIC=1067.047, Fit time=0.206 seconds\n",
      "Fit ARIMA: order=(0, 1, 4) seasonal_order=(0, 0, 0, 1); AIC=nan, BIC=nan, Fit time=nan seconds\n",
      "Fit ARIMA: order=(0, 1, 5) seasonal_order=(0, 0, 0, 1); AIC=1038.250, BIC=1057.403, Fit time=0.334 seconds\n",
      "Fit ARIMA: order=(0, 1, 6) seasonal_order=(0, 0, 0, 1); AIC=nan, BIC=nan, Fit time=nan seconds\n",
      "Fit ARIMA: order=(0, 1, 7) seasonal_order=(0, 0, 0, 1); AIC=nan, BIC=nan, Fit time=nan seconds\n",
      "Fit ARIMA: order=(0, 1, 8) seasonal_order=(0, 0, 0, 1); AIC=nan, BIC=nan, Fit time=nan seconds\n",
      "Fit ARIMA: order=(0, 1, 9) seasonal_order=(0, 0, 0, 1); AIC=nan, BIC=nan, Fit time=nan seconds\n",
      "Fit ARIMA: order=(0, 1, 10) seasonal_order=(0, 0, 0, 1); AIC=nan, BIC=nan, Fit time=nan seconds\n",
      "Fit ARIMA: order=(1, 1, 0) seasonal_order=(0, 0, 0, 1); AIC=1069.440, BIC=1077.648, Fit time=0.035 seconds\n",
      "Fit ARIMA: order=(1, 1, 1) seasonal_order=(0, 0, 0, 1); AIC=1058.834, BIC=1069.778, Fit time=0.078 seconds\n",
      "Fit ARIMA: order=(1, 1, 2) seasonal_order=(0, 0, 0, 1); AIC=1046.051, BIC=1059.732, Fit time=0.182 seconds\n",
      "Fit ARIMA: order=(1, 1, 3) seasonal_order=(0, 0, 0, 1); AIC=1047.911, BIC=1064.328, Fit time=0.239 seconds\n",
      "Fit ARIMA: order=(1, 1, 4) seasonal_order=(0, 0, 0, 1); AIC=nan, BIC=nan, Fit time=nan seconds\n",
      "Fit ARIMA: order=(1, 1, 5) seasonal_order=(0, 0, 0, 1); AIC=nan, BIC=nan, Fit time=nan seconds\n",
      "Fit ARIMA: order=(1, 1, 6) seasonal_order=(0, 0, 0, 1); AIC=nan, BIC=nan, Fit time=nan seconds\n",
      "Fit ARIMA: order=(1, 1, 7) seasonal_order=(0, 0, 0, 1); AIC=nan, BIC=nan, Fit time=nan seconds\n",
      "Fit ARIMA: order=(1, 1, 8) seasonal_order=(0, 0, 0, 1); AIC=nan, BIC=nan, Fit time=nan seconds\n",
      "Fit ARIMA: order=(1, 1, 9) seasonal_order=(0, 0, 0, 1); AIC=nan, BIC=nan, Fit time=nan seconds\n",
      "Fit ARIMA: order=(2, 1, 0) seasonal_order=(0, 0, 0, 1); AIC=1066.203, BIC=1077.148, Fit time=0.069 seconds\n",
      "Fit ARIMA: order=(2, 1, 1) seasonal_order=(0, 0, 0, 1); AIC=1045.658, BIC=1059.339, Fit time=0.297 seconds\n",
      "Fit ARIMA: order=(2, 1, 2) seasonal_order=(0, 0, 0, 1); AIC=1047.202, BIC=1063.619, Fit time=0.144 seconds\n",
      "Fit ARIMA: order=(2, 1, 3) seasonal_order=(0, 0, 0, 1); AIC=nan, BIC=nan, Fit time=nan seconds\n",
      "Fit ARIMA: order=(2, 1, 4) seasonal_order=(0, 0, 0, 1); AIC=nan, BIC=nan, Fit time=nan seconds\n",
      "Fit ARIMA: order=(2, 1, 5) seasonal_order=(0, 0, 0, 1); AIC=nan, BIC=nan, Fit time=nan seconds\n",
      "Fit ARIMA: order=(2, 1, 6) seasonal_order=(0, 0, 0, 1); AIC=nan, BIC=nan, Fit time=nan seconds\n",
      "Fit ARIMA: order=(2, 1, 7) seasonal_order=(0, 0, 0, 1); AIC=nan, BIC=nan, Fit time=nan seconds\n",
      "Fit ARIMA: order=(2, 1, 8) seasonal_order=(0, 0, 0, 1); AIC=nan, BIC=nan, Fit time=nan seconds\n",
      "Fit ARIMA: order=(3, 1, 0) seasonal_order=(0, 0, 0, 1); AIC=1068.093, BIC=1081.774, Fit time=0.060 seconds\n",
      "Fit ARIMA: order=(3, 1, 1) seasonal_order=(0, 0, 0, 1); AIC=1061.615, BIC=1078.032, Fit time=0.202 seconds\n",
      "Fit ARIMA: order=(3, 1, 2) seasonal_order=(0, 0, 0, 1); AIC=nan, BIC=nan, Fit time=nan seconds\n",
      "Fit ARIMA: order=(3, 1, 3) seasonal_order=(0, 0, 0, 1); AIC=nan, BIC=nan, Fit time=nan seconds\n",
      "Fit ARIMA: order=(3, 1, 4) seasonal_order=(0, 0, 0, 1); AIC=nan, BIC=nan, Fit time=nan seconds\n",
      "Fit ARIMA: order=(3, 1, 5) seasonal_order=(0, 0, 0, 1); AIC=nan, BIC=nan, Fit time=nan seconds\n",
      "Fit ARIMA: order=(3, 1, 6) seasonal_order=(0, 0, 0, 1); AIC=nan, BIC=nan, Fit time=nan seconds\n",
      "Fit ARIMA: order=(3, 1, 7) seasonal_order=(0, 0, 0, 1); AIC=nan, BIC=nan, Fit time=nan seconds\n",
      "Fit ARIMA: order=(4, 1, 0) seasonal_order=(0, 0, 0, 1); AIC=1059.181, BIC=1075.598, Fit time=0.084 seconds\n",
      "Fit ARIMA: order=(4, 1, 1) seasonal_order=(0, 0, 0, 1); AIC=1059.461, BIC=1078.615, Fit time=0.232 seconds\n",
      "Fit ARIMA: order=(4, 1, 2) seasonal_order=(0, 0, 0, 1); AIC=1038.907, BIC=1060.796, Fit time=0.346 seconds\n",
      "Fit ARIMA: order=(4, 1, 3) seasonal_order=(0, 0, 0, 1); AIC=1024.804, BIC=1049.430, Fit time=0.433 seconds\n",
      "Fit ARIMA: order=(4, 1, 4) seasonal_order=(0, 0, 0, 1); AIC=nan, BIC=nan, Fit time=nan seconds\n",
      "Fit ARIMA: order=(4, 1, 5) seasonal_order=(0, 0, 0, 1); AIC=nan, BIC=nan, Fit time=nan seconds\n",
      "Fit ARIMA: order=(4, 1, 6) seasonal_order=(0, 0, 0, 1); AIC=1019.318, BIC=1052.153, Fit time=0.643 seconds\n",
      "Fit ARIMA: order=(5, 1, 0) seasonal_order=(0, 0, 0, 1); AIC=1060.828, BIC=1079.981, Fit time=0.136 seconds\n",
      "Fit ARIMA: order=(5, 1, 1) seasonal_order=(0, 0, 0, 1); AIC=1057.978, BIC=1079.867, Fit time=0.405 seconds\n",
      "Fit ARIMA: order=(5, 1, 2) seasonal_order=(0, 0, 0, 1); AIC=1039.740, BIC=1064.366, Fit time=0.373 seconds\n",
      "Fit ARIMA: order=(5, 1, 3) seasonal_order=(0, 0, 0, 1); AIC=nan, BIC=nan, Fit time=nan seconds\n",
      "Fit ARIMA: order=(5, 1, 4) seasonal_order=(0, 0, 0, 1); AIC=nan, BIC=nan, Fit time=nan seconds\n",
      "Fit ARIMA: order=(5, 1, 5) seasonal_order=(0, 0, 0, 1); AIC=nan, BIC=nan, Fit time=nan seconds\n",
      "Fit ARIMA: order=(6, 1, 0) seasonal_order=(0, 0, 0, 1); AIC=1061.597, BIC=1083.487, Fit time=0.179 seconds\n",
      "Fit ARIMA: order=(6, 1, 1) seasonal_order=(0, 0, 0, 1); AIC=1033.326, BIC=1057.951, Fit time=0.442 seconds\n",
      "Fit ARIMA: order=(6, 1, 2) seasonal_order=(0, 0, 0, 1); AIC=1041.164, BIC=1068.526, Fit time=0.397 seconds\n",
      "Fit ARIMA: order=(6, 1, 3) seasonal_order=(0, 0, 0, 1); AIC=nan, BIC=nan, Fit time=nan seconds\n",
      "Fit ARIMA: order=(6, 1, 4) seasonal_order=(0, 0, 0, 1); AIC=nan, BIC=nan, Fit time=nan seconds\n",
      "Fit ARIMA: order=(7, 1, 0) seasonal_order=(0, 0, 0, 1); AIC=1058.520, BIC=1083.146, Fit time=0.147 seconds\n",
      "Fit ARIMA: order=(7, 1, 1) seasonal_order=(0, 0, 0, 1); AIC=1021.192, BIC=1048.554, Fit time=0.412 seconds\n",
      "Fit ARIMA: order=(7, 1, 2) seasonal_order=(0, 0, 0, 1); AIC=1034.406, BIC=1064.504, Fit time=0.514 seconds\n",
      "Fit ARIMA: order=(7, 1, 3) seasonal_order=(0, 0, 0, 1); AIC=nan, BIC=nan, Fit time=nan seconds\n",
      "Fit ARIMA: order=(8, 1, 0) seasonal_order=(0, 0, 0, 1); AIC=1029.458, BIC=1056.820, Fit time=0.363 seconds\n",
      "Fit ARIMA: order=(8, 1, 1) seasonal_order=(0, 0, 0, 1); AIC=999.737, BIC=1029.835, Fit time=0.525 seconds\n",
      "Fit ARIMA: order=(8, 1, 2) seasonal_order=(0, 0, 0, 1); AIC=963.655, BIC=996.489, Fit time=0.621 seconds\n",
      "Fit ARIMA: order=(9, 1, 0) seasonal_order=(0, 0, 0, 1); AIC=1024.565, BIC=1054.663, Fit time=0.398 seconds\n",
      "Fit ARIMA: order=(9, 1, 1) seasonal_order=(0, 0, 0, 1); AIC=997.820, BIC=1030.654, Fit time=0.589 seconds\n",
      "Fit ARIMA: order=(10, 1, 0) seasonal_order=(0, 0, 0, 1); AIC=nan, BIC=nan, Fit time=nan seconds\n",
      "Total fit time: 9.275 seconds\n"
     ]
    },
    {
     "data": {
      "text/plain": [
       "ARIMA(callback=None, disp=0, maxiter=None, method=None, order=(8, 1, 2),\n",
       "      out_of_sample_size=0, scoring='mse', scoring_args={},\n",
       "      seasonal_order=(0, 0, 0, 1), solver='lbfgs', start_params=None,\n",
       "      suppress_warnings=True, transparams=True, trend=None,\n",
       "      with_intercept=True)"
      ]
     },
     "execution_count": 5,
     "metadata": {},
     "output_type": "execute_result"
    }
   ],
   "source": [
    "#training model\n",
    "model = auto_arima(train, trace=True,start_p=0, start_q=0, start_P=0, start_Q=0,\n",
    "                  max_p=10, max_q=10, max_P=10, max_Q=10, seasonal=True,\n",
    "                  stepwise=False, suppress_warnings=True, D=1, max_D=10,\n",
    "                  error_action='ignore',approximation = False)\n",
    "#fitting model\n",
    "model.fit(train)"
   ]
  },
  {
   "cell_type": "code",
   "execution_count": 7,
   "metadata": {},
   "outputs": [
    {
     "name": "stdout",
     "output_type": "stream",
     "text": [
      "0.7774082513441966\n"
     ]
    }
   ],
   "source": [
    "#predicting values and evaluating model\n",
    "y_pred = model.predict(n_periods=len(test))\n",
    "from sklearn.metrics import r2_score\n",
    "acc = r2_score(test.values, y_pred)\n",
    "print(acc)"
   ]
  },
  {
   "cell_type": "code",
   "execution_count": null,
   "metadata": {},
   "outputs": [],
   "source": [
    "predictions = model.predict(x_train)  \n",
    "predictions = scaler.inverse_transform(predictions) \n",
    "labelsf = scaler.inverse_transform( y_train) \n",
    "plt.figure(figsize=(10,6))  \n",
    "plt.plot(labelsf, color='blue', label='Actual ')  \n",
    "plt.plot(predictions , color='red', label='Predicted ')  \n",
    "plt.title('Prediction')  \n",
    "plt.xlabel('Date')  \n",
    "plt.ylabel('Stock Price')  \n",
    "plt.legend()  \n",
    "plt.show()  "
   ]
  }
 ],
 "metadata": {
  "kernelspec": {
   "display_name": "Python 3",
   "language": "python",
   "name": "python3"
  },
  "language_info": {
   "codemirror_mode": {
    "name": "ipython",
    "version": 3
   },
   "file_extension": ".py",
   "mimetype": "text/x-python",
   "name": "python",
   "nbconvert_exporter": "python",
   "pygments_lexer": "ipython3",
   "version": "3.7.1"
  }
 },
 "nbformat": 4,
 "nbformat_minor": 2
}
