{
 "cells": [
  {
   "cell_type": "code",
   "execution_count": 1,
   "metadata": {},
   "outputs": [],
   "source": [
    "#importing important libraries\n",
    "import pandas as pd\n",
    "import numpy as np\n",
    "from pmdarima.arima import auto_arima\n",
    "from sklearn.preprocessing import MinMaxScaler \n",
    "import logging\n",
    "from sklearn.metrics import mean_squared_error\n",
    "import Functions\n"
   ]
  },
  {
   "cell_type": "code",
   "execution_count": 2,
   "metadata": {},
   "outputs": [],
   "source": [
    "def main(classes, size, time_series, name, seasonal):\n",
    "    global nb_classes\n",
    "    global test_size\n",
    "    global serie\n",
    "    nb_classes = classes\n",
    "    test_size = size\n",
    "    serie = time_series\n",
    "\n",
    "   \n",
    "    logging.info(\"***Inicia auto-ARIMA***\" )\n",
    "    \n",
    "    #divide into train and validation set\n",
    "    \n",
    "    \n",
    "    xtrain = time_series[:len(time_series)-size]\n",
    "    test = x_test[len(time_series)-size:]\n",
    "    \n",
    "    mse = 0\n",
    "    for i in range ((len(test)- nb_classes) + 1):\n",
    "        \n",
    "        train = np.concatenate((x_train, test[:i]))\n",
    "        model = py.auto_arima(train, trace=True,start_p=0, start_q=0, start_P=0, start_Q=0,\n",
    "                          max_p=10, max_q=10, max_P=10, max_Q=10, seasonal=seasonal,\n",
    "                          stepwise=False, suppress_warnings=True, D=1, max_D=10,\n",
    "                          error_action='ignore',approximation = False)\n",
    "\n",
    "        model.fit(train)\n",
    "        y_pred = model.predict(n_periods= nb_classes)\n",
    "        y_pred = y_pred.reshape(nb_classes,1)\n",
    "        mse_partial =  mean_squared_error(test[i:nb_classes+i], y_pred)\n",
    "        mse = mse + mse_partial\n",
    "        \n",
    "    mse = mse / len(test)\n",
    "    logging.info(\"ARIMA MSE: %.10f%%\" % (mse))\n",
    "\n",
    "    return mse\n"
   ]
  },
  {
   "cell_type": "code",
   "execution_count": null,
   "metadata": {},
   "outputs": [],
   "source": []
  }
 ],
 "metadata": {
  "kernelspec": {
   "display_name": "Python 3",
   "language": "python",
   "name": "python3"
  },
  "language_info": {
   "codemirror_mode": {
    "name": "ipython",
    "version": 3
   },
   "file_extension": ".py",
   "mimetype": "text/x-python",
   "name": "python",
   "nbconvert_exporter": "python",
   "pygments_lexer": "ipython3",
   "version": "3.7.3"
  }
 },
 "nbformat": 4,
 "nbformat_minor": 2
}
