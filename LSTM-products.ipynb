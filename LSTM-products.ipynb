{
 "cells": [
  {
   "cell_type": "code",
   "execution_count": 1,
   "metadata": {},
   "outputs": [
    {
     "name": "stderr",
     "output_type": "stream",
     "text": [
      "Using TensorFlow backend.\n"
     ]
    }
   ],
   "source": [
    "from keras.datasets import cifar10\n",
    "from keras.models import Sequential\n",
    "from keras.layers import Dense, Dropout, LSTM\n",
    "from keras.utils.np_utils import to_categorical\n",
    "from keras.callbacks import EarlyStopping\n",
    "from sklearn.preprocessing import MinMaxScaler \n",
    "import pandas as pd \n",
    "import numpy as np\n",
    "import matplotlib \n",
    "import matplotlib.pyplot as plt\n",
    "import time\n",
    "import sys\n",
    "%matplotlib inline\n",
    "import random\n",
    "import copy\n",
    "import logging\n",
    "from tqdm import tqdm\n",
    "from keras.models import Sequential\n",
    "from keras.layers import Dense, Dropout\n",
    "from keras.utils.np_utils import to_categorical\n",
    "from keras.callbacks import EarlyStopping\n",
    "import keras.backend as K\n",
    "\n",
    "# Setup logging.\n",
    "logger = logging.getLogger()\n",
    "fhandler = logging.FileHandler(filename='LSTM-products.log', mode='a')\n",
    "formatter = logging.Formatter('%(asctime)s - %(name)s - %(levelname)s - %(message)s')\n",
    "fhandler.setFormatter(formatter)\n",
    "logger.addHandler(fhandler)\n",
    "logger.setLevel(logging.DEBUG)\n",
    "\n"
   ]
  },
  {
   "cell_type": "code",
   "execution_count": 2,
   "metadata": {},
   "outputs": [],
   "source": [
    "def error_fun (real, prediccion):\n",
    "    if prediccion <= (real + 0.1) and prediccion >= (real - 0.1):\n",
    "        return 1\n",
    "    else:\n",
    "        return 0"
   ]
  },
  {
   "cell_type": "code",
   "execution_count": 3,
   "metadata": {},
   "outputs": [
    {
     "name": "stderr",
     "output_type": "stream",
     "text": [
      "C:\\Users\\hug0er\\Anaconda3\\envs\\Tesis\\lib\\site-packages\\ipykernel_launcher.py:34: ParserWarning: Falling back to the 'python' engine because the 'c' engine does not support regex separators (separators > 1 char and different from '\\s+' are interpreted as regex); you can avoid this warning by specifying engine='python'.\n"
     ]
    },
    {
     "data": {
      "text/plain": [
       "array([[0.36363636],\n",
       "       [0.66666667],\n",
       "       [0.06060606],\n",
       "       [0.36363636],\n",
       "       [0.06060606],\n",
       "       [0.16161616],\n",
       "       [0.16161616],\n",
       "       [0.36363636],\n",
       "       [0.36363636],\n",
       "       [0.06060606],\n",
       "       [0.06060606],\n",
       "       [0.06060606],\n",
       "       [0.06060606],\n",
       "       [0.36363636],\n",
       "       [0.06060606],\n",
       "       [0.06060606],\n",
       "       [0.21212121],\n",
       "       [0.06060606],\n",
       "       [0.14141414],\n",
       "       [0.06060606],\n",
       "       [0.06060606],\n",
       "       [0.57575758],\n",
       "       [0.21212121],\n",
       "       [0.32323232],\n",
       "       [0.09090909],\n",
       "       [0.1010101 ],\n",
       "       [1.        ],\n",
       "       [0.4040404 ],\n",
       "       [0.54545455],\n",
       "       [0.37373737],\n",
       "       [0.67676768],\n",
       "       [0.4040404 ],\n",
       "       [0.06060606],\n",
       "       [0.36363636],\n",
       "       [0.19191919],\n",
       "       [0.49494949],\n",
       "       [0.35353535],\n",
       "       [0.06060606],\n",
       "       [0.46464646],\n",
       "       [0.36363636],\n",
       "       [0.36363636],\n",
       "       [0.36363636],\n",
       "       [0.21212121],\n",
       "       [0.06060606],\n",
       "       [0.65656566],\n",
       "       [0.06060606],\n",
       "       [0.46464646],\n",
       "       [0.06060606],\n",
       "       [0.36363636],\n",
       "       [0.06060606],\n",
       "       [0.06060606],\n",
       "       [0.11111111],\n",
       "       [0.21212121],\n",
       "       [0.36363636],\n",
       "       [0.2020202 ],\n",
       "       [0.06060606],\n",
       "       [0.26262626],\n",
       "       [0.21212121],\n",
       "       [0.36363636],\n",
       "       [0.06060606],\n",
       "       [0.06060606],\n",
       "       [0.76767677],\n",
       "       [0.06060606],\n",
       "       [0.06060606],\n",
       "       [0.06060606],\n",
       "       [0.56565657],\n",
       "       [0.76767677],\n",
       "       [0.06060606],\n",
       "       [0.06060606],\n",
       "       [0.06060606],\n",
       "       [0.46464646],\n",
       "       [0.16161616],\n",
       "       [0.16161616],\n",
       "       [0.14141414],\n",
       "       [0.06060606],\n",
       "       [0.36363636],\n",
       "       [0.06060606],\n",
       "       [0.        ],\n",
       "       [0.19191919],\n",
       "       [0.08080808],\n",
       "       [0.81818182],\n",
       "       [0.48484848],\n",
       "       [0.11111111],\n",
       "       [0.21212121],\n",
       "       [0.11111111],\n",
       "       [0.2020202 ],\n",
       "       [0.11111111],\n",
       "       [0.2020202 ],\n",
       "       [0.21212121],\n",
       "       [0.1010101 ],\n",
       "       [0.06060606],\n",
       "       [0.22222222],\n",
       "       [0.06060606],\n",
       "       [0.22222222],\n",
       "       [0.12121212],\n",
       "       [0.24242424],\n",
       "       [0.12121212],\n",
       "       [0.19191919],\n",
       "       [0.18181818],\n",
       "       [0.06060606],\n",
       "       [0.39393939],\n",
       "       [0.36363636],\n",
       "       [0.06060606],\n",
       "       [0.06060606],\n",
       "       [0.06060606],\n",
       "       [0.11111111],\n",
       "       [0.1010101 ],\n",
       "       [0.26262626],\n",
       "       [0.06060606],\n",
       "       [0.11111111],\n",
       "       [0.35353535],\n",
       "       [0.06060606],\n",
       "       [0.53535354],\n",
       "       [0.06060606],\n",
       "       [0.06060606],\n",
       "       [0.19191919],\n",
       "       [0.22222222],\n",
       "       [0.06060606],\n",
       "       [0.36363636],\n",
       "       [0.06060606],\n",
       "       [0.06060606],\n",
       "       [0.06060606],\n",
       "       [0.06060606],\n",
       "       [0.06060606],\n",
       "       [0.27272727],\n",
       "       [0.06060606],\n",
       "       [0.41414141],\n",
       "       [0.06060606],\n",
       "       [0.21212121],\n",
       "       [0.78787879],\n",
       "       [0.31313131],\n",
       "       [0.21212121],\n",
       "       [0.16161616],\n",
       "       [0.18181818],\n",
       "       [0.06060606],\n",
       "       [0.06060606],\n",
       "       [0.21212121],\n",
       "       [0.36363636],\n",
       "       [0.06060606],\n",
       "       [0.36363636],\n",
       "       [0.06060606],\n",
       "       [0.11111111],\n",
       "       [0.06060606],\n",
       "       [0.22222222],\n",
       "       [0.06060606],\n",
       "       [0.19191919],\n",
       "       [0.14141414],\n",
       "       [0.09090909],\n",
       "       [0.16161616],\n",
       "       [0.22222222],\n",
       "       [0.06060606],\n",
       "       [0.06060606],\n",
       "       [0.06060606],\n",
       "       [0.06060606],\n",
       "       [0.09090909],\n",
       "       [0.06060606],\n",
       "       [0.36363636],\n",
       "       [0.06060606],\n",
       "       [0.06060606],\n",
       "       [0.12121212],\n",
       "       [0.36363636],\n",
       "       [0.17171717],\n",
       "       [0.08080808],\n",
       "       [0.13131313],\n",
       "       [0.39393939],\n",
       "       [0.21212121],\n",
       "       [0.06060606],\n",
       "       [0.19191919],\n",
       "       [0.06060606],\n",
       "       [0.21212121],\n",
       "       [0.08080808],\n",
       "       [0.06060606],\n",
       "       [0.39393939],\n",
       "       [0.36363636],\n",
       "       [0.11111111],\n",
       "       [0.19191919],\n",
       "       [0.16161616],\n",
       "       [0.09090909],\n",
       "       [0.66666667],\n",
       "       [0.36363636],\n",
       "       [0.06060606],\n",
       "       [0.06060606],\n",
       "       [0.36363636],\n",
       "       [0.06060606],\n",
       "       [0.06060606],\n",
       "       [0.06060606],\n",
       "       [0.26262626],\n",
       "       [0.06060606],\n",
       "       [0.46464646],\n",
       "       [0.16161616],\n",
       "       [0.06060606],\n",
       "       [0.17171717],\n",
       "       [0.15151515],\n",
       "       [0.06060606],\n",
       "       [0.44444444],\n",
       "       [0.36363636],\n",
       "       [0.06060606],\n",
       "       [0.06060606],\n",
       "       [0.36363636],\n",
       "       [0.06060606],\n",
       "       [0.36363636],\n",
       "       [0.06060606]])"
      ]
     },
     "execution_count": 3,
     "metadata": {},
     "output_type": "execute_result"
    }
   ],
   "source": [
    "class TimeSeriesNN3():\n",
    "    def __init__(self,STEPS_AHEAD ,NUMBER_TESTING , SERIE, WINDOW):\n",
    "        self.STEPS_AHEAD = STEPS_AHEAD\n",
    "        self.WINDOW = WINDOW\n",
    "        self.NUMBER_TESTING = NUMBER_TESTING\n",
    "        self.SERIE = SERIE\n",
    "        self.SIZE = SERIE.shape[0]\n",
    "        self.NUMBER_TRAINING = self.SIZE - self.NUMBER_TESTING\n",
    "    \n",
    "    def divide_testing (self):\n",
    "        return (self.SERIE[:self.NUMBER_TRAINING],self.SERIE[self.NUMBER_TRAINING:])\n",
    "    \n",
    "    def divide_validation (self,serie):\n",
    "        experimentx = np.zeros((len(serie) - self.WINDOW -self.STEPS_AHEAD + 1, self.WINDOW))\n",
    "        experimenty = np.zeros((len(serie) - self.WINDOW -self.STEPS_AHEAD + 1,1))\n",
    "        cnt =  0\n",
    "        cnt2 = 0\n",
    "        #serie = serie.reset_index(drop = True)\n",
    "        for i in range (experimentx.shape[0]):\n",
    "            cnt += cnt2\n",
    "            for j in range (self.WINDOW):\n",
    "                experimentx[i][j] = serie[cnt]\n",
    "                cnt += 1   \n",
    "            experimenty[i] = serie[cnt + self.STEPS_AHEAD - 1]\n",
    "            cnt = 0\n",
    "            cnt2 += 1           \n",
    "        return (experimentx, experimenty)\n",
    "    \n",
    "    def batch (self):\n",
    "        training,testing = self.divide_testing()\n",
    "        tex,tey = self.divide_validation(testing)\n",
    "        tx,ty = self.divide_validation(training)        \n",
    "        return (tx,ty) , (tex,tey)\n",
    "Serie_1 = pd.read_csv('productos/269-00593.txt', sep=\"      \", header=[0,1])\n",
    "Serie_1.values\n",
    "Serie_1\n",
    "scaler = MinMaxScaler(feature_range = (0, 1))\n",
    "Serie_1 = scaler.fit_transform(Serie_1)  \n",
    "Serie_1"
   ]
  },
  {
   "cell_type": "code",
   "execution_count": null,
   "metadata": {},
   "outputs": [],
   "source": []
  },
  {
   "cell_type": "code",
   "execution_count": 4,
   "metadata": {},
   "outputs": [],
   "source": [
    "class Optimizer():\n",
    "    \"\"\"Class that implements genetic algorithm for MLP optimization.\"\"\"\n",
    "\n",
    "    def __init__(self, nn_param_choices, retain=0.4,\n",
    "                 random_select=0.1, mutate_chance=0.2):\n",
    "        \"\"\"Create an optimizer.\n",
    "\n",
    "        Args:\n",
    "            nn_param_choices (dict): Possible network paremters\n",
    "            retain (float): Percentage of population to retain after\n",
    "                each generation\n",
    "            random_select (float): Probability of a rejected network\n",
    "                remaining in the population\n",
    "            mutate_chance (float): Probability a network will be\n",
    "                randomly mutated\n",
    "\n",
    "        \"\"\"\n",
    "        self.mutate_chance = mutate_chance\n",
    "        self.random_select = random_select\n",
    "        self.retain = retain\n",
    "        self.nn_param_choices = nn_param_choices\n",
    "\n",
    "    def create_population(self, count):\n",
    "        \"\"\"Create a population of random networks.\n",
    "\n",
    "        Args:\n",
    "            count (int): Number of networks to generate, aka the\n",
    "                size of the population\n",
    "\n",
    "        Returns:\n",
    "            (list): Population of network objects\n",
    "\n",
    "        \"\"\"\n",
    "        pop = []\n",
    "        for _ in range(0, count):\n",
    "            # Create a random network.\n",
    "            network = Network(self.nn_param_choices)\n",
    "            network.create_random()\n",
    "\n",
    "            # Add the network to our population.\n",
    "            pop.append(network)\n",
    "\n",
    "        return pop\n",
    "\n",
    "    @staticmethod\n",
    "    def fitness(network):\n",
    "        \"\"\"Return the accuracy, which is our fitness function.\"\"\"\n",
    "        return network.accuracy\n",
    "\n",
    "    def grade(self, pop):\n",
    "        \"\"\"Find average fitness for a population.\n",
    "\n",
    "        Args:\n",
    "            pop (list): The population of networks\n",
    "\n",
    "        Returns:\n",
    "            (float): The average accuracy of the population\n",
    "\n",
    "        \"\"\"\n",
    "        summed = reduce(add, (self.fitness(network) for network in pop))\n",
    "        return summed / float((len(pop)))\n",
    "\n",
    "    def breed(self, mother, father):\n",
    "        \"\"\"Make two children as parts of their parents.\n",
    "\n",
    "        Args:\n",
    "            mother (dict): Network parameters\n",
    "            father (dict): Network parameters\n",
    "\n",
    "        Returns:\n",
    "            (list): Two network objects\n",
    "\n",
    "        \"\"\"\n",
    "        children = []\n",
    "        for _ in range(2):\n",
    "\n",
    "            child = {}\n",
    "\n",
    "            # Loop through the parameters and pick params for the kid.\n",
    "            for param in self.nn_param_choices:\n",
    "                child[param] = random.choice(\n",
    "                    [mother.network[param], father.network[param]]\n",
    "                )\n",
    "\n",
    "            # Now create a network object.\n",
    "            network = Network(self.nn_param_choices)\n",
    "            network.create_set(child)\n",
    "\n",
    "            # Randomly mutate some of the children.\n",
    "            if self.mutate_chance > random.random():\n",
    "                network = self.mutate(network)\n",
    "\n",
    "            children.append(network)\n",
    "\n",
    "        return children\n",
    "\n",
    "    def mutate(self, network):\n",
    "        \"\"\"Randomly mutate one part of the network.\n",
    "\n",
    "        Args:\n",
    "            network (dict): The network parameters to mutate\n",
    "\n",
    "        Returns:\n",
    "            (Network): A randomly mutated network object\n",
    "\n",
    "        \"\"\"\n",
    "        # Choose a random key.\n",
    "        mutation = random.choice(list(self.nn_param_choices.keys()))\n",
    "\n",
    "        # Mutate one of the params.\n",
    "        network.network[mutation] = random.choice(self.nn_param_choices[mutation])\n",
    "\n",
    "        return network\n",
    "\n",
    "    def evolve(self, pop):\n",
    "        \"\"\"Evolve a population of networks.\n",
    "\n",
    "        Args:\n",
    "            pop (list): A list of network parameters\n",
    "\n",
    "        Returns:\n",
    "            (list): The evolved population of networks\n",
    "\n",
    "        \"\"\"\n",
    "        # Get scores for each network.\n",
    "        graded = [(self.fitness(network), network) for network in pop]\n",
    "\n",
    "        # Sort on the scores.\n",
    "        graded = [x[1] for x in sorted(graded, key=lambda x: x[0], reverse=True)]\n",
    "\n",
    "        # Get the number we want to keep for the next gen.\n",
    "        retain_length = int(len(graded)*self.retain)\n",
    "\n",
    "        # The parents are every network we want to keep.\n",
    "        parents = graded[:retain_length]\n",
    "\n",
    "        # For those we aren't keeping, randomly keep some anyway.\n",
    "        for individual in graded[retain_length:]:\n",
    "            if self.random_select > random.random():\n",
    "                parents.append(individual)\n",
    "\n",
    "        # Now find out how many spots we have left to fill.\n",
    "        parents_length = len(parents)\n",
    "        desired_length = len(pop) - parents_length\n",
    "        children = []\n",
    "\n",
    "        # Add children, which are bred from two remaining networks.\n",
    "        while len(children) < desired_length:\n",
    "\n",
    "            # Get a random mom and dad.\n",
    "            male = random.randint(0, parents_length-1)\n",
    "            female = random.randint(0, parents_length-1)\n",
    "\n",
    "            # Assuming they aren't the same network...\n",
    "            if male != female:\n",
    "                male = parents[male]\n",
    "                female = parents[female]\n",
    "\n",
    "                # Breed them.\n",
    "                babies = self.breed(male, female)\n",
    "\n",
    "                # Add the children one at a time.\n",
    "                for baby in babies:\n",
    "                    # Don't grow larger than desired length.\n",
    "                    if len(children) < desired_length:\n",
    "                        children.append(baby)\n",
    "\n",
    "        parents.extend(children)\n",
    "\n",
    "        return parents"
   ]
  },
  {
   "cell_type": "code",
   "execution_count": 5,
   "metadata": {},
   "outputs": [],
   "source": [
    "class Network():\n",
    "    \"\"\"Represent a network and let us operate on it.\n",
    "\n",
    "    Currently only works for an MLP.\n",
    "    \"\"\"\n",
    "\n",
    "    def __init__(self, nn_param_choices=None):\n",
    "        \"\"\"Initialize our network.\n",
    "\n",
    "        Args:\n",
    "            nn_param_choices (dict): Parameters for the network, includes:\n",
    "                nb_neurons (list): [64, 128, 256]\n",
    "                nb_layers (list): [1, 2, 3, 4]\n",
    "                activation (list): ['relu', 'elu']\n",
    "                optimizer (list): ['rmsprop', 'adam']\n",
    "        \"\"\"\n",
    "        self.accuracy = 0.\n",
    "        self.nn_param_choices = nn_param_choices\n",
    "        self.network = {}  # (dic): represents MLP network parameters\n",
    "\n",
    "    def create_random(self):\n",
    "        \"\"\"Create a random network.\"\"\"\n",
    "        for key in self.nn_param_choices:\n",
    "            self.network[key] = random.choice(self.nn_param_choices[key])\n",
    "\n",
    "    def create_set(self, network):\n",
    "        \"\"\"Set network properties.\n",
    "\n",
    "        Args:\n",
    "            network (dict): The network parameters\n",
    "\n",
    "        \"\"\"\n",
    "        self.network = network\n",
    "\n",
    "    def train(self):\n",
    "        \"\"\"Train the network and record the accuracy.\n",
    "\n",
    "        Args:\n",
    "            dataset (str): Name of dataset to use.\n",
    "\n",
    "        \"\"\"\n",
    "        if self.accuracy == 0.:\n",
    "            self.accuracy = 1/train_and_score(self.network)\n",
    "\n",
    "    def print_network(self):\n",
    "        \"\"\"Print out a network.\"\"\"\n",
    "        logging.info(self.network)\n",
    "        logging.info(\"Network accuracy: %.2f%%\" % (self.accuracy * 100))"
   ]
  },
  {
   "cell_type": "code",
   "execution_count": 10,
   "metadata": {},
   "outputs": [],
   "source": [
    "\n",
    "\n",
    "# Helper: Early stopping.\n",
    "early_stopper = EarlyStopping(patience=5)\n",
    "\n",
    "\n",
    "def compile_model(network, nb_classes):\n",
    "    \"\"\"Compile a sequential model.\n",
    "\n",
    "    Args:\n",
    "        network (dict): the parameters of the network\n",
    "\n",
    "    Returns:\n",
    "        a compiled network.\n",
    "\n",
    "    \"\"\"\n",
    "    # Get our network parameters.\n",
    "    nb_layers = network['nb_layers']\n",
    "    nb_neurons = network['nb_neurons']\n",
    "    i_neurons = network['i_neurons']\n",
    "    activation = network['activation']\n",
    "    optimizer = network['optimizer']\n",
    "\n",
    "    model = Sequential()\n",
    "    input_shape = (i_neurons, 1)\n",
    "    print(\"input shape\", input_shape)\n",
    "  \n",
    "\n",
    "    # Add each layer.\n",
    "    for i in range(nb_layers - 1):\n",
    "\n",
    "        # Need input shape for first layer.\n",
    "        if i == 0:\n",
    "            model.add(LSTM(units=nb_neurons, return_sequences=True, input_shape=input_shape, activation = activation)) \n",
    "            model.add(Dropout(0.2))  # hard-coded dropout\n",
    "        else:\n",
    "            model.add(LSTM(units=nb_neurons, return_sequences=True, activation = activation)) \n",
    "            model.add(Dropout(0.2))  # hard-coded dropout\n",
    "    \n",
    "    if (nb_layers - 1 == 0):\n",
    "        model.add(LSTM(units=nb_neurons, activation = activation, input_shape=input_shape)) \n",
    "    else :\n",
    "        model.add(LSTM(units=nb_neurons, activation = activation)) \n",
    "    # Output layer.\n",
    "    model.add(Dense(units = 1))  \n",
    "    model.compile(loss='mean_squared_error', optimizer=optimizer,metrics=['mean_squared_error'])\n",
    "\n",
    "    return model\n",
    "\n",
    "def train_and_score(network):\n",
    "    \"\"\"Train the model, return test loss.\n",
    "\n",
    "    Args:\n",
    "        network (dict): the parameters of the network\n",
    "        dataset (str): Dataset to use for training/evaluating\n",
    "\n",
    "    \"\"\"\n",
    "    batch_size = 1\n",
    "    i_neurons = network['i_neurons']\n",
    "    # Set defaults.\n",
    "    serie1 = TimeSeriesNN3(1,14,Serie_1,i_neurons)\n",
    "\n",
    "    # Get the data.\n",
    "    (x_train, y_train), (x_test, y_test) = serie1.batch()\n",
    "    print(x_train.shape)\n",
    "    x_train = x_train.astype('float32')\n",
    "    x_test = x_test.astype('float32')\n",
    "    x_train, y_train = np.array(x_train), np.array(y_train)  \n",
    "    x_test, y_test = np.array(x_test), np.array(y_test) \n",
    "    print(x_train.shape)\n",
    "    x_train = np.reshape(x_train, (x_train.shape[0], x_train.shape[1], 1))  \n",
    "    x_test = np.reshape(x_test, (x_test.shape[0], x_test.shape[1], 1)) \n",
    "    print(x_train.shape)\n",
    "    model = compile_model(network, 1)\n",
    "\n",
    "    model.fit(x_train, y_train,\n",
    "              batch_size=batch_size,\n",
    "              epochs=10000,  # using early stopping, so no real limit\n",
    "              verbose=0,\n",
    "              validation_data=(x_test, y_test),\n",
    "              callbacks=[early_stopper])\n",
    "\n",
    "    score = model.evaluate(x_test, y_test, verbose=0)\n",
    "    print(score)\n",
    "\n",
    "    return score[1]  # 1 is accuracy. 0 is loss."
   ]
  },
  {
   "cell_type": "code",
   "execution_count": 8,
   "metadata": {},
   "outputs": [],
   "source": [
    "\n",
    "def train_networks(networks):\n",
    "    \"\"\"Train each network.\n",
    "\n",
    "    Args:\n",
    "        networks (list): Current population of networks\n",
    "        dataset (str): Dataset to use for training/evaluating\n",
    "    \"\"\"\n",
    "    pbar = tqdm(total=len(networks))\n",
    "    for network in networks:\n",
    "        network.train()\n",
    "        pbar.update(1)\n",
    "    pbar.close()\n",
    "\n",
    "def get_average_accuracy(networks):\n",
    "    \"\"\"Get the average accuracy for a group of networks.\n",
    "\n",
    "    Args:\n",
    "        networks (list): List of networks\n",
    "\n",
    "    Returns:\n",
    "        float: The average accuracy of a population of networks.\n",
    "\n",
    "    \"\"\"\n",
    "    total_accuracy = 0\n",
    "    for network in networks:\n",
    "        total_accuracy += network.accuracy\n",
    "\n",
    "    return total_accuracy / len(networks)\n",
    "\n",
    "def generate(generations, population, nn_param_choices):\n",
    "    \"\"\"Generate a network with the genetic algorithm.\n",
    "\n",
    "    Args:\n",
    "        generations (int): Number of times to evole the population\n",
    "        population (int): Number of networks in each generation\n",
    "        nn_param_choices (dict): Parameter choices for networks\n",
    "        dataset (str): Dataset to use for training/evaluating\n",
    "\n",
    "    \"\"\"\n",
    "    optimizer = Optimizer(nn_param_choices)\n",
    "    networks = optimizer.create_population(population)\n",
    "\n",
    "    # Evolve the generation.\n",
    "    for i in range(generations):\n",
    "        logging.info(\"***Doing generation %d of %d***\" %\n",
    "                     (i + 1, generations))\n",
    "\n",
    "        # Train and get accuracy for networks.\n",
    "        train_networks(networks)\n",
    "\n",
    "        # Get the average accuracy for this generation.\n",
    "        average_accuracy = get_average_accuracy(networks)\n",
    "\n",
    "        # Print out the average accuracy each generation.\n",
    "        logging.info(\"Generation average: %.2f%%\" % (average_accuracy * 100))\n",
    "        logging.info('-'*80)\n",
    "\n",
    "        # Evolve, except on the last iteration.\n",
    "        if (i != generations - 1):\n",
    "            # Do the evolution.\n",
    "            networks = optimizer.evolve(networks)\n",
    "\n",
    "    # Sort our final population.\n",
    "    networks = sorted(networks, key=lambda x: x.accuracy, reverse=True)\n",
    "\n",
    "    # Print out the top 5 networks.\n",
    "    print_networks(networks[:5])\n",
    "    print(networks[:5])\n",
    "\n",
    "def print_networks(networks):\n",
    "    \"\"\"Print a list of networks.\n",
    "\n",
    "    Args:\n",
    "        networks (list): The population of networks\n",
    "\n",
    "    \"\"\"\n",
    "    logging.info('-'*80)\n",
    "    for network in networks:\n",
    "        network.print_network()\n",
    "\n",
    "def main():\n",
    "    generations = 8  # Number of times to evole the population.\n",
    "    population = 40  # Number of networks in each generation.\n",
    "\n",
    "    nn_param_choices = {\n",
    "        'nb_neurons': [12,7,14,21,16,20,24,28,32],\n",
    "        'i_neurons': [8,7,9],\n",
    "        'nb_layers': [1, 2, 3, 4],\n",
    "        'activation': ['relu', 'elu', 'tanh', 'sigmoid'],\n",
    "        'optimizer': ['adam', 'sgd'],\n",
    "    }\n",
    "\n",
    "    logging.info(\"***Evolving %d generations with population %d***\" %\n",
    "                 (generations, population))\n",
    "\n",
    "    generate(generations, population, nn_param_choices)\n",
    "\n"
   ]
  },
  {
   "cell_type": "code",
   "execution_count": 20,
   "metadata": {},
   "outputs": [
    {
     "name": "stderr",
     "output_type": "stream",
     "text": [
      "\n",
      "\n",
      "  0%|          | 0/20 [00:00<?, ?it/s]"
     ]
    },
    {
     "name": "stdout",
     "output_type": "stream",
     "text": [
      "(180, 8)\n",
      "(180, 8)\n",
      "(180, 8, 1)\n",
      "input shape (8, 1)\n",
      "[0.021305516362190247, 0.021305516362190247]\n"
     ]
    },
    {
     "name": "stderr",
     "output_type": "stream",
     "text": [
      "\n",
      "\n",
      "  5%|▌         | 1/20 [01:51<35:20, 111.63s/it]"
     ]
    },
    {
     "name": "stdout",
     "output_type": "stream",
     "text": [
      "(181, 7)\n",
      "(181, 7)\n",
      "(181, 7, 1)\n",
      "input shape (7, 1)\n",
      "[0.030034001916646957, 0.030034001916646957]\n"
     ]
    },
    {
     "name": "stderr",
     "output_type": "stream",
     "text": [
      "\n",
      "\n",
      " 10%|█         | 2/20 [05:10<41:19, 137.77s/it]"
     ]
    },
    {
     "name": "stdout",
     "output_type": "stream",
     "text": [
      "(180, 8)\n",
      "(180, 8)\n",
      "(180, 8, 1)\n",
      "input shape (8, 1)\n",
      "[0.026955828070640564, 0.026955828070640564]\n"
     ]
    },
    {
     "name": "stderr",
     "output_type": "stream",
     "text": [
      "\n",
      "\n",
      " 15%|█▌        | 3/20 [07:00<36:41, 129.50s/it]"
     ]
    },
    {
     "name": "stdout",
     "output_type": "stream",
     "text": [
      "(180, 8)\n",
      "(180, 8)\n",
      "(180, 8, 1)\n",
      "input shape (8, 1)\n",
      "[0.02206357568502426, 0.02206357568502426]\n"
     ]
    },
    {
     "name": "stderr",
     "output_type": "stream",
     "text": [
      "\n",
      "\n",
      " 20%|██        | 4/20 [09:29<36:03, 135.20s/it]"
     ]
    },
    {
     "name": "stdout",
     "output_type": "stream",
     "text": [
      "(180, 8)\n",
      "(180, 8)\n",
      "(180, 8, 1)\n",
      "input shape (8, 1)\n",
      "[0.021745825186371803, 0.021745825186371803]\n"
     ]
    },
    {
     "name": "stderr",
     "output_type": "stream",
     "text": [
      "\n",
      "\n",
      " 25%|██▌       | 5/20 [16:46<56:29, 225.99s/it]"
     ]
    },
    {
     "name": "stdout",
     "output_type": "stream",
     "text": [
      "(180, 8)\n",
      "(180, 8)\n",
      "(180, 8, 1)\n",
      "input shape (8, 1)\n",
      "[0.021052906289696693, 0.021052906289696693]\n"
     ]
    },
    {
     "name": "stderr",
     "output_type": "stream",
     "text": [
      "\n",
      "\n",
      " 30%|███       | 6/20 [20:56<54:23, 233.10s/it]"
     ]
    },
    {
     "name": "stdout",
     "output_type": "stream",
     "text": [
      "(179, 9)\n",
      "(179, 9)\n",
      "(179, 9, 1)\n",
      "input shape (9, 1)\n",
      "[0.02213737741112709, 0.02213737741112709]\n"
     ]
    },
    {
     "name": "stderr",
     "output_type": "stream",
     "text": [
      "\n",
      "\n",
      " 35%|███▌      | 7/20 [23:41<46:02, 212.51s/it]"
     ]
    },
    {
     "name": "stdout",
     "output_type": "stream",
     "text": [
      "(179, 9)\n",
      "(179, 9)\n",
      "(179, 9, 1)\n",
      "input shape (9, 1)\n",
      "[0.022406360134482384, 0.022406360134482384]\n"
     ]
    },
    {
     "name": "stderr",
     "output_type": "stream",
     "text": [
      "\n",
      "\n",
      " 40%|████      | 8/20 [30:02<52:38, 263.17s/it]"
     ]
    },
    {
     "name": "stdout",
     "output_type": "stream",
     "text": [
      "(181, 7)\n",
      "(181, 7)\n",
      "(181, 7, 1)\n",
      "input shape (7, 1)\n",
      "[0.02633230946958065, 0.02633230946958065]\n"
     ]
    },
    {
     "name": "stderr",
     "output_type": "stream",
     "text": [
      "\n",
      "\n",
      " 45%|████▌     | 9/20 [37:40<58:58, 321.71s/it]"
     ]
    },
    {
     "name": "stdout",
     "output_type": "stream",
     "text": [
      "(180, 8)\n",
      "(180, 8)\n",
      "(180, 8, 1)\n",
      "input shape (8, 1)\n",
      "[0.021436328068375587, 0.021436328068375587]\n"
     ]
    },
    {
     "name": "stderr",
     "output_type": "stream",
     "text": [
      "\n",
      "\n",
      " 50%|█████     | 10/20 [41:38<49:24, 296.42s/it]"
     ]
    },
    {
     "name": "stdout",
     "output_type": "stream",
     "text": [
      "(179, 9)\n",
      "(179, 9)\n",
      "(179, 9, 1)\n",
      "input shape (9, 1)\n",
      "[0.021383432671427727, 0.021383432671427727]\n"
     ]
    },
    {
     "name": "stderr",
     "output_type": "stream",
     "text": [
      "\n",
      "\n",
      " 55%|█████▌    | 11/20 [43:33<36:17, 241.97s/it]"
     ]
    },
    {
     "name": "stdout",
     "output_type": "stream",
     "text": [
      "(181, 7)\n",
      "(181, 7)\n",
      "(181, 7, 1)\n",
      "input shape (7, 1)\n",
      "[0.024700304493308067, 0.024700304493308067]\n"
     ]
    },
    {
     "name": "stderr",
     "output_type": "stream",
     "text": [
      "\n",
      "\n",
      " 60%|██████    | 12/20 [45:59<28:27, 213.40s/it]"
     ]
    },
    {
     "name": "stdout",
     "output_type": "stream",
     "text": [
      "(180, 8)\n",
      "(180, 8)\n",
      "(180, 8, 1)\n",
      "input shape (8, 1)\n",
      "[0.029490018263459206, 0.029490018263459206]\n"
     ]
    },
    {
     "name": "stderr",
     "output_type": "stream",
     "text": [
      "\n",
      "\n",
      " 65%|██████▌   | 13/20 [51:02<28:01, 240.22s/it]"
     ]
    },
    {
     "name": "stdout",
     "output_type": "stream",
     "text": [
      "(181, 7)\n",
      "(181, 7)\n",
      "(181, 7, 1)\n",
      "input shape (7, 1)\n",
      "[0.022397492080926895, 0.022397492080926895]\n"
     ]
    },
    {
     "name": "stderr",
     "output_type": "stream",
     "text": [
      "\n",
      "\n",
      " 70%|███████   | 14/20 [1:01:08<35:00, 350.01s/it]"
     ]
    },
    {
     "name": "stdout",
     "output_type": "stream",
     "text": [
      "(181, 7)\n",
      "(181, 7)\n",
      "(181, 7, 1)\n",
      "input shape (7, 1)\n",
      "[0.02252112329006195, 0.02252112329006195]\n"
     ]
    },
    {
     "name": "stderr",
     "output_type": "stream",
     "text": [
      "\n",
      "\n",
      " 75%|███████▌  | 15/20 [1:04:23<25:16, 303.39s/it]"
     ]
    },
    {
     "name": "stdout",
     "output_type": "stream",
     "text": [
      "(181, 7)\n",
      "(181, 7)\n",
      "(181, 7, 1)\n",
      "input shape (7, 1)\n",
      "[0.02334209904074669, 0.02334209904074669]\n"
     ]
    },
    {
     "name": "stderr",
     "output_type": "stream",
     "text": [
      "\n",
      "\n",
      " 80%|████████  | 16/20 [1:07:11<17:30, 262.72s/it]"
     ]
    },
    {
     "name": "stdout",
     "output_type": "stream",
     "text": [
      "(179, 9)\n",
      "(179, 9)\n",
      "(179, 9, 1)\n",
      "input shape (9, 1)\n",
      "[0.024578329175710678, 0.024578329175710678]\n"
     ]
    },
    {
     "name": "stderr",
     "output_type": "stream",
     "text": [
      "\n",
      "\n",
      " 85%|████████▌ | 17/20 [1:13:34<14:56, 298.94s/it]"
     ]
    },
    {
     "name": "stdout",
     "output_type": "stream",
     "text": [
      "(179, 9)\n",
      "(179, 9)\n",
      "(179, 9, 1)\n",
      "input shape (9, 1)\n",
      "[0.0226892102509737, 0.0226892102509737]\n"
     ]
    },
    {
     "name": "stderr",
     "output_type": "stream",
     "text": [
      "\n",
      "\n",
      " 90%|█████████ | 18/20 [1:17:43<09:27, 283.83s/it]"
     ]
    },
    {
     "name": "stdout",
     "output_type": "stream",
     "text": [
      "(180, 8)\n",
      "(180, 8)\n",
      "(180, 8, 1)\n",
      "input shape (8, 1)\n",
      "[0.026057643815875053, 0.026057643815875053]\n"
     ]
    },
    {
     "name": "stderr",
     "output_type": "stream",
     "text": [
      "\n",
      "\n",
      " 95%|█████████▌| 19/20 [1:23:09<04:56, 296.63s/it]"
     ]
    },
    {
     "name": "stdout",
     "output_type": "stream",
     "text": [
      "(181, 7)\n",
      "(181, 7)\n",
      "(181, 7, 1)\n",
      "input shape (7, 1)\n",
      "[0.022494126111268997, 0.022494126111268997]\n"
     ]
    },
    {
     "name": "stderr",
     "output_type": "stream",
     "text": [
      "\n",
      "\n",
      "100%|██████████| 20/20 [1:27:18<00:00, 282.22s/it]\n",
      "\n",
      "  0%|          | 0/20 [00:00<?, ?it/s]"
     ]
    },
    {
     "name": "stdout",
     "output_type": "stream",
     "text": [
      "(180, 8)\n",
      "(180, 8)\n",
      "(180, 8, 1)\n",
      "input shape (8, 1)\n",
      "[0.024130096659064293, 0.024130096659064293]\n"
     ]
    },
    {
     "name": "stderr",
     "output_type": "stream",
     "text": [
      "\n",
      "\n",
      " 55%|█████▌    | 11/20 [05:26<04:26, 29.64s/it]"
     ]
    },
    {
     "name": "stdout",
     "output_type": "stream",
     "text": [
      "(180, 8)\n",
      "(180, 8)\n",
      "(180, 8, 1)\n",
      "input shape (8, 1)\n",
      "[0.021907472983002663, 0.021907472983002663]\n"
     ]
    },
    {
     "name": "stderr",
     "output_type": "stream",
     "text": [
      "\n",
      "\n",
      " 60%|██████    | 12/20 [11:36<17:34, 131.82s/it]"
     ]
    },
    {
     "name": "stdout",
     "output_type": "stream",
     "text": [
      "(180, 8)\n",
      "(180, 8)\n",
      "(180, 8, 1)\n",
      "input shape (8, 1)\n",
      "[0.022926433011889458, 0.022926433011889458]\n"
     ]
    },
    {
     "name": "stderr",
     "output_type": "stream",
     "text": [
      "\n",
      "\n",
      " 65%|██████▌   | 13/20 [17:09<22:25, 192.24s/it]"
     ]
    },
    {
     "name": "stdout",
     "output_type": "stream",
     "text": [
      "(180, 8)\n",
      "(180, 8)\n",
      "(180, 8, 1)\n",
      "input shape (8, 1)\n",
      "[0.021379059180617332, 0.021379059180617332]\n"
     ]
    },
    {
     "name": "stderr",
     "output_type": "stream",
     "text": [
      "\n",
      "\n",
      " 70%|███████   | 14/20 [21:08<20:37, 206.30s/it]"
     ]
    },
    {
     "name": "stdout",
     "output_type": "stream",
     "text": [
      "(181, 7)\n",
      "(181, 7)\n",
      "(181, 7, 1)\n",
      "input shape (7, 1)\n",
      "[0.023772690445184708, 0.023772690445184708]\n"
     ]
    },
    {
     "name": "stderr",
     "output_type": "stream",
     "text": [
      "\n",
      "\n",
      " 75%|███████▌  | 15/20 [26:50<20:35, 247.00s/it]"
     ]
    },
    {
     "name": "stdout",
     "output_type": "stream",
     "text": [
      "(179, 9)\n",
      "(179, 9)\n",
      "(179, 9, 1)\n",
      "input shape (9, 1)\n",
      "[0.023204438388347626, 0.023204438388347626]\n"
     ]
    },
    {
     "name": "stderr",
     "output_type": "stream",
     "text": [
      "\n",
      "\n",
      " 80%|████████  | 16/20 [29:50<15:07, 226.99s/it]"
     ]
    },
    {
     "name": "stdout",
     "output_type": "stream",
     "text": [
      "(179, 9)\n",
      "(179, 9)\n",
      "(179, 9, 1)\n",
      "input shape (9, 1)\n",
      "[0.023586062714457512, 0.023586062714457512]\n"
     ]
    },
    {
     "name": "stderr",
     "output_type": "stream",
     "text": [
      "\n",
      "\n",
      " 85%|████████▌ | 17/20 [33:26<11:10, 223.54s/it]"
     ]
    },
    {
     "name": "stdout",
     "output_type": "stream",
     "text": [
      "(179, 9)\n",
      "(179, 9)\n",
      "(179, 9, 1)\n",
      "input shape (9, 1)\n",
      "[0.02445429004728794, 0.02445429004728794]\n"
     ]
    },
    {
     "name": "stderr",
     "output_type": "stream",
     "text": [
      "\n",
      "\n",
      " 90%|█████████ | 18/20 [36:15<06:54, 207.27s/it]"
     ]
    },
    {
     "name": "stdout",
     "output_type": "stream",
     "text": [
      "(180, 8)\n",
      "(180, 8)\n",
      "(180, 8, 1)\n",
      "input shape (8, 1)\n",
      "[0.021633440628647804, 0.021633440628647804]\n"
     ]
    },
    {
     "name": "stderr",
     "output_type": "stream",
     "text": [
      "\n",
      "\n",
      " 95%|█████████▌| 19/20 [39:39<03:26, 206.16s/it]"
     ]
    },
    {
     "name": "stdout",
     "output_type": "stream",
     "text": [
      "(180, 8)\n",
      "(180, 8)\n",
      "(180, 8, 1)\n",
      "input shape (8, 1)\n",
      "[0.02122805453836918, 0.02122805453836918]\n"
     ]
    },
    {
     "name": "stderr",
     "output_type": "stream",
     "text": [
      "\n",
      "\n",
      "100%|██████████| 20/20 [44:33<00:00, 232.60s/it]\n",
      "\n",
      "  0%|          | 0/20 [00:00<?, ?it/s]"
     ]
    },
    {
     "name": "stdout",
     "output_type": "stream",
     "text": [
      "(179, 9)\n",
      "(179, 9)\n",
      "(179, 9, 1)\n",
      "input shape (9, 1)\n",
      "[0.02261793427169323, 0.02261793427169323]\n"
     ]
    },
    {
     "name": "stderr",
     "output_type": "stream",
     "text": [
      "\n",
      "\n",
      " 55%|█████▌    | 11/20 [05:23<04:24, 29.43s/it]"
     ]
    },
    {
     "name": "stdout",
     "output_type": "stream",
     "text": [
      "(179, 9)\n",
      "(179, 9)\n",
      "(179, 9, 1)\n",
      "input shape (9, 1)\n",
      "[0.023550326004624367, 0.023550326004624367]\n"
     ]
    },
    {
     "name": "stderr",
     "output_type": "stream",
     "text": [
      "\n",
      "\n",
      " 60%|██████    | 12/20 [07:42<08:17, 62.21s/it]"
     ]
    },
    {
     "name": "stdout",
     "output_type": "stream",
     "text": [
      "(180, 8)\n",
      "(180, 8)\n",
      "(180, 8, 1)\n",
      "input shape (8, 1)\n",
      "[0.021831708028912544, 0.021831708028912544]\n"
     ]
    },
    {
     "name": "stderr",
     "output_type": "stream",
     "text": [
      "\n",
      "\n",
      " 65%|██████▌   | 13/20 [10:53<11:46, 100.98s/it]"
     ]
    },
    {
     "name": "stdout",
     "output_type": "stream",
     "text": [
      "(180, 8)\n",
      "(180, 8)\n",
      "(180, 8, 1)\n",
      "input shape (8, 1)\n",
      "[0.02142302878201008, 0.02142302878201008]\n"
     ]
    },
    {
     "name": "stderr",
     "output_type": "stream",
     "text": [
      "\n",
      "\n",
      " 70%|███████   | 14/20 [21:30<26:10, 261.67s/it]"
     ]
    },
    {
     "name": "stdout",
     "output_type": "stream",
     "text": [
      "(179, 9)\n",
      "(179, 9)\n",
      "(179, 9, 1)\n",
      "input shape (9, 1)\n",
      "[0.02232522703707218, 0.02232522703707218]\n"
     ]
    },
    {
     "name": "stderr",
     "output_type": "stream",
     "text": [
      "\n",
      "\n",
      " 75%|███████▌  | 15/20 [28:34<25:51, 310.25s/it]"
     ]
    },
    {
     "name": "stdout",
     "output_type": "stream",
     "text": [
      "(180, 8)\n",
      "(180, 8)\n",
      "(180, 8, 1)\n",
      "input shape (8, 1)\n",
      "[0.021870082244277, 0.021870082244277]\n"
     ]
    },
    {
     "name": "stderr",
     "output_type": "stream",
     "text": [
      "\n",
      "\n",
      " 80%|████████  | 16/20 [34:25<21:29, 322.48s/it]"
     ]
    },
    {
     "name": "stdout",
     "output_type": "stream",
     "text": [
      "(180, 8)\n",
      "(180, 8)\n",
      "(180, 8, 1)\n",
      "input shape (8, 1)\n",
      "[0.023991987109184265, 0.023991987109184265]\n"
     ]
    },
    {
     "name": "stderr",
     "output_type": "stream",
     "text": [
      "\n",
      "\n",
      " 85%|████████▌ | 17/20 [36:56<13:33, 271.30s/it]"
     ]
    },
    {
     "name": "stdout",
     "output_type": "stream",
     "text": [
      "(179, 9)\n",
      "(179, 9)\n",
      "(179, 9, 1)\n",
      "input shape (9, 1)\n",
      "[0.02357415296137333, 0.02357415296137333]\n"
     ]
    },
    {
     "name": "stderr",
     "output_type": "stream",
     "text": [
      "\n",
      "\n",
      " 90%|█████████ | 18/20 [40:47<08:38, 259.16s/it]"
     ]
    },
    {
     "name": "stdout",
     "output_type": "stream",
     "text": [
      "(180, 8)\n",
      "(180, 8)\n",
      "(180, 8, 1)\n",
      "input shape (8, 1)\n",
      "[0.020640574395656586, 0.020640574395656586]\n"
     ]
    },
    {
     "name": "stderr",
     "output_type": "stream",
     "text": [
      "\n",
      "\n",
      " 95%|█████████▌| 19/20 [49:37<05:40, 340.27s/it]"
     ]
    },
    {
     "name": "stdout",
     "output_type": "stream",
     "text": [
      "(180, 8)\n",
      "(180, 8)\n",
      "(180, 8, 1)\n",
      "input shape (8, 1)\n",
      "[0.020947515964508057, 0.020947515964508057]\n"
     ]
    },
    {
     "name": "stderr",
     "output_type": "stream",
     "text": [
      "\n",
      "\n",
      "100%|██████████| 20/20 [54:27<00:00, 325.12s/it]\n",
      "\n",
      "  0%|          | 0/20 [00:00<?, ?it/s]"
     ]
    },
    {
     "name": "stdout",
     "output_type": "stream",
     "text": [
      "(180, 8)\n",
      "(180, 8)\n",
      "(180, 8, 1)\n",
      "input shape (8, 1)\n",
      "[0.025991225615143776, 0.025991225615143776]\n"
     ]
    },
    {
     "name": "stderr",
     "output_type": "stream",
     "text": [
      "\n",
      "\n",
      " 45%|████▌     | 9/20 [02:06<02:34, 14.01s/it]"
     ]
    },
    {
     "name": "stdout",
     "output_type": "stream",
     "text": [
      "(180, 8)\n",
      "(180, 8)\n",
      "(180, 8, 1)\n",
      "input shape (8, 1)\n",
      "[0.0275829266756773, 0.0275829266756773]\n"
     ]
    },
    {
     "name": "stderr",
     "output_type": "stream",
     "text": [
      "\n",
      "\n",
      " 50%|█████     | 10/20 [06:03<13:29, 80.93s/it]"
     ]
    },
    {
     "name": "stdout",
     "output_type": "stream",
     "text": [
      "(180, 8)\n",
      "(180, 8)\n",
      "(180, 8, 1)\n",
      "input shape (8, 1)\n",
      "[0.023497680202126503, 0.023497680202126503]\n"
     ]
    },
    {
     "name": "stderr",
     "output_type": "stream",
     "text": [
      "\n",
      "\n",
      " 55%|█████▌    | 11/20 [11:50<24:06, 160.76s/it]"
     ]
    },
    {
     "name": "stdout",
     "output_type": "stream",
     "text": [
      "(180, 8)\n",
      "(180, 8)\n",
      "(180, 8, 1)\n",
      "input shape (8, 1)\n",
      "[0.027464091777801514, 0.027464091777801514]\n"
     ]
    },
    {
     "name": "stderr",
     "output_type": "stream",
     "text": [
      "\n",
      "\n",
      " 60%|██████    | 12/20 [17:58<29:43, 222.91s/it]"
     ]
    },
    {
     "name": "stdout",
     "output_type": "stream",
     "text": [
      "(181, 7)\n",
      "(181, 7)\n",
      "(181, 7, 1)\n",
      "input shape (7, 1)\n",
      "[0.02248132787644863, 0.02248132787644863]\n"
     ]
    },
    {
     "name": "stderr",
     "output_type": "stream",
     "text": [
      "\n",
      "\n",
      " 65%|██████▌   | 13/20 [25:36<34:15, 293.59s/it]"
     ]
    },
    {
     "name": "stdout",
     "output_type": "stream",
     "text": [
      "(180, 8)\n",
      "(180, 8)\n",
      "(180, 8, 1)\n",
      "input shape (8, 1)\n",
      "[0.021805280819535255, 0.021805280819535255]\n"
     ]
    },
    {
     "name": "stderr",
     "output_type": "stream",
     "text": [
      "\n",
      "\n",
      " 70%|███████   | 14/20 [30:56<30:08, 301.34s/it]"
     ]
    },
    {
     "name": "stdout",
     "output_type": "stream",
     "text": [
      "(180, 8)\n",
      "(180, 8)\n",
      "(180, 8, 1)\n",
      "input shape (8, 1)\n",
      "[0.02369365654885769, 0.02369365654885769]\n"
     ]
    },
    {
     "name": "stderr",
     "output_type": "stream",
     "text": [
      "\n",
      "\n",
      " 75%|███████▌  | 15/20 [33:14<21:02, 252.57s/it]"
     ]
    },
    {
     "name": "stdout",
     "output_type": "stream",
     "text": [
      "(180, 8)\n",
      "(180, 8)\n",
      "(180, 8, 1)\n",
      "input shape (8, 1)\n",
      "[0.01949598640203476, 0.01949598640203476]\n"
     ]
    },
    {
     "name": "stderr",
     "output_type": "stream",
     "text": [
      "\n",
      "\n",
      " 80%|████████  | 16/20 [37:58<17:27, 261.90s/it]"
     ]
    },
    {
     "name": "stdout",
     "output_type": "stream",
     "text": [
      "(180, 8)\n",
      "(180, 8)\n",
      "(180, 8, 1)\n",
      "input shape (8, 1)\n",
      "[0.02222576178610325, 0.02222576178610325]\n"
     ]
    },
    {
     "name": "stderr",
     "output_type": "stream",
     "text": [
      "\n",
      "\n",
      " 85%|████████▌ | 17/20 [43:31<14:09, 283.29s/it]"
     ]
    },
    {
     "name": "stdout",
     "output_type": "stream",
     "text": [
      "(180, 8)\n",
      "(180, 8)\n",
      "(180, 8, 1)\n",
      "input shape (8, 1)\n",
      "[0.021516749635338783, 0.021516749635338783]\n"
     ]
    },
    {
     "name": "stderr",
     "output_type": "stream",
     "text": [
      "\n",
      "\n",
      " 90%|█████████ | 18/20 [48:51<09:48, 294.33s/it]"
     ]
    },
    {
     "name": "stdout",
     "output_type": "stream",
     "text": [
      "(180, 8)\n",
      "(180, 8)\n",
      "(180, 8, 1)\n",
      "input shape (8, 1)\n",
      "[0.02087242901325226, 0.02087242901325226]\n"
     ]
    },
    {
     "name": "stderr",
     "output_type": "stream",
     "text": [
      "\n",
      "\n",
      " 95%|█████████▌| 19/20 [55:00<05:16, 316.78s/it]"
     ]
    },
    {
     "name": "stdout",
     "output_type": "stream",
     "text": [
      "(180, 8)\n",
      "(180, 8)\n",
      "(180, 8, 1)\n",
      "input shape (8, 1)\n",
      "[0.022788256406784058, 0.022788256406784058]\n"
     ]
    },
    {
     "name": "stderr",
     "output_type": "stream",
     "text": [
      "\n",
      "\n",
      "100%|██████████| 20/20 [59:59<00:00, 311.29s/it]\n",
      "\n",
      "  0%|          | 0/20 [00:00<?, ?it/s]"
     ]
    },
    {
     "name": "stdout",
     "output_type": "stream",
     "text": [
      "(180, 8)\n",
      "(180, 8)\n",
      "(180, 8, 1)\n",
      "input shape (8, 1)\n",
      "[0.020558452233672142, 0.020558452233672142]\n"
     ]
    },
    {
     "name": "stderr",
     "output_type": "stream",
     "text": [
      "\n",
      "\n",
      " 50%|█████     | 10/20 [05:54<05:54, 35.41s/it]"
     ]
    },
    {
     "name": "stdout",
     "output_type": "stream",
     "text": [
      "(180, 8)\n",
      "(180, 8)\n",
      "(180, 8, 1)\n",
      "input shape (8, 1)\n",
      "[0.026418006047606468, 0.026418006047606468]\n"
     ]
    },
    {
     "name": "stderr",
     "output_type": "stream",
     "text": [
      "\n",
      "\n",
      " 55%|█████▌    | 11/20 [10:22<15:47, 105.31s/it]"
     ]
    },
    {
     "name": "stdout",
     "output_type": "stream",
     "text": [
      "(180, 8)\n",
      "(180, 8)\n",
      "(180, 8, 1)\n",
      "input shape (8, 1)\n",
      "[0.020914390683174133, 0.020914390683174133]\n"
     ]
    },
    {
     "name": "stderr",
     "output_type": "stream",
     "text": [
      "\n",
      "\n",
      " 60%|██████    | 12/20 [15:11<21:22, 160.31s/it]"
     ]
    },
    {
     "name": "stdout",
     "output_type": "stream",
     "text": [
      "(180, 8)\n",
      "(180, 8)\n",
      "(180, 8, 1)\n",
      "input shape (8, 1)\n",
      "[0.02228081040084362, 0.02228081040084362]\n"
     ]
    },
    {
     "name": "stderr",
     "output_type": "stream",
     "text": [
      "\n",
      "\n",
      " 65%|██████▌   | 13/20 [21:16<25:53, 221.88s/it]"
     ]
    },
    {
     "name": "stdout",
     "output_type": "stream",
     "text": [
      "(180, 8)\n",
      "(180, 8)\n",
      "(180, 8, 1)\n",
      "input shape (8, 1)\n",
      "[0.020992964506149292, 0.020992964506149292]\n"
     ]
    },
    {
     "name": "stderr",
     "output_type": "stream",
     "text": [
      "\n",
      "\n",
      " 70%|███████   | 14/20 [26:30<24:56, 249.44s/it]"
     ]
    },
    {
     "name": "stdout",
     "output_type": "stream",
     "text": [
      "(180, 8)\n",
      "(180, 8)\n",
      "(180, 8, 1)\n",
      "input shape (8, 1)\n",
      "[0.02390092797577381, 0.02390092797577381]\n"
     ]
    },
    {
     "name": "stderr",
     "output_type": "stream",
     "text": [
      "\n",
      "\n",
      " 75%|███████▌  | 15/20 [31:18<21:44, 260.91s/it]"
     ]
    },
    {
     "name": "stdout",
     "output_type": "stream",
     "text": [
      "(180, 8)\n",
      "(180, 8)\n",
      "(180, 8, 1)\n",
      "input shape (8, 1)\n",
      "[0.02353345789015293, 0.02353345789015293]\n"
     ]
    },
    {
     "name": "stderr",
     "output_type": "stream",
     "text": [
      "\n",
      "\n",
      " 80%|████████  | 16/20 [34:14<15:42, 235.56s/it]"
     ]
    },
    {
     "name": "stdout",
     "output_type": "stream",
     "text": [
      "(180, 8)\n",
      "(180, 8)\n",
      "(180, 8, 1)\n",
      "input shape (8, 1)\n",
      "[0.024499302729964256, 0.024499302729964256]\n"
     ]
    },
    {
     "name": "stderr",
     "output_type": "stream",
     "text": [
      "\n",
      "\n",
      " 85%|████████▌ | 17/20 [36:50<10:34, 211.54s/it]"
     ]
    },
    {
     "name": "stdout",
     "output_type": "stream",
     "text": [
      "(180, 8)\n",
      "(180, 8)\n",
      "(180, 8, 1)\n",
      "input shape (8, 1)\n",
      "[0.021078800782561302, 0.021078800782561302]\n"
     ]
    },
    {
     "name": "stderr",
     "output_type": "stream",
     "text": [
      "\n",
      "\n",
      " 90%|█████████ | 18/20 [46:30<10:44, 322.17s/it]"
     ]
    },
    {
     "name": "stdout",
     "output_type": "stream",
     "text": [
      "(180, 8)\n",
      "(180, 8)\n",
      "(180, 8, 1)\n",
      "input shape (8, 1)\n",
      "[0.013048987835645676, 0.013048987835645676]\n"
     ]
    },
    {
     "name": "stderr",
     "output_type": "stream",
     "text": [
      "\n",
      "\n",
      " 95%|█████████▌| 19/20 [1:01:58<08:23, 503.97s/it]"
     ]
    },
    {
     "name": "stdout",
     "output_type": "stream",
     "text": [
      "(180, 8)\n",
      "(180, 8)\n",
      "(180, 8, 1)\n",
      "input shape (8, 1)\n",
      "[0.02283422090113163, 0.02283422090113163]\n"
     ]
    },
    {
     "name": "stderr",
     "output_type": "stream",
     "text": [
      "\n",
      "\n",
      "100%|██████████| 20/20 [1:04:27<00:00, 397.51s/it]"
     ]
    },
    {
     "name": "stdout",
     "output_type": "stream",
     "text": [
      "[<__main__.Network object at 0x0000022F99C973C8>, <__main__.Network object at 0x0000022F5F898D30>, <__main__.Network object at 0x0000022EF2E7B4A8>, <__main__.Network object at 0x0000022F2AE95A90>, <__main__.Network object at 0x0000022F5F898B38>]\n"
     ]
    }
   ],
   "source": [
    "main()\n",
    "\n",
    "\n",
    "    "
   ]
  },
  {
   "cell_type": "code",
   "execution_count": 21,
   "metadata": {},
   "outputs": [
    {
     "name": "stdout",
     "output_type": "stream",
     "text": [
      "[0.021304383873939514, 0.021304383873939514]\n"
     ]
    }
   ],
   "source": [
    "# Helper: Early stopping.\n",
    "logging.info('entrada')\n",
    "early_stopper = EarlyStopping(patience=10)\n",
    "\n",
    "batch_size = 1\n",
    "i_neurons = 8\n",
    "nb_layers = 1\n",
    "nb_neurons = 20\n",
    "activation = 'relu'\n",
    "optimizer = 'adam'\n",
    "nb_classes = 1\n",
    "\n",
    "\n",
    "\n",
    "model = Sequential()\n",
    "input_shape = (i_neurons, )\n",
    "\n",
    "\n",
    "\n",
    "# Add each layer.\n",
    "for i in range(nb_layers):\n",
    "\n",
    "    # Need input shape for first layer.\n",
    "    if i == 0:\n",
    "        model.add(Dense(nb_neurons, activation=activation, input_shape=input_shape))\n",
    "    else:\n",
    "        model.add(Dense(nb_neurons, activation=activation))\n",
    "\n",
    "    model.add(Dropout(0.2))  # hard-coded dropout\n",
    "\n",
    "# Output layer.\n",
    "model.add(Dense(nb_classes, activation=activation))\n",
    "\n",
    "model.compile(loss='mean_squared_error', optimizer=optimizer,metrics=['mean_squared_error'])\n",
    "\n",
    "\n",
    "# Set defaults.\n",
    "serie1 = TimeSeriesNN3(1,14,Serie_1,i_neurons)\n",
    "\n",
    "# Get the data.\n",
    "(x_train, y_train), (x_test, y_test) = serie1.batch()\n",
    "x_train = x_train.astype('float32')\n",
    "x_test = x_test.astype('float32')\n",
    "\n",
    "\n",
    "model.fit(x_train, y_train,\n",
    "          batch_size=batch_size,\n",
    "          epochs=10000,  # using early stopping, so no real limit\n",
    "          verbose=0,\n",
    "          validation_data=(x_test, y_test),\n",
    "          callbacks=[early_stopper])\n",
    "\n",
    "score = model.evaluate(x_test, y_test, verbose=0)\n",
    "print(score)\n",
    "logging.info('salida')"
   ]
  },
  {
   "cell_type": "code",
   "execution_count": 22,
   "metadata": {
    "scrolled": true
   },
   "outputs": [
    {
     "data": {
      "image/png": "[encoded data removed]",
      "text/plain": [
       "<Figure size 720x432 with 1 Axes>"
      ]
     },
     "metadata": {
      "needs_background": "light"
     },
     "output_type": "display_data"
    }
   ],
   "source": [
    "predictions = model.predict(x_train)  \n",
    "predictions = scaler.inverse_transform(predictions) \n",
    "labelsf = scaler.inverse_transform( y_train) \n",
    "plt.figure(figsize=(10,6))  \n",
    "plt.plot(labelsf, color='blue', label='Actual ')  \n",
    "plt.plot(predictions , color='red', label='Predicted ')  \n",
    "plt.title('Prediction')  \n",
    "plt.xlabel('Date')  \n",
    "plt.ylabel('Stock Price')  \n",
    "plt.legend()  \n",
    "plt.show()  "
   ]
  },
  {
   "cell_type": "code",
   "execution_count": 23,
   "metadata": {},
   "outputs": [],
   "source": [
    "def error_fun_list (lista_predicciones, lista_real):\n",
    "    cnt_total = 0\n",
    "    cnt_aciertos = 0\n",
    "    for i in range (0, len(lista_predicciones)):\n",
    "        if lista_predicciones[i] <= (lista_real[i] + 0.1) and lista_predicciones[i] >= (lista_real[i] - 0.1):\n",
    "            cnt_aciertos += 1\n",
    "        cnt_total += 1\n",
    "    accuracy = cnt_aciertos/cnt_total\n",
    "    print (\"aciertos totales\",cnt_aciertos, \"total\", cnt_total )\n",
    "    print (\"accuracy\", accuracy)\n",
    "    return accuracy"
   ]
  },
  {
   "cell_type": "code",
   "execution_count": 24,
   "metadata": {},
   "outputs": [
    {
     "name": "stdout",
     "output_type": "stream",
     "text": [
      "aciertos totales 60 total 180\n",
      "accuracy 0.3333333333333333\n"
     ]
    },
    {
     "data": {
      "text/plain": [
       "0.3333333333333333"
      ]
     },
     "execution_count": 24,
     "metadata": {},
     "output_type": "execute_result"
    }
   ],
   "source": [
    "predictions = model.predict(x_train) \n",
    "predictions\n",
    "y_train\n",
    "error_fun_list(predictions,y_train)"
   ]
  }
 ],
 "metadata": {
  "kernelspec": {
   "display_name": "Python 3",
   "language": "python",
   "name": "python3"
  },
  "language_info": {
   "codemirror_mode": {
    "name": "ipython",
    "version": 3
   },
   "file_extension": ".py",
   "mimetype": "text/x-python",
   "name": "python",
   "nbconvert_exporter": "python",
   "pygments_lexer": "ipython3",
   "version": "3.7.1"
  }
 },
 "nbformat": 4,
 "nbformat_minor": 2
}
