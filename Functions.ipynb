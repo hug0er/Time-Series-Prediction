{
 "cells": [
  {
   "cell_type": "code",
   "execution_count": 1,
   "metadata": {},
   "outputs": [],
   "source": [
    "class TimeSeriesNN3():\n",
    "    def __init__(self,STEPS_AHEAD ,NUMBER_TESTING , SERIE, WINDOW):\n",
    "        self.STEPS_AHEAD = STEPS_AHEAD\n",
    "        self.WINDOW = WINDOW\n",
    "        self.NUMBER_TESTING = NUMBER_TESTING\n",
    "        self.SERIE = SERIE\n",
    "        self.SIZE = SERIE.shape[0]\n",
    "        self.NUMBER_TRAINING = self.SIZE - self.NUMBER_TESTING\n",
    "    \n",
    "    def divide_testing (self):\n",
    "        return (self.SERIE[:self.NUMBER_TRAINING],self.SERIE[self.NUMBER_TRAINING:])\n",
    "    \n",
    "    def divide_validation (self,serie):\n",
    "        experimentx = np.zeros((len(serie) - self.WINDOW -self.STEPS_AHEAD + 1, self.WINDOW))\n",
    "        experimenty = np.zeros((len(serie) - self.WINDOW -self.STEPS_AHEAD + 1,self.STEPS_AHEAD))\n",
    "        cnt =  0\n",
    "        cnt2 = 0\n",
    "        #serie = serie.reset_index(drop = True)\n",
    "        for i in range (experimentx.shape[0]):\n",
    "            cnt += cnt2\n",
    "            for j in range (self.WINDOW):\n",
    "                experimentx[i][j] = serie[cnt]\n",
    "                cnt += 1   \n",
    "            #print(serie[cnt:cnt + self.STEPS_AHEAD], \" \\n\")    \n",
    "            valores = serie[cnt:cnt + self.STEPS_AHEAD]\n",
    "            for h in range(len(valores)):\n",
    "                experimenty[i][h] = valores[h]\n",
    "            cnt = 0\n",
    "            cnt2 += 1           \n",
    "        return (experimentx, experimenty)\n",
    "    \n",
    "    def batch (self):\n",
    "        training,testing = self.divide_testing()\n",
    "        tex,tey = self.divide_validation(testing)\n",
    "        tx,ty = self.divide_validation(training)        \n",
    "        return (tx,ty) , (tex,tey)"
   ]
  }
 ],
 "metadata": {
  "kernelspec": {
   "display_name": "Python 3",
   "language": "python",
   "name": "python3"
  },
  "language_info": {
   "codemirror_mode": {
    "name": "ipython",
    "version": 3
   },
   "file_extension": ".py",
   "mimetype": "text/x-python",
   "name": "python",
   "nbconvert_exporter": "python",
   "pygments_lexer": "ipython3",
   "version": "3.7.1"
  }
 },
 "nbformat": 4,
 "nbformat_minor": 2
}
