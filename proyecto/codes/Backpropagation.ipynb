{
 "cells": [
  {
   "cell_type": "code",
   "execution_count": 20,
   "metadata": {},
   "outputs": [],
   "source": [
    "import tensorflow\n",
    "import tensorflow as tf\n",
    "import pandas as pd \n",
    "import numpy as np\n",
    "import matplotlib \n",
    "import matplotlib.pyplot as plt\n",
    "import time\n",
    "import sys\n",
    "import copy \n",
    "\n",
    "%matplotlib inline\n",
    "\n",
    "\n",
    "class BackPropagation:\n",
    "    def __init__(self, iteraciones, LR, neurons, window_size, prediction_size, train_size):\n",
    "        iterations = iteraciones\n",
    "        LR = LR\n",
    "        neurons = neurons\n",
    "        window_size = window_size\n",
    "        prediction_size = prediction_size\n",
    "        train_size = train_size\n",
    "        #########################################################\n",
    "        priv_dat = pd.read_excel(\"privateProdAllYears.xls\", one_hot=True)\n",
    "        public_dat = pd.read_excel(\"publicProdAllYears.xls\")\n",
    "        data = (priv_dat[\"Average\"])\n",
    "        data = np.array(data)/np.max(data)\n",
    "        data_size = (data.size)\n",
    "        validate_size = data_size - train_size\n",
    "        #########################################################\n",
    "        a_0 = tf.placeholder(tf.float32, [1, window_size])\n",
    "        y = tf.placeholder(tf.float32, [1, prediction_size])\n",
    "        w_1 = tf.Variable(tf.truncated_normal([window_size, neurons]))\n",
    "        w_2 = tf.Variable(tf.truncated_normal([neurons, prediction_size]))\n",
    "        ##########################################################\n",
    "        def sigma(x):\n",
    "            return tf.div(tf.constant(1.0),\n",
    "                          tf.add(tf.constant(1.0), tf.exp(tf.negative(x))))\n",
    "\n",
    "        def sigmaprime(x):\n",
    "            return tf.multiply(sigma(x), tf.subtract(tf.constant(1.0), sigma(x)))\n",
    "\n",
    "        ##############################################################\n",
    "        z_1 = tf.matmul(a_0, w_1)\n",
    "        a_1 = sigma(z_1)\n",
    "        z_2 = tf.matmul(a_1, w_2)\n",
    "        a_2 = sigma(z_2)\n",
    "        diff = tf.subtract(a_2, y)\n",
    "        ###############################################################\n",
    "        d_z_2 = tf.multiply(diff, sigmaprime(z_2))\n",
    "        d_b_2 = d_z_2\n",
    "        d_w_2 = tf.matmul(tf.transpose(a_1), d_z_2)\n",
    "        d_a_1 = tf.matmul(d_z_2, tf.transpose(w_2))\n",
    "        d_z_1 = tf.multiply(d_a_1, sigmaprime(z_1))\n",
    "        d_b_1 = d_z_1\n",
    "        d_w_1 = tf.matmul(tf.transpose(a_0), d_z_1)\n",
    "        ###############################################################\n",
    "        eta = tf.constant(LR)\n",
    "        cost = tf.multiply(diff, diff)\n",
    "        cost = tf.sqrt(cost)\n",
    "        #step = tf.train.GradientDescentOptimizer(0.1).minimize(cost)\n",
    "        step = [\n",
    "            tf.assign(w_1,\n",
    "                    tf.subtract(w_1, tf.multiply(eta, d_w_1)))\n",
    "          , tf.assign(w_2,\n",
    "                    tf.subtract(w_2, tf.multiply(eta, d_w_2)))\n",
    "        ]\n",
    "        sess = tf.InteractiveSession()\n",
    "        sess.run(tf.global_variables_initializer())\n",
    "        df = pd.DataFrame(columns=['error'])\n",
    "        ##############################################################################################\n",
    "        for i in range(iterations):\n",
    "            error_final = 0\n",
    "            for j in range ((train_size - prediction_size) - window_size):\n",
    "                batch_xs = (data[j: j+window_size])\n",
    "                batch_ys = (data[j+window_size ])\n",
    "                batch_xs = np.reshape(batch_xs,(1,window_size))\n",
    "                batch_ys = np.reshape(batch_ys,(1,1))\n",
    "                sess.run([step,cost], feed_dict = {a_0: batch_xs, y : batch_ys})\n",
    "            for j in range (train_size,((data_size - prediction_size) - window_size)):\n",
    "                batch_xs = (data[j: j+ window_size])\n",
    "                batch_ys = (data[j + window_size])\n",
    "                batch_xs = np.reshape(batch_xs,(1,window_size))\n",
    "                batch_ys = np.reshape(batch_ys,(1,1))\n",
    "                error = sess.run([cost], feed_dict = {a_0: batch_xs, y : batch_ys})\n",
    "                error_final += error[0][0][0]\n",
    "            df = df.append({'error':error_final/validate_size}, ignore_index=True)\n",
    "        self.resultado = df\n",
    "        self.final_result = error_final\n"
   ]
  },
  {
   "cell_type": "code",
   "execution_count": null,
   "metadata": {},
   "outputs": [],
   "source": []
  },
  {
   "cell_type": "code",
   "execution_count": 11,
   "metadata": {},
   "outputs": [
    {
     "name": "stdout",
     "output_type": "stream",
     "text": [
      "--- 14.16408920288086 seconds ---\n"
     ]
    }
   ],
   "source": [
    "start_time = time.time()\n",
    "prueba = BackPropagation (200,0.1,10,10,1,120)\n",
    "print(\"--- %s seconds ---\" % (time.time() - start_time))\n"
   ]
  },
  {
   "cell_type": "code",
   "execution_count": 12,
   "metadata": {},
   "outputs": [
    {
     "data": {
      "text/plain": [
       "<matplotlib.axes._subplots.AxesSubplot at 0x7f78512ca2b0>"
      ]
     },
     "execution_count": 12,
     "metadata": {},
     "output_type": "execute_result"
    },
    {
     "data": {
      "image/png": "[encoded data removed]",
      "text/plain": [
       "<Figure size 432x288 with 1 Axes>"
      ]
     },
     "metadata": {
      "needs_background": "light"
     },
     "output_type": "display_data"
    }
   ],
   "source": [
    "df = prueba.resultado\n",
    "df.plot()"
   ]
  }
 ],
 "metadata": {
  "kernelspec": {
   "display_name": "Python 3",
   "language": "python",
   "name": "python3"
  },
  "language_info": {
   "codemirror_mode": {
    "name": "ipython",
    "version": 3
   },
   "file_extension": ".py",
   "mimetype": "text/x-python",
   "name": "python",
   "nbconvert_exporter": "python",
   "pygments_lexer": "ipython3",
   "version": "3.7.1"
  }
 },
 "nbformat": 4,
 "nbformat_minor": 2
}
