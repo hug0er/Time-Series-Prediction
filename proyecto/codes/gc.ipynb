{
 "cells": [
  {
   "cell_type": "code",
   "execution_count": 1,
   "metadata": {},
   "outputs": [],
   "source": [
    "import io, os, sys, types\n",
    "\n",
    "from IPython import get_ipython\n",
    "from nbformat import read\n",
    "from IPython.core.interactiveshell import InteractiveShell\n",
    "\n",
    "import tensorflow\n",
    "import tensorflow as tf\n",
    "import pandas as pd \n",
    "import numpy as np\n",
    "import matplotlib \n",
    "import matplotlib.pyplot as plt\n",
    "import time\n",
    "import sys\n",
    "%matplotlib inline\n",
    "import random\n",
    "import copy\n",
    "\n",
    "random.seed(a=0)\n",
    "\n",
    "class GeneticPool(object):\n",
    "    def __init__(\n",
    "        self, \n",
    "        populationSize = 8, \n",
    "        mutationRate = 0.1, \n",
    "        ins = None,\n",
    "        outs = None):\n",
    "\n",
    "        self.populationSize = populationSize\n",
    "        self.mutationRate = mutationRate\n",
    "        self.poolLR = [0.1, 0.5]\n",
    "        self.poolInputNeurons = [16,20]\n",
    "        self.poolHiddenLayer = [2,2.5]\n",
    "        \n",
    "    def generatePopulation(self):\n",
    "        self.chromosomes = []\n",
    "        for _ in range(self.populationSize):\n",
    "            c = self.generateChromosome()\n",
    "            self.chromosomes += [c]\n",
    "                      \n",
    "    def generateChromosome(self):\n",
    "        class Chromosome:\n",
    "            LR = random.uniform(self.poolLR[0], self.poolLR[1])\n",
    "            InputNeurons = self.poolInputNeurons[random.randint(1,len(self.poolInputNeurons))-1]          \n",
    "            HiddenLayer = self.poolHiddenLayer[random.randint(1,len(self.poolHiddenLayer))-1]\n",
    "            Error = 0\n",
    "            pesoEnt = []\n",
    "            pesoSal = []\n",
    "        chromosome = Chromosome() \n",
    "        return chromosome\n",
    "    "
   ]
  },
  {
   "cell_type": "code",
   "execution_count": 2,
   "metadata": {},
   "outputs": [],
   "source": [
    "class BackPropagation:\n",
    "    def __init__(self, iteraciones, LR, neurons, window_size, prediction_size, train_size):\n",
    "        iterations = iteraciones\n",
    "        LR = LR\n",
    "        neurons = int(neurons)\n",
    "        window_size = int(window_size)\n",
    "        prediction_size = prediction_size\n",
    "        train_size = train_size\n",
    "        #########################################################\n",
    "        dat = pd.read_excel(\"1999-2018.xls\", one_hot=True)\n",
    "        data = (dat[\"Average\"])\n",
    "        #data = (validate_dat[\"Average\"])    \n",
    "        data = np.array(data)/np.max(data)\n",
    "        data_size = (data.size)\n",
    "        validate_size = data_size - train_size\n",
    "        #########################################################\n",
    "        a_0 = tf.placeholder(tf.float32, [1, window_size])\n",
    "        y = tf.placeholder(tf.float32, [1, prediction_size])\n",
    "        w_1 = tf.Variable(tf.truncated_normal([window_size, neurons]))\n",
    "        w_2 = tf.Variable(tf.truncated_normal([neurons, prediction_size]))\n",
    "        ##########################################################\n",
    "        def sigma(x):\n",
    "            return tf.div(tf.constant(1.0),\n",
    "                          tf.add(tf.constant(1.0), tf.exp(tf.negative(x))))\n",
    "\n",
    "        def sigmaprime(x):\n",
    "            return tf.multiply(sigma(x), tf.subtract(tf.constant(1.0), sigma(x)))\n",
    "\n",
    "        ##############################################################\n",
    "        z_1 = tf.matmul(a_0, w_1)\n",
    "        a_1 = sigma(z_1)\n",
    "        z_2 = tf.matmul(a_1, w_2)\n",
    "        a_2 = sigma(z_2)\n",
    "        diff = tf.subtract(a_2, y)\n",
    "        ###############################################################\n",
    "        d_z_2 = tf.multiply(diff, sigmaprime(z_2))\n",
    "        d_b_2 = d_z_2\n",
    "        d_w_2 = tf.matmul(tf.transpose(a_1), d_z_2)\n",
    "        d_a_1 = tf.matmul(d_z_2, tf.transpose(w_2))\n",
    "        d_z_1 = tf.multiply(d_a_1, sigmaprime(z_1))\n",
    "        d_b_1 = d_z_1\n",
    "        d_w_1 = tf.matmul(tf.transpose(a_0), d_z_1)\n",
    "        ###############################################################\n",
    "        eta = tf.constant(LR)\n",
    "        cost = tf.multiply(diff, diff)\n",
    "        cost = tf.sqrt(cost)\n",
    "        #step = tf.train.GradientDescentOptimizer(0.1).minimize(cost)\n",
    "        step = [\n",
    "            tf.assign(w_1,\n",
    "                    tf.subtract(w_1, tf.multiply(eta, d_w_1)))\n",
    "          , tf.assign(w_2,\n",
    "                    tf.subtract(w_2, tf.multiply(eta, d_w_2)))\n",
    "        ]\n",
    "        sess = tf.InteractiveSession()\n",
    "        sess.run(tf.global_variables_initializer())\n",
    "        df = pd.DataFrame(columns=['error'])\n",
    "        comp1=0\n",
    "        ##############################################################################################\n",
    "        for i in range(iterations):\n",
    "            error_final = 0\n",
    "            for j in range ((train_size - prediction_size) - window_size):\n",
    "                batch_xs = (data[j: j+window_size])\n",
    "                batch_ys = (data[j+window_size ])\n",
    "                batch_xs = np.reshape(batch_xs,(1,window_size))\n",
    "                batch_ys = np.reshape(batch_ys,(1,1))\n",
    "                sess.run([step,cost], feed_dict = {a_0: batch_xs, y : batch_ys})\n",
    "            for j in range (12):\n",
    "                ss = 12\n",
    "                batch_xs = (data[train_size - window_size +j: train_size +j])\n",
    "                batch_ys = (data[train_size + j])\n",
    "                batch_xs = np.reshape(batch_xs,(1,window_size))\n",
    "                batch_ys = np.reshape(batch_ys,(1,1))\n",
    "                error,rediff,w1,w2 = sess.run([cost,a_2,w_1,w_2], feed_dict = {a_0: batch_xs, y : batch_ys})\n",
    "                error_final += error[0][0]\n",
    "            lis =[]\n",
    "            for j in range(len(w2)):\n",
    "                lis.append(w2[j][0])\n",
    "            index = np.arange(len(lis))\n",
    "            plt.figure(i)\n",
    "            plt.bar(index,lis)\n",
    "            plt.savefig('pesos.png')\n",
    "            plt.show()\n",
    "            plt.close()\n",
    "            if(i==0):\n",
    "                comp1=error_final/ss\n",
    "                df.append({'error':error_final/ss}, ignore_index=True)\n",
    "                self.final_result = error_final/ss\n",
    "            else:\n",
    "                if(comp1<error_final/ss):\n",
    "                    break\n",
    "                else:\n",
    "                    comp1=error_final/ss\n",
    "                    df.append({'error':error_final/ss}, ignore_index=True)\n",
    "                    self.rediff = rediff\n",
    "                    self.final_result = error_final/ss\n",
    "        self.resultado = df\n",
    "        self.pesosEnt = w1\n",
    "        self.pesosHid = w2\n",
    "        sess.close()"
   ]
  },
  {
   "cell_type": "code",
   "execution_count": 3,
   "metadata": {},
   "outputs": [],
   "source": [
    "def StartGenetic():\n",
    "    a = GeneticPool()\n",
    "    a.generatePopulation()\n",
    "    listIndex = []\n",
    "    for i in range (len(a.chromosomes)):\n",
    "        b = BackPropagation (20,a.chromosomes[i].LR,int(a.chromosomes[i].HiddenLayer*(a.chromosomes[i].InputNeurons)), int(a.chromosomes[i].InputNeurons), 1, 216)\n",
    "        #b.resultado.plot()\n",
    "        a.chromosomes[i].Error = b.final_result\n",
    "    return a.chromosomes\n",
    "\n",
    "def Fitness(num, obj):\n",
    "    listIndex = []   \n",
    "    for i in range (len(obj)):\n",
    "        if i == 0:\n",
    "            listIndex = [i]\n",
    "        elif len(listIndex) <= num -1 :\n",
    "            if obj[listIndex[len(listIndex)-1]].Error <= obj[i].Error:\n",
    "                listIndex.append(i)\n",
    "            else :\n",
    "                for j in range (len(listIndex),-1,-1):\n",
    "                    if j == 0:\n",
    "                        listIndex.insert(0,i)\n",
    "                        break\n",
    "                        \n",
    "                    elif obj[listIndex[j-1]].Error <= obj[i].Error:\n",
    "                        listIndex.insert(j,i)\n",
    "                        break\n",
    "        else :\n",
    "            if obj[listIndex[len(listIndex)-1]].Error >= obj[i].Error:\n",
    "                for j in range (len(listIndex),-1,-1):\n",
    "                    if j == 0:\n",
    "                        listIndex.insert(0,i)\n",
    "                        listIndex.pop()\n",
    "                        break\n",
    "                        \n",
    "                    elif obj[listIndex[j-1]].Error <= obj[i].Error:\n",
    "                        listIndex.insert(j,i)  \n",
    "                        listIndex.pop()\n",
    "                        break\n",
    "    matingPool = []\n",
    "    for i in listIndex:\n",
    "        matingPool.append(obj[i])\n",
    "    return matingPool\n",
    "        \n",
    "        \n",
    "        "
   ]
  },
  {
   "cell_type": "code",
   "execution_count": 4,
   "metadata": {},
   "outputs": [],
   "source": [
    "def swap(w1,w2):\n",
    "    mutation = 0.1\n",
    "    poolLR = [0.1, 0.5]\n",
    "    poolInputNeurons = [16,20]\n",
    "    poolHiddenLayer = [2,2.5]\n",
    "    children = copy.deepcopy(w1)\n",
    "    r = random.randint(0,1)\n",
    "    if r == 0:\n",
    "        children.HiddenLayer = w2.HiddenLayer\n",
    "    else :\n",
    "        children.LR = w2.LR\n",
    "        children.InputNeurons = w2.InputNeurons\n",
    "    \n",
    "    for i in range(3):\n",
    "        valor = random.uniform(0,1)\n",
    "        if  valor < mutation:\n",
    "            if (i  == 0):\n",
    "                children.HiddenLayer = poolHiddenLayer[random.randint(0, len(poolHiddenLayer)-1)]\n",
    "            elif (i == 1):\n",
    "                children.LR = random.uniform(poolLR[0], poolLR[1])\n",
    "            else:\n",
    "                children.InputNeurons = poolInputNeurons[random.randint(0,len(poolInputNeurons)-1)]\n",
    "                \n",
    "    return children\n",
    "\n",
    "def CrossOver(matingPool,population):\n",
    "    \n",
    "    percentage = []\n",
    "    total_error = 0\n",
    "    suma = 0\n",
    "    roulette = []\n",
    "    newGeneration = []\n",
    "    \n",
    "    for i in matingPool:\n",
    "        percentage.append(1/i.Error)\n",
    "        total_error += 1/i.Error\n",
    "    for i in range(len(matingPool)):\n",
    "        percentage[i] = round((percentage[i]/total_error)*100)\n",
    "    \n",
    "    for i in percentage:\n",
    "        suma += i\n",
    "    \n",
    "    if suma > 100:\n",
    "        percentage[len(percentage)-1] -= suma - 100\n",
    "    \n",
    "    elif suma < 100:\n",
    "        percentage[0] += 100 - suma\n",
    "\n",
    "    \n",
    "    var = 0\n",
    "    for i in percentage:\n",
    "        for j in range (int(i)):\n",
    "            roulette.append(matingPool[var])\n",
    "        var += 1\n",
    "    \n",
    "    print(1, matingPool[0].LR,matingPool[1].LR)\n",
    "    for i in range(population):\n",
    "        winner1 = random.randint(0,len(roulette)-1)\n",
    "        winner2 = winner1\n",
    "        while (winner2 == winner1):\n",
    "            winner2 = random.randint(0,len(roulette)-1)\n",
    "        #print(2, matingPool[0].LR,matingPool[1].LR)\n",
    "        newGeneration.append(swap(roulette[winner1],roulette[winner2]))\n",
    "    return newGeneration\n",
    "\n",
    "    \n",
    "    "
   ]
  },
  {
   "cell_type": "code",
   "execution_count": 5,
   "metadata": {},
   "outputs": [],
   "source": [
    "\n",
    "def main ():\n",
    "    x = StartGenetic()\n",
    "    b = Fitness(5,x)\n",
    "    fg=x\n",
    "    z = CrossOver(b,8)\n",
    "    for epocas in range (2):\n",
    "        for i in z:\n",
    "            er = BackPropagation(20,i.LR,int(i.HiddenLayer*(i.InputNeurons)),int(i.InputNeurons),1,216)\n",
    "            i.Error = er.final_result\n",
    "            i.pesoEnt = er.pesosEnt\n",
    "            i.pesoSal = er.pesosHid\n",
    "            #print(i.pesoSal)\n",
    "        b = Fitness(5,z)\n",
    "        #print(vars(b[0]))\n",
    "        z = CrossOver(b,8)\n",
    "    return z"
   ]
  },
  {
   "cell_type": "code",
   "execution_count": 6,
   "metadata": {},
   "outputs": [
    {
     "data": {
      "image/png": "[encoded data removed]",
      "text/plain": [
       "<Figure size 432x288 with 1 Axes>"
      ]
     },
     "metadata": {
      "needs_background": "light"
     },
     "output_type": "display_data"
    },
    {
     "data": {
      "image/png": "[encoded data removed]",
      "text/plain": [
       "<Figure size 432x288 with 1 Axes>"
      ]
     },
     "metadata": {
      "needs_background": "light"
     },
     "output_type": "display_data"
    },
    {
     "data": {
      "image/png": "[encoded data removed]",
      "text/plain": [
       "<Figure size 432x288 with 1 Axes>"
      ]
     },
     "metadata": {
      "needs_background": "light"
     },
     "output_type": "display_data"
    },
    {
     "data": {
      "image/png": "[encoded data removed]",
      "text/plain": [
       "<Figure size 432x288 with 1 Axes>"
      ]
     },
     "metadata": {
      "needs_background": "light"
     },
     "output_type": "display_data"
    },
    {
     "data": {
      "image/png": "[encoded data removed]",
      "text/plain": [
       "<Figure size 432x288 with 1 Axes>"
      ]
     },
     "metadata": {
      "needs_background": "light"
     },
     "output_type": "display_data"
    },
    {
     "data": {
      "image/png": "[encoded data removed]",
      "text/plain": [
       "<Figure size 432x288 with 1 Axes>"
      ]
     },
     "metadata": {
      "needs_background": "light"
     },
     "output_type": "display_data"
    },
    {
     "data": {
      "image/png": "[encoded data removed]",
      "text/plain": [
       "<Figure size 432x288 with 1 Axes>"
      ]
     },
     "metadata": {
      "needs_background": "light"
     },
     "output_type": "display_data"
    },
    {
     "data": {
      "image/png": "[encoded data removed]",
      "text/plain": [
       "<Figure size 432x288 with 1 Axes>"
      ]
     },
     "metadata": {
      "needs_background": "light"
     },
     "output_type": "display_data"
    },
    {
     "data": {
      "image/png": "[encoded data removed]",
      "text/plain": [
       "<Figure size 432x288 with 1 Axes>"
      ]
     },
     "metadata": {
      "needs_background": "light"
     },
     "output_type": "display_data"
    },
    {
     "ename": "KeyboardInterrupt",
     "evalue": "",
     "output_type": "error",
     "traceback": [
      "\u001b[0;31m---------------------------------------------------------------------------\u001b[0m",
      "\u001b[0;31mKeyboardInterrupt\u001b[0m                         Traceback (most recent call last)",
      "\u001b[0;32m<ipython-input-6-924e784da454>\u001b[0m in \u001b[0;36m<module>\u001b[0;34m\u001b[0m\n\u001b[0;32m----> 1\u001b[0;31m \u001b[0mBackPropagation\u001b[0m\u001b[0;34m(\u001b[0m\u001b[0;36m20\u001b[0m\u001b[0;34m,\u001b[0m \u001b[0;36m0.247295355366197\u001b[0m\u001b[0;34m,\u001b[0m\u001b[0;36m2.5\u001b[0m\u001b[0;34m*\u001b[0m\u001b[0;36m16\u001b[0m\u001b[0;34m,\u001b[0m\u001b[0;36m3\u001b[0m\u001b[0;34m,\u001b[0m\u001b[0;36m1\u001b[0m\u001b[0;34m,\u001b[0m\u001b[0;36m180\u001b[0m\u001b[0;34m)\u001b[0m\u001b[0;34m\u001b[0m\u001b[0m\n\u001b[0m",
      "\u001b[0;32m<ipython-input-2-6b38c2ba28ca>\u001b[0m in \u001b[0;36m__init__\u001b[0;34m(self, iteraciones, LR, neurons, window_size, prediction_size, train_size)\u001b[0m\n\u001b[1;32m     64\u001b[0m                 \u001b[0mbatch_xs\u001b[0m \u001b[0;34m=\u001b[0m \u001b[0mnp\u001b[0m\u001b[0;34m.\u001b[0m\u001b[0mreshape\u001b[0m\u001b[0;34m(\u001b[0m\u001b[0mbatch_xs\u001b[0m\u001b[0;34m,\u001b[0m\u001b[0;34m(\u001b[0m\u001b[0;36m1\u001b[0m\u001b[0;34m,\u001b[0m\u001b[0mwindow_size\u001b[0m\u001b[0;34m)\u001b[0m\u001b[0;34m)\u001b[0m\u001b[0;34m\u001b[0m\u001b[0m\n\u001b[1;32m     65\u001b[0m                 \u001b[0mbatch_ys\u001b[0m \u001b[0;34m=\u001b[0m \u001b[0mnp\u001b[0m\u001b[0;34m.\u001b[0m\u001b[0mreshape\u001b[0m\u001b[0;34m(\u001b[0m\u001b[0mbatch_ys\u001b[0m\u001b[0;34m,\u001b[0m\u001b[0;34m(\u001b[0m\u001b[0;36m1\u001b[0m\u001b[0;34m,\u001b[0m\u001b[0;36m1\u001b[0m\u001b[0;34m)\u001b[0m\u001b[0;34m)\u001b[0m\u001b[0;34m\u001b[0m\u001b[0m\n\u001b[0;32m---> 66\u001b[0;31m                 \u001b[0msess\u001b[0m\u001b[0;34m.\u001b[0m\u001b[0mrun\u001b[0m\u001b[0;34m(\u001b[0m\u001b[0;34m[\u001b[0m\u001b[0mstep\u001b[0m\u001b[0;34m,\u001b[0m\u001b[0mcost\u001b[0m\u001b[0;34m]\u001b[0m\u001b[0;34m,\u001b[0m \u001b[0mfeed_dict\u001b[0m \u001b[0;34m=\u001b[0m \u001b[0;34m{\u001b[0m\u001b[0ma_0\u001b[0m\u001b[0;34m:\u001b[0m \u001b[0mbatch_xs\u001b[0m\u001b[0;34m,\u001b[0m \u001b[0my\u001b[0m \u001b[0;34m:\u001b[0m \u001b[0mbatch_ys\u001b[0m\u001b[0;34m}\u001b[0m\u001b[0;34m)\u001b[0m\u001b[0;34m\u001b[0m\u001b[0m\n\u001b[0m\u001b[1;32m     67\u001b[0m             \u001b[0;32mfor\u001b[0m \u001b[0mj\u001b[0m \u001b[0;32min\u001b[0m \u001b[0mrange\u001b[0m \u001b[0;34m(\u001b[0m\u001b[0;36m12\u001b[0m\u001b[0;34m)\u001b[0m\u001b[0;34m:\u001b[0m\u001b[0;34m\u001b[0m\u001b[0m\n\u001b[1;32m     68\u001b[0m                 \u001b[0mss\u001b[0m \u001b[0;34m=\u001b[0m \u001b[0;36m12\u001b[0m\u001b[0;34m\u001b[0m\u001b[0m\n",
      "\u001b[0;32m~/anaconda3/envs/iaenv/lib/python3.6/site-packages/tensorflow/python/client/session.py\u001b[0m in \u001b[0;36mrun\u001b[0;34m(self, fetches, feed_dict, options, run_metadata)\u001b[0m\n\u001b[1;32m    885\u001b[0m     \u001b[0;32mtry\u001b[0m\u001b[0;34m:\u001b[0m\u001b[0;34m\u001b[0m\u001b[0m\n\u001b[1;32m    886\u001b[0m       result = self._run(None, fetches, feed_dict, options_ptr,\n\u001b[0;32m--> 887\u001b[0;31m                          run_metadata_ptr)\n\u001b[0m\u001b[1;32m    888\u001b[0m       \u001b[0;32mif\u001b[0m \u001b[0mrun_metadata\u001b[0m\u001b[0;34m:\u001b[0m\u001b[0;34m\u001b[0m\u001b[0m\n\u001b[1;32m    889\u001b[0m         \u001b[0mproto_data\u001b[0m \u001b[0;34m=\u001b[0m \u001b[0mtf_session\u001b[0m\u001b[0;34m.\u001b[0m\u001b[0mTF_GetBuffer\u001b[0m\u001b[0;34m(\u001b[0m\u001b[0mrun_metadata_ptr\u001b[0m\u001b[0;34m)\u001b[0m\u001b[0;34m\u001b[0m\u001b[0m\n",
      "\u001b[0;32m~/anaconda3/envs/iaenv/lib/python3.6/site-packages/tensorflow/python/client/session.py\u001b[0m in \u001b[0;36m_run\u001b[0;34m(self, handle, fetches, feed_dict, options, run_metadata)\u001b[0m\n\u001b[1;32m   1080\u001b[0m \u001b[0;34m\u001b[0m\u001b[0m\n\u001b[1;32m   1081\u001b[0m           if (not is_tensor_handle_feed and\n\u001b[0;32m-> 1082\u001b[0;31m               not subfeed_t.get_shape().is_compatible_with(np_val.shape)):\n\u001b[0m\u001b[1;32m   1083\u001b[0m             raise ValueError('Cannot feed value of shape %r for Tensor %r, '\n\u001b[1;32m   1084\u001b[0m                              \u001b[0;34m'which has shape %r'\u001b[0m \u001b[0;34m%\u001b[0m\u001b[0;34m\u001b[0m\u001b[0m\n",
      "\u001b[0;32m~/anaconda3/envs/iaenv/lib/python3.6/site-packages/tensorflow/python/framework/tensor_shape.py\u001b[0m in \u001b[0;36mis_compatible_with\u001b[0;34m(self, other)\u001b[0m\n\u001b[1;32m    824\u001b[0m \u001b[0;34m\u001b[0m\u001b[0m\n\u001b[1;32m    825\u001b[0m     \"\"\"\n\u001b[0;32m--> 826\u001b[0;31m     \u001b[0mother\u001b[0m \u001b[0;34m=\u001b[0m \u001b[0mas_shape\u001b[0m\u001b[0;34m(\u001b[0m\u001b[0mother\u001b[0m\u001b[0;34m)\u001b[0m\u001b[0;34m\u001b[0m\u001b[0m\n\u001b[0m\u001b[1;32m    827\u001b[0m     \u001b[0;32mif\u001b[0m \u001b[0mself\u001b[0m\u001b[0;34m.\u001b[0m\u001b[0m_dims\u001b[0m \u001b[0;32mis\u001b[0m \u001b[0;32mnot\u001b[0m \u001b[0;32mNone\u001b[0m \u001b[0;32mand\u001b[0m \u001b[0mother\u001b[0m\u001b[0;34m.\u001b[0m\u001b[0mdims\u001b[0m \u001b[0;32mis\u001b[0m \u001b[0;32mnot\u001b[0m \u001b[0;32mNone\u001b[0m\u001b[0;34m:\u001b[0m\u001b[0;34m\u001b[0m\u001b[0m\n\u001b[1;32m    828\u001b[0m       \u001b[0;32mif\u001b[0m \u001b[0mself\u001b[0m\u001b[0;34m.\u001b[0m\u001b[0mndims\u001b[0m \u001b[0;34m!=\u001b[0m \u001b[0mother\u001b[0m\u001b[0;34m.\u001b[0m\u001b[0mndims\u001b[0m\u001b[0;34m:\u001b[0m\u001b[0;34m\u001b[0m\u001b[0m\n",
      "\u001b[0;32m~/anaconda3/envs/iaenv/lib/python3.6/site-packages/tensorflow/python/framework/tensor_shape.py\u001b[0m in \u001b[0;36mas_shape\u001b[0;34m(shape)\u001b[0m\n\u001b[1;32m    945\u001b[0m     \u001b[0;32mreturn\u001b[0m \u001b[0mshape\u001b[0m\u001b[0;34m\u001b[0m\u001b[0m\n\u001b[1;32m    946\u001b[0m   \u001b[0;32melse\u001b[0m\u001b[0;34m:\u001b[0m\u001b[0;34m\u001b[0m\u001b[0m\n\u001b[0;32m--> 947\u001b[0;31m     \u001b[0;32mreturn\u001b[0m \u001b[0mTensorShape\u001b[0m\u001b[0;34m(\u001b[0m\u001b[0mshape\u001b[0m\u001b[0;34m)\u001b[0m\u001b[0;34m\u001b[0m\u001b[0m\n\u001b[0m\u001b[1;32m    948\u001b[0m \u001b[0;34m\u001b[0m\u001b[0m\n\u001b[1;32m    949\u001b[0m \u001b[0;34m\u001b[0m\u001b[0m\n",
      "\u001b[0;32m~/anaconda3/envs/iaenv/lib/python3.6/site-packages/tensorflow/python/framework/tensor_shape.py\u001b[0m in \u001b[0;36m__init__\u001b[0;34m(self, dims)\u001b[0m\n\u001b[1;32m    505\u001b[0m   \"\"\"\n\u001b[1;32m    506\u001b[0m \u001b[0;34m\u001b[0m\u001b[0m\n\u001b[0;32m--> 507\u001b[0;31m   \u001b[0;32mdef\u001b[0m \u001b[0m__init__\u001b[0m\u001b[0;34m(\u001b[0m\u001b[0mself\u001b[0m\u001b[0;34m,\u001b[0m \u001b[0mdims\u001b[0m\u001b[0;34m)\u001b[0m\u001b[0;34m:\u001b[0m\u001b[0;34m\u001b[0m\u001b[0m\n\u001b[0m\u001b[1;32m    508\u001b[0m     \"\"\"Creates a new TensorShape with the given dimensions.\n\u001b[1;32m    509\u001b[0m \u001b[0;34m\u001b[0m\u001b[0m\n",
      "\u001b[0;31mKeyboardInterrupt\u001b[0m: "
     ]
    }
   ],
   "source": [
    "BackPropagation(20, 0.247295355366197,2.5*16,3,1,180)"
   ]
  },
  {
   "cell_type": "code",
   "execution_count": null,
   "metadata": {},
   "outputs": [],
   "source": [
    "z = main()\n",
    "#z = Fitness(5,z)\n",
    "\n"
   ]
  },
  {
   "cell_type": "code",
   "execution_count": null,
   "metadata": {},
   "outputs": [],
   "source": [
    "vars(z[0])"
   ]
  },
  {
   "cell_type": "code",
   "execution_count": null,
   "metadata": {},
   "outputs": [],
   "source": [
    "        lis =[]\n",
    "        for j in range(len(b[0].pesoSal)):\n",
    "            lis.append(b[0].pesoSal[j][0])\n",
    "        index = np.arange(len(lis))\n",
    "        plt.figure(epocas)\n",
    "        plt.bar(index,lis)"
   ]
  },
  {
   "cell_type": "code",
   "execution_count": null,
   "metadata": {},
   "outputs": [],
   "source": [
    "class ValidateBP:\n",
    "    def __init__(self, iteraciones, LR, neurons, window_size, dataRetoque, dataSalida, pesoEntrada, pesoEscondido, training):\n",
    "        iterations = iteraciones\n",
    "        LR = LR\n",
    "        neurons = int(neurons)\n",
    "        window_size = int(window_size)\n",
    "        pesoEnt = pesoEntrada\n",
    "        pesoHid = pesoEscondido\n",
    "        dataRetoque = dataRetoque\n",
    "        dataSalida = dataSalida\n",
    "        training =  training\n",
    "\n",
    "        #########################################################\n",
    "        a_0 = tf.placeholder(tf.float32, [1, 16])\n",
    "        y = tf.placeholder(tf.float32, [1, 1])\n",
    "        w_1 =  tf.Variable(pesoEntrada)\n",
    "        w_2 =  tf.Variable(pesoEscondido)\n",
    "        ##########################################################\n",
    "        def sigma(x):\n",
    "            return tf.div(tf.constant(1.0),\n",
    "                          tf.add(tf.constant(1.0), tf.exp(tf.negative(x))))\n",
    "\n",
    "        def sigmaprime(x):\n",
    "            return tf.multiply(sigma(x), tf.subtract(tf.constant(1.0), sigma(x)))\n",
    "\n",
    "        ##############################################################\n",
    "        z_1 = tf.matmul(a_0, w_1)\n",
    "        a_1 = sigma(z_1)\n",
    "        z_2 = tf.matmul(a_1, w_2)\n",
    "        a_2 = sigma(z_2)\n",
    "        diff = tf.subtract(a_2, y)\n",
    "        ###############################################################\n",
    "        d_z_2 = tf.multiply(diff, sigmaprime(z_2))\n",
    "        d_b_2 = d_z_2\n",
    "        d_w_2 = tf.matmul(tf.transpose(a_1), d_z_2)\n",
    "        d_a_1 = tf.matmul(d_z_2, tf.transpose(w_2))\n",
    "        d_z_1 = tf.multiply(d_a_1, sigmaprime(z_1))\n",
    "        d_b_1 = d_z_1\n",
    "        d_w_1 = tf.matmul(tf.transpose(a_0), d_z_1)\n",
    "        ###############################################################\n",
    "        eta = tf.constant(LR)\n",
    "        cost = tf.multiply(diff, diff)\n",
    "        cost = tf.sqrt(cost)\n",
    "        #step = tf.train.GradientDescentOptimizer(0.1).minimize(cost)\n",
    "        step = [\n",
    "            tf.assign(w_1,\n",
    "                    tf.subtract(w_1, tf.multiply(eta, d_w_1)))\n",
    "          , tf.assign(w_2,\n",
    "                    tf.subtract(w_2, tf.multiply(eta, d_w_2)))\n",
    "        ]\n",
    "        sess = tf.InteractiveSession()\n",
    "        sess.run(tf.global_variables_initializer())\n",
    "        df = pd.DataFrame(columns=['error'])\n",
    "        comp1=0\n",
    "        ##############################################################################################\n",
    "        if (training):\n",
    "            for i in range(iterations):\n",
    "                error_final = 0\n",
    "                batch_xs = dataRetoque\n",
    "                batch_ys = dataSalida\n",
    "                batch_xs = np.reshape(batch_xs,(1,16))\n",
    "                batch_ys = np.reshape(batch_ys,(1,1))\n",
    "                a,w1,w2 = sess.run([step,w_1,w_2], feed_dict = {a_0: batch_xs, y : batch_ys})\n",
    "                pesoEntrada = w_1\n",
    "                pesoEscondido = w_2\n",
    "            self.pesoEntrada = pesoEntrada.eval()\n",
    "            self.pesoEscondido = pesoEscondido.eval()\n",
    "        else:\n",
    "            error_final = 0\n",
    "            batch_xs = dataRetoque\n",
    "            batch_ys = dataSalida\n",
    "            batch_xs = np.reshape(batch_xs,(1,16))\n",
    "            batch_ys = np.reshape(batch_ys,(1,1))\n",
    "            a = sess.run([a_2], feed_dict = {a_0: batch_xs, y : batch_ys})\n",
    "            self.salida = a\n",
    "        sess.close()"
   ]
  },
  {
   "cell_type": "code",
   "execution_count": null,
   "metadata": {},
   "outputs": [],
   "source": [
    "def  llenarData(pesoEntrada2,pesoEscondido2):\n",
    "    pesoEntrada = tf.Variable(pesoEntrada2)\n",
    "    pesoEscondido = tf.Variable(pesoEscondido2)\n",
    "    data = pd.read_excel(\"4years-2013-2017.xls\", one_hot=True)\n",
    "    data = (data[\"Average\"])\n",
    "    data = np.array(data)/np.max(data)\n",
    "    valores = []\n",
    "    valoresVer =[]\n",
    "    for i in range(len(data) - 17):\n",
    "        dataRetoque = data[i:i+16]\n",
    "        dataSalida = data[i+16]\n",
    "        newBP =ValidateBP(50,0.3014546020839549, 2*16, 16, dataRetoque, dataSalida, pesoEntrada, pesoEscondido, True)\n",
    "        pesoEntrada=newBP.pesoEntrada\n",
    "        pesoEscondido=newBP.pesoEscondido\n",
    "        dataRetoque = data[i+1:i+17]\n",
    "        dataSalida = data[i+17]\n",
    "        salida = ValidateBP(50,00.3014546020839549, 2*16, 16, dataRetoque, dataSalida, pesoEntrada, pesoEscondido, False).salida\n",
    "        valores.append(salida[0][0][0])\n",
    "        valoresVer.append(dataSalida)\n",
    "        print(i)\n",
    "    return valores, valoresVer"
   ]
  },
  {
   "cell_type": "code",
   "execution_count": null,
   "metadata": {},
   "outputs": [],
   "source": [
    "a, b  = llenarData(z[0].pesoEnt,z[0].pesoSal)\n",
    "a = pd.DataFrame({'Prediccion':a})\n",
    "b = pd.DataFrame({'Real':b})\n",
    "data = pd.read_excel(\"4years-2013-2017.xls\", one_hot=True)\n",
    "data = (data[\"Average\"])\n",
    "maxi = np.max(data)\n",
    "a = a * maxi\n",
    "b = b * maxi\n",
    "c = pd.concat([a,b], axis = 1)\n",
    "c.plot()"
   ]
  },
  {
   "cell_type": "code",
   "execution_count": null,
   "metadata": {},
   "outputs": [],
   "source": [
    "b = a['Predicción']\n",
    "lista = []\n",
    "for i in b:\n",
    "    lista.append((i[0][0][0]))\n"
   ]
  },
  {
   "cell_type": "code",
   "execution_count": null,
   "metadata": {},
   "outputs": [],
   "source": [
    "lista2 = pd.DataFrame({'prediction':lista})\n",
    "lista2.plot()\n"
   ]
  },
  {
   "cell_type": "code",
   "execution_count": null,
   "metadata": {},
   "outputs": [],
   "source": [
    " intento = ValidateBP(20, 0.247295355366197,2.5*16,3,1,12,forGraph.pesosEnt, forGraph.pesosHid)"
   ]
  },
  {
   "cell_type": "code",
   "execution_count": null,
   "metadata": {},
   "outputs": [],
   "source": [
    "vars(intento)"
   ]
  },
  {
   "cell_type": "code",
   "execution_count": null,
   "metadata": {},
   "outputs": [],
   "source": [
    "z2 = Fitness(5,z)"
   ]
  },
  {
   "cell_type": "code",
   "execution_count": null,
   "metadata": {},
   "outputs": [],
   "source": [
    "vars(z2[2])"
   ]
  },
  {
   "cell_type": "code",
   "execution_count": null,
   "metadata": {},
   "outputs": [],
   "source": [
    "#2.5 20 0.012368505258660532\n",
    "forGraph=BackPropagation(20, 0.247295355366197,2.5*16,3,1,180)"
   ]
  },
  {
   "cell_type": "code",
   "execution_count": null,
   "metadata": {},
   "outputs": [],
   "source": [
    "vars(forGraph)"
   ]
  },
  {
   "cell_type": "code",
   "execution_count": null,
   "metadata": {},
   "outputs": [],
   "source": [
    "#precioBarril = pd.read_excel(\"precioBarril.xls\")\n",
    "#data = (precioBarril[\"Average\"])\n",
    "#print(np.max(data))"
   ]
  },
  {
   "cell_type": "markdown",
   "metadata": {},
   "source": [
    "# forGraph.resultado.plot()\n"
   ]
  },
  {
   "cell_type": "code",
   "execution_count": null,
   "metadata": {},
   "outputs": [],
   "source": [
    "forGraph.resultado.plot()"
   ]
  },
  {
   "cell_type": "code",
   "execution_count": null,
   "metadata": {},
   "outputs": [],
   "source": [
    "#print(0.170855*117.4)\n",
    "#print((0.168914794921875)/26)\n",
    "#print(81.730599844-61.9)"
   ]
  },
  {
   "cell_type": "code",
   "execution_count": null,
   "metadata": {},
   "outputs": [],
   "source": [
    "i = [1]\n",
    "i.append(2)\n",
    "i"
   ]
  }
 ],
 "metadata": {
  "kernelspec": {
   "display_name": "Python 3",
   "language": "python",
   "name": "python3"
  },
  "language_info": {
   "codemirror_mode": {
    "name": "ipython",
    "version": 3
   },
   "file_extension": ".py",
   "mimetype": "text/x-python",
   "name": "python",
   "nbconvert_exporter": "python",
   "pygments_lexer": "ipython3",
   "version": "3.6.8"
  }
 },
 "nbformat": 4,
 "nbformat_minor": 2
}
